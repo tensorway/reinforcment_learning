{
 "cells": [
  {
   "cell_type": "code",
   "execution_count": 2,
   "metadata": {},
   "outputs": [],
   "source": [
    "import gym\n",
    "import time\n",
    "import cv2\n",
    "import numpy as np\n",
    "import matplotlib.pyplot as plt\n",
    "import torch\n",
    "import torch.nn as nn\n",
    "import torch.nn.functional as F\n",
    "from pprint import pprint\n",
    "import utils\n",
    "import torch\n",
    "from torch.utils.tensorboard import SummaryWriter\n",
    "writer = SummaryWriter()"
   ]
  },
  {
   "cell_type": "code",
   "execution_count": null,
   "metadata": {},
   "outputs": [],
   "source": []
  },
  {
   "cell_type": "code",
   "execution_count": 5,
   "metadata": {},
   "outputs": [
    {
     "name": "stdout",
     "output_type": "stream",
     "text": [
      "torch.Size([200, 1]) torch.Size([200, 3]) torch.Size([200, 1]) torch.Size([200, 1]) torch.Size([200, 3]) torch.Size([200, 1]) torch.Size([200, 1])\n",
      "torch.Size([200, 1]) torch.Size([200, 3]) torch.Size([200, 1]) torch.Size([200, 1]) torch.Size([200, 3]) torch.Size([200, 1]) torch.Size([200, 1])\n"
     ]
    }
   ],
   "source": [
    "class Env():\n",
    "    def __init__(self, envname='Pendulum-v0'):\n",
    "        self.env = gym.make(envname)\n",
    "        self.obs = self.env.reset()\n",
    "        self.fix_obs()\n",
    "    def step(self, act):\n",
    "        a, other = act(self.obs)\n",
    "        old_obs = self.obs\n",
    "        obs, r, d, _ = self.env.step(a.squeeze(0))\n",
    "        r = torch.tensor([[r]], dtype=torch.float)\n",
    "        d = torch.tensor([[d]], dtype=torch.float)\n",
    "        self.obs = obs\n",
    "        self.fix_obs()\n",
    "        obs = self.obs\n",
    "        if d.item() > 1e-5:\n",
    "            self.obs = self.env.reset()\n",
    "            self.fix_obs()\n",
    "        #elf.env.render()\n",
    "        \n",
    "        return old_obs, obs, r, d, a, other\n",
    "    def fix_obs(self):\n",
    "        try:\n",
    "            self.obs.shape[1]\n",
    "        except:\n",
    "            self.obs = np.expand_dims(self.obs, axis=0)\n",
    "    \n",
    "class Envs():\n",
    "    def __init__(self, n_envs=200):\n",
    "        self.envs = [Env() for i in range(n_envs)]\n",
    "        self.n_envs = n_envs\n",
    "    def step(self, pi, debug=False):\n",
    "        old_obs, obs, r, d, a, (logprob, smpl, _) = self.envs[0].step(pi)\n",
    "        for env in self.envs[1:]:\n",
    "            old_obst, obst, rt, dt, at, (logprobt, smplt, _) = env.step(pi)\n",
    "            try:\n",
    "                old_obs = np.concatenate((old_obs, old_obst), axis=0)\n",
    "            except:\n",
    "                print(old_obs.shape, old_obst.shape)\n",
    "                old_obs = np.concatenate((old_obs, old_obst), axis=0)\n",
    "            obs     = np.concatenate((obs, obst), axis=0)\n",
    "            r = torch.cat((r, rt), dim=0)\n",
    "            d = torch.cat((d, dt), dim=0)\n",
    "            a = np.concatenate((a, at), axis=0)\n",
    "            logprob = torch.cat((logprob, logprobt), dim=0)\n",
    "            smpl = torch.cat((smpl, smplt), dim=0)\n",
    "            \n",
    "        old_obs = torch.tensor(old_obs, dtype=torch.float).detach()\n",
    "        obs     = torch.tensor(obs, dtype=torch.float).detach()\n",
    "        a = torch.tensor(a, dtype=torch.float).detach()\n",
    "        logprob = logprob.unsqueeze(-1)\n",
    "        if debug:\n",
    "            print(smpl.shape, old_obs.shape, a.shape, r.shape, obs.shape, d.shape, logprob.shape)\n",
    "        return old_obs, a, r, obs, d, smpl, logprob\n",
    "    def evenout(self):\n",
    "        pi = lambda x:(np.array([[0]]), -1)\n",
    "        for i, env in enumerate(self.envs):\n",
    "            print(i, \"/\", self.n_envs, end='\\r')\n",
    "            for j in range(i+2):\n",
    "#                 print(i, j)\n",
    "                _ = env.step(pi)\n",
    "            \n",
    "        \n",
    "        \n",
    "    \n",
    "import gym\n",
    "import numpy as np\n",
    "envs1 = Envs()\n",
    "envs1.evenout()\n",
    "old_obs, a, r, obs, d, smpls, logprobs = envs1.step(agent.act, debug=True)\n",
    "old_obs, a, r, obs, d, smpls, logprobs = envs1.step(agent.act, debug=True)\n",
    "# print(\"0bs1\", obs, \"\\noldobs1\", old_obs)\n",
    "# old_obs, a, r, obs, d, _, _ = envs.step(agent.act, debug=True)\n",
    "# print(\"obs2\", obs, \"\\noldobs2\", old_obs)\n",
    "# old_obs, a, r, obs, d, _, _ = envs.step(agent.act, debug=True)"
   ]
  },
  {
   "cell_type": "code",
   "execution_count": 3,
   "metadata": {},
   "outputs": [],
   "source": [
    "class Agent(nn.Module):\n",
    "    def __init__(self, idim, h1dim, odim, nbins=20):\n",
    "        super().__init__()\n",
    "        self.lin1 = nn.Linear(idim, h1dim)\n",
    "        self.lin2 = nn.Linear(h1dim, nbins*odim)\n",
    "        self.nbins = nbins\n",
    "        self.odim = odim\n",
    "        mmax = 200000\n",
    "        l = list(range(-mmax, mmax, 2*mmax//nbins))\n",
    "        self.cvt = torch.tensor(l, dtype=torch.float) / mmax * 2\n",
    "        print(self.cvt)\n",
    "    def forward(self, x):\n",
    "        h = self.lin1(x)\n",
    "        h = F.relu(h)\n",
    "        h = self.lin2(h)\n",
    "        h = h.view(h.shape[0], -1, self.nbins)\n",
    "        h = torch.softmax(h, dim=-1)\n",
    "        return h\n",
    "    def act(self, o, smpl=None):\n",
    "        o = torch.tensor(o, dtype=torch.float)\n",
    "#         if o.shape[-1] == 1:\n",
    "#             o = o.squeeze(-1)\n",
    "#         print(o.shape)\n",
    "        h = self.forward(o)\n",
    "        dis = torch.distributions.Categorical(h)\n",
    "        if smpl == None:\n",
    "            smpl = dis.sample()\n",
    "        a = self.cvt[smpl.long()].detach().numpy()\n",
    "        if a.shape == np.array(1).shape:\n",
    "            a = np.array([a])\n",
    "        #print(\"logprob\", dis.log_prob(smpl).shape)\n",
    "        return a, (dis.log_prob(smpl).sum(dim=-1), smpl, h)\n",
    "    \n",
    "class Critic(nn.Module):\n",
    "    def __init__(self, idim, h1dim, odim):\n",
    "        super().__init__()\n",
    "        self.lin1 = nn.Linear(idim, h1dim)\n",
    "        self.lin2 = nn.Linear(h1dim, odim)\n",
    "    def forward(self, x):\n",
    "        x = torch.tensor(x, dtype=torch.float)\n",
    "        h = self.lin1(x)\n",
    "        h = F.relu(h)\n",
    "        h = self.lin2(h)\n",
    "        return h"
   ]
  },
  {
   "cell_type": "code",
   "execution_count": null,
   "metadata": {},
   "outputs": [],
   "source": []
  },
  {
   "cell_type": "code",
   "execution_count": 4,
   "metadata": {},
   "outputs": [
    {
     "name": "stdout",
     "output_type": "stream",
     "text": [
      "1\n",
      "tensor([-2.0000, -1.5000, -1.0000, -0.5000,  0.0000,  0.5000,  1.0000,  1.5000])\n"
     ]
    },
    {
     "data": {
      "text/plain": [
       "((1, 1), torch.Size([1]), torch.Size([1, 1]), torch.Size([1, 1, 8]))"
      ]
     },
     "execution_count": 4,
     "metadata": {},
     "output_type": "execute_result"
    }
   ],
   "source": [
    "env = gym.make('Pendulum-v0')\n",
    "idim = env.observation_space.shape[0]\n",
    "odim = env.action_space.shape[0]\n",
    "print(odim)\n",
    "agent = Agent(idim, 10, odim, 8)\n",
    "critic = Critic(idim, 10, 1)\n",
    "\n",
    "rvec = np.random.randn(1, idim)\n",
    "a, (p, _, h) = agent.act(rvec)\n",
    "a2, __ = agent.act(rvec, _)\n",
    "a.shape, p.shape, _.shape, h.shape"
   ]
  },
  {
   "cell_type": "code",
   "execution_count": 49,
   "metadata": {},
   "outputs": [
    {
     "name": "stdout",
     "output_type": "stream",
     "text": [
      "198 /200\r"
     ]
    }
   ],
   "source": [
    "def showit():\n",
    "    observation = env.reset()\n",
    "    for t in range(200):\n",
    "            env.render()\n",
    "            obser = np.expand_dims(observation, axis=0)\n",
    "            action, _= agent.act(obser)\n",
    "            #print(action, _)\n",
    "            observation, reward, done, info = env.step(action.squeeze(0))\n",
    "            if done:\n",
    "                break\n",
    "            time.sleep(0.005)\n",
    "            print(t, \"/200\", end='\\r')\n",
    "showit()\n",
    "\n",
    "env.close()\n",
    "cv2.destroyAllWindows()"
   ]
  },
  {
   "cell_type": "code",
   "execution_count": null,
   "metadata": {},
   "outputs": [],
   "source": []
  },
  {
   "cell_type": "code",
   "execution_count": 44,
   "metadata": {},
   "outputs": [
    {
     "name": "stdout",
     "output_type": "stream",
     "text": [
      "tensor([-2.0000, -1.6000, -1.2000, -0.8000, -0.4000,  0.0000,  0.4000,  0.8000,\n",
      "         1.2000,  1.6000])\n"
     ]
    }
   ],
   "source": [
    "sid = 10\n",
    "torch.manual_seed(sid)\n",
    "np.random.seed(sid)\n",
    "idim = env.observation_space.shape[0]\n",
    "odim = env.action_space.shape[0]\n",
    "agent = Agent(idim, 10, odim, 10)\n",
    "critic = Critic(idim, 10, 1)\n",
    "copt = torch.optim.Adam(critic.parameters(), lr=2e-3)\n",
    "aopt = torch.optim.Adam(agent.parameters() , lr=5e-2)\n",
    "import copy\n",
    "tcritic = copy.deepcopy(critic)"
   ]
  },
  {
   "cell_type": "code",
   "execution_count": 45,
   "metadata": {},
   "outputs": [],
   "source": [
    "env.close()\n",
    "cv2.destroyAllWindows()\n",
    "gamma = 0.9\n",
    "\n",
    "gmm = torch.zeros(200, 200, dtype=torch.float)\n",
    "for i in range(gmm.shape[0]):\n",
    "    umn = 1\n",
    "    for j in range(i, gmm.shape[1]):\n",
    "        gmm[i, j] = umn\n",
    "        umn *= gamma"
   ]
  },
  {
   "cell_type": "code",
   "execution_count": 50,
   "metadata": {},
   "outputs": [
    {
     "name": "stdout",
     "output_type": "stream",
     "text": [
      "ep=0.00000   loss=0.47790   TD=1.88094   rmean=-6.15760   l1=0.45514   l2=2.89093   emul=0.50000   clip=0.01257   \n"
     ]
    },
    {
     "name": "stderr",
     "output_type": "stream",
     "text": [
      "<ipython-input-3-2dd26265744c>:40: UserWarning: To copy construct from a tensor, it is recommended to use sourceTensor.clone().detach() or sourceTensor.clone().detach().requires_grad_(True), rather than torch.tensor(sourceTensor).\n",
      "  x = torch.tensor(x, dtype=torch.float)\n",
      "<ipython-input-3-2dd26265744c>:20: UserWarning: To copy construct from a tensor, it is recommended to use sourceTensor.clone().detach() or sourceTensor.clone().detach().requires_grad_(True), rather than torch.tensor(sourceTensor).\n",
      "  o = torch.tensor(o, dtype=torch.float)\n"
     ]
    },
    {
     "name": "stdout",
     "output_type": "stream",
     "text": [
      "ep=10.00000   loss=0.42545   TD=1.69119   rmean=-6.11981   l1=0.40529   l2=2.85828   emul=0.49500   clip=0.07111   \n",
      "ep=20.00000   loss=0.43119   TD=1.57886   rmean=-6.11617   l1=0.41094   l2=2.86402   emul=0.49000   clip=0.09610   \n",
      "ep=30.00000   loss=0.47726   TD=1.53382   rmean=-6.13256   l1=0.45507   l2=3.05220   emul=0.48500   clip=0.06075   \n",
      "ep=40.00000   loss=0.60983   TD=1.55363   rmean=-6.16877   l1=0.58176   l2=3.11078   emul=0.48000   clip=0.01618   \n",
      "ep=50.00000   loss=0.59819   TD=1.56519   rmean=-6.20305   l1=0.57090   l2=3.15020   emul=0.47500   clip=0.06377   \n",
      "ep=60.00000   loss=0.80639   TD=1.56479   rmean=-6.22939   l1=0.77002   l2=3.23590   emul=0.47000   clip=0.04987   \n",
      "ep=70.00000   loss=0.82089   TD=1.55397   rmean=-6.29707   l1=0.78423   l2=3.60727   emul=0.46500   clip=0.05507   \n",
      "ep=80.00000   loss=1.19276   TD=1.51246   rmean=-6.35116   l1=1.14004   l2=3.55725   emul=0.46000   clip=0.12406   \n",
      "ep=90.00000   loss=1.13251   TD=1.44102   rmean=-6.41184   l1=1.08294   l2=3.42120   emul=0.45500   clip=0.08429   \n",
      "ep=100.00000   loss=1.28796   TD=1.41814   rmean=-6.48296   l1=1.23217   l2=3.13316   emul=0.45000   clip=0.14367   \n",
      "ep=110.00000   loss=1.06842   TD=1.40301   rmean=-6.51931   l1=1.02260   l2=2.91468   emul=0.44500   clip=0.08383   \n",
      "ep=120.00000   loss=1.18570   TD=1.39126   rmean=-6.51168   l1=1.13542   l2=2.84328   emul=0.44000   clip=0.12757   \n",
      "ep=130.00000   loss=0.98969   TD=1.42179   rmean=-6.56319   l1=0.94816   l2=2.85046   emul=0.43500   clip=0.12538   \n",
      "ep=140.00000   loss=1.10233   TD=1.41119   rmean=-6.56644   l1=1.05660   l2=2.71873   emul=0.43000   clip=0.18707   \n",
      "ep=150.00000   loss=0.85636   TD=1.39076   rmean=-6.58649   l1=0.82120   l2=2.69274   emul=0.42500   clip=0.14496   \n",
      "ep=160.00000   loss=1.11037   TD=1.37147   rmean=-6.59502   l1=1.06534   l2=2.69626   emul=0.42000   clip=0.13128   \n",
      "ep=170.00000   loss=0.86370   TD=1.36281   rmean=-6.64665   l1=0.82903   l2=2.63506   emul=0.41500   clip=0.10111   \n",
      "ep=180.00000   loss=1.04635   TD=1.36740   rmean=-6.59450   l1=1.00489   l2=2.66250   emul=0.41000   clip=0.10779   \n",
      "ep=190.00000   loss=0.99461   TD=1.36942   rmean=-6.65204   l1=0.95563   l2=2.64046   emul=0.40500   clip=0.14817   \n",
      "ep=200.00000   loss=1.17071   TD=1.34527   rmean=-6.64759   l1=1.12541   l2=2.72013   emul=0.40000   clip=0.10591   \n",
      "ep=210.00000   loss=0.84896   TD=1.32593   rmean=-6.69022   l1=0.81644   l2=3.14574   emul=0.39500   clip=0.09314   \n",
      "ep=220.00000   loss=1.17570   TD=1.28553   rmean=-6.61836   l1=1.13132   l2=3.45010   emul=0.39000   clip=0.04939   \n",
      "ep=230.00000   loss=1.23773   TD=1.26071   rmean=-6.71173   l1=1.19152   l2=3.28612   emul=0.38500   clip=0.14246   \n",
      "ep=240.00000   loss=1.44113   TD=1.24701   rmean=-6.71743   l1=1.38803   l2=3.19920   emul=0.38000   clip=0.14497   \n",
      "196 /200\r"
     ]
    },
    {
     "ename": "KeyboardInterrupt",
     "evalue": "",
     "output_type": "error",
     "traceback": [
      "\u001b[0;31m---------------------------------------------------------------------------\u001b[0m",
      "\u001b[0;31mKeyboardInterrupt\u001b[0m                         Traceback (most recent call last)",
      "\u001b[0;32m<ipython-input-50-6f40de5aa5a6>\u001b[0m in \u001b[0;36m<module>\u001b[0;34m\u001b[0m\n\u001b[1;32m     51\u001b[0m         \u001b[0mmprint\u001b[0m\u001b[0;34m(\u001b[0m\u001b[0;34m\"ep\"\u001b[0m\u001b[0;34m,\u001b[0m \u001b[0mep\u001b[0m\u001b[0;34m,\u001b[0m \u001b[0;34m\"loss\"\u001b[0m\u001b[0;34m,\u001b[0m \u001b[0mlplo\u001b[0m\u001b[0;34m.\u001b[0m\u001b[0mval\u001b[0m\u001b[0;34m,\u001b[0m \u001b[0;34m\"TD\"\u001b[0m\u001b[0;34m,\u001b[0m \u001b[0mlptd\u001b[0m\u001b[0;34m.\u001b[0m\u001b[0mval\u001b[0m\u001b[0;34m,\u001b[0m \u001b[0;34m\"rmean\"\u001b[0m\u001b[0;34m,\u001b[0m \u001b[0mlpr\u001b[0m\u001b[0;34m.\u001b[0m\u001b[0mval\u001b[0m\u001b[0;34m,\u001b[0m \u001b[0;34m\"l1\"\u001b[0m\u001b[0;34m,\u001b[0m \u001b[0mlpl1\u001b[0m\u001b[0;34m.\u001b[0m\u001b[0mval\u001b[0m\u001b[0;34m,\u001b[0m \u001b[0;34m\"l2\"\u001b[0m\u001b[0;34m,\u001b[0m \u001b[0mlpl2\u001b[0m\u001b[0;34m.\u001b[0m\u001b[0mval\u001b[0m\u001b[0;34m,\u001b[0m \u001b[0;34m\"emul\"\u001b[0m\u001b[0;34m,\u001b[0m \u001b[0mentropymul\u001b[0m\u001b[0;34m,\u001b[0m \u001b[0;34m\"clip\"\u001b[0m\u001b[0;34m,\u001b[0m \u001b[0mlpclip\u001b[0m\u001b[0;34m.\u001b[0m\u001b[0mval\u001b[0m\u001b[0;34m)\u001b[0m\u001b[0;34m\u001b[0m\u001b[0;34m\u001b[0m\u001b[0m\n\u001b[1;32m     52\u001b[0m     \u001b[0;32mif\u001b[0m \u001b[0mep\u001b[0m\u001b[0;34m%\u001b[0m\u001b[0;36m40\u001b[0m\u001b[0;34m==\u001b[0m\u001b[0;36m0\u001b[0m\u001b[0;34m:\u001b[0m\u001b[0;34m\u001b[0m\u001b[0;34m\u001b[0m\u001b[0m\n\u001b[0;32m---> 53\u001b[0;31m         \u001b[0mshowit\u001b[0m\u001b[0;34m(\u001b[0m\u001b[0;34m)\u001b[0m\u001b[0;34m\u001b[0m\u001b[0;34m\u001b[0m\u001b[0m\n\u001b[0m\u001b[1;32m     54\u001b[0m     \u001b[0mpolyak\u001b[0m\u001b[0;34m(\u001b[0m\u001b[0mcritic\u001b[0m\u001b[0;34m,\u001b[0m \u001b[0mtcritic\u001b[0m\u001b[0;34m,\u001b[0m \u001b[0;36m1\u001b[0m\u001b[0;34m-\u001b[0m\u001b[0;36m1\u001b[0m\u001b[0;34m/\u001b[0m\u001b[0;36m200\u001b[0m\u001b[0;34m)\u001b[0m\u001b[0;34m\u001b[0m\u001b[0;34m\u001b[0m\u001b[0m\n\u001b[1;32m     55\u001b[0m \u001b[0;31m#     if ep%40==0:\u001b[0m\u001b[0;34m\u001b[0m\u001b[0;34m\u001b[0m\u001b[0;34m\u001b[0m\u001b[0m\n",
      "\u001b[0;32m<ipython-input-49-1c3b04891b23>\u001b[0m in \u001b[0;36mshowit\u001b[0;34m()\u001b[0m\n\u001b[1;32m      9\u001b[0m             \u001b[0;32mif\u001b[0m \u001b[0mdone\u001b[0m\u001b[0;34m:\u001b[0m\u001b[0;34m\u001b[0m\u001b[0;34m\u001b[0m\u001b[0m\n\u001b[1;32m     10\u001b[0m                 \u001b[0;32mbreak\u001b[0m\u001b[0;34m\u001b[0m\u001b[0;34m\u001b[0m\u001b[0m\n\u001b[0;32m---> 11\u001b[0;31m             \u001b[0mtime\u001b[0m\u001b[0;34m.\u001b[0m\u001b[0msleep\u001b[0m\u001b[0;34m(\u001b[0m\u001b[0;36m0.005\u001b[0m\u001b[0;34m)\u001b[0m\u001b[0;34m\u001b[0m\u001b[0;34m\u001b[0m\u001b[0m\n\u001b[0m\u001b[1;32m     12\u001b[0m             \u001b[0mprint\u001b[0m\u001b[0;34m(\u001b[0m\u001b[0mt\u001b[0m\u001b[0;34m,\u001b[0m \u001b[0;34m\"/200\"\u001b[0m\u001b[0;34m,\u001b[0m \u001b[0mend\u001b[0m\u001b[0;34m=\u001b[0m\u001b[0;34m'\\r'\u001b[0m\u001b[0;34m)\u001b[0m\u001b[0;34m\u001b[0m\u001b[0;34m\u001b[0m\u001b[0m\n\u001b[1;32m     13\u001b[0m \u001b[0mshowit\u001b[0m\u001b[0;34m(\u001b[0m\u001b[0;34m)\u001b[0m\u001b[0;34m\u001b[0m\u001b[0;34m\u001b[0m\u001b[0m\n",
      "\u001b[0;31mKeyboardInterrupt\u001b[0m: "
     ]
    }
   ],
   "source": [
    "mean_rs = []; mean_td = []; mean_loss = []\n",
    "eps = 300000\n",
    "lptd =  LowPassFilter(1-1/50)\n",
    "lplo = LowPassFilter(1-1/50)\n",
    "lpr  = LowPassFilter(1-1/50)\n",
    "lpl1 = LowPassFilter(1-1/50)\n",
    "lpl2 = LowPassFilter(1-1/50)\n",
    "lpclip = LowPassFilter(1-1/30)\n",
    "\n",
    "envs = Envs(200)\n",
    "envs.evenout()\n",
    "\n",
    "torch.set_printoptions(edgeitems=3000)\n",
    "for ep in range(eps):\n",
    "    old_obs, a, r, obs, d, smpls, oldprobs = envs.step(agent.act, debug=False)\n",
    "    mean_rs.append(r.mean().item())\n",
    "    lpr.step(mean_rs[-1])\n",
    "    if lpr.val > -1.91:\n",
    "        print(\"over in \", ep, \"steps, last mean reward is\", mean_rs[-1], \" current mean reward is\", lpr.val)\n",
    "        print(lpr.val)\n",
    "        break\n",
    "    \n",
    "    entropymul = max(max(1-ep/1000, 0.35)*0.5, 0.3)\n",
    "    adv = r + gamma*tcritic(obs).detach() - tcritic(old_obs).detach()\n",
    "    if lptd.val<10:\n",
    "        for i in range(8):\n",
    "            _, (newprobs, _, ps) = agent.act(old_obs, smpl=smpls)\n",
    "            ratio = torch.exp(newprobs.unsqueeze(-1)-oldprobs.detach())\n",
    "            radv = ratio*adv\n",
    "            e= 0.1\n",
    "            l1 = -torch.min(radv, torch.clamp(ratio, 1-e, 1+e)*adv).mean()\n",
    "            clipped = (ratio != torch.clamp(ratio, 1-e, 1+e)).float().mean()\n",
    "    #         print(clipped, radv, torch.clamp(radv, 1-e, 1+e))\n",
    "            lpclip.step(clipped.item())\n",
    "            l2 = -torch.log(ps+1e-8).mean()\n",
    "            loss = l1 + torch.abs(l1.detach()/l2.detach())*l2*entropymul*0.1\n",
    "            aopt.zero_grad()\n",
    "            loss.backward()\n",
    "            aopt.step()\n",
    "            lpl1.step(l1.item()); lpl2.step(l2.item())\n",
    "            lplo.step(loss.item()); mean_loss.append(lplo.val)\n",
    "        \n",
    "    for i in range(4):\n",
    "        td_error = ((r - critic(old_obs) + gamma*tcritic(obs).detach())**2).mean()\n",
    "        copt.zero_grad()\n",
    "        td_error.backward()\n",
    "        copt.step()\n",
    "        lptd.step(torch.sqrt(td_error).item()); mean_td.append(lptd.val)\n",
    "        \n",
    "    if ep%10==0:\n",
    "        mprint(\"ep\", ep, \"loss\", lplo.val, \"TD\", lptd.val, \"rmean\", lpr.val, \"l1\", lpl1.val, \"l2\", lpl2.val, \"emul\", entropymul, \"clip\", lpclip.val)\n",
    "    if ep%40==0:\n",
    "        showit()\n",
    "    polyak(critic, tcritic, 1-1/200)\n",
    "#     if ep%40==0:\n",
    "#         tcritic = copy.deepcopy(critic)\n",
    "    \n",
    "    \n",
    "env.close()\n",
    "cv2.destroyAllWindows()"
   ]
  },
  {
   "cell_type": "code",
   "execution_count": 22,
   "metadata": {},
   "outputs": [
    {
     "data": {
      "text/plain": [
       "Text(0, 0.5, 'mean loss')"
      ]
     },
     "execution_count": 22,
     "metadata": {},
     "output_type": "execute_result"
    },
    {
     "data": {
      "image/png": "[encoded data removed]",
      "text/plain": [
       "<Figure size 432x288 with 3 Axes>"
      ]
     },
     "metadata": {
      "needs_background": "light"
     },
     "output_type": "display_data"
    }
   ],
   "source": [
    "plt.subplot(3, 1, 1)\n",
    "plt.plot(mean_rs, \"r\")\n",
    "plt.ylabel('mean_rs')\n",
    "plt.subplot(3, 1, 2)\n",
    "plt.plot(mean_td[300:], \"r\")\n",
    "plt.ylabel(\"mean td\")\n",
    "plt.subplot(3, 1, 3)\n",
    "plt.plot(mean_loss, \"r\")\n",
    "plt.ylabel(\"mean loss\")"
   ]
  },
  {
   "cell_type": "code",
   "execution_count": 107,
   "metadata": {},
   "outputs": [],
   "source": [
    "torch.save(agent.state_dict(), \"agent.ph\")\n",
    "torch.save(critic.state_dict(), \"critic.ph\")"
   ]
  },
  {
   "cell_type": "code",
   "execution_count": 108,
   "metadata": {},
   "outputs": [
    {
     "data": {
      "text/plain": [
       "<All keys matched successfully>"
      ]
     },
     "execution_count": 108,
     "metadata": {},
     "output_type": "execute_result"
    }
   ],
   "source": [
    "agent.load_state_dict(torch.load(\"agent.ph\"))\n",
    "critic.load_state_dict(torch.load(\"critic.ph\"))"
   ]
  },
  {
   "cell_type": "code",
   "execution_count": 12,
   "metadata": {},
   "outputs": [],
   "source": [
    "def polyak(a, b, alfa=0.99):\n",
    "    for namea, parama in a.named_parameters():\n",
    "        for nameb, paramb in b.named_parameters():\n",
    "            if namea == nameb:\n",
    "                paramb.data = paramb.data*alfa + parama.data*(1-alfa)\n",
    "    return b"
   ]
  },
  {
   "cell_type": "code",
   "execution_count": 13,
   "metadata": {},
   "outputs": [],
   "source": [
    "def mprint(*args):\n",
    "    pr = \"\"\n",
    "    args = [[args[i*2], args[i*2+1]] for i in range(len(args)//2)]\n",
    "    for name, arg in args:\n",
    "        if name == None:\n",
    "            name = \"nnone\"\n",
    "        pr += name + \"=\"\n",
    "        if type(arg) == int:\n",
    "            arg = float(arg)\n",
    "        try:\n",
    "            arg = arg.item()\n",
    "        except:\n",
    "            nista = True\n",
    "        if type(arg) == float:\n",
    "            pr += format(arg, '5.5f') + \"   \"\n",
    "        else:\n",
    "            pr += str(arg) + \"   \"\n",
    "    print(pr)"
   ]
  },
  {
   "cell_type": "code",
   "execution_count": null,
   "metadata": {},
   "outputs": [],
   "source": []
  },
  {
   "cell_type": "code",
   "execution_count": 14,
   "metadata": {},
   "outputs": [],
   "source": [
    "class LowPassFilter():\n",
    "    def __init__(self, alfa):\n",
    "        self.init_value = -123456\n",
    "        self.val = self.init_value\n",
    "        self.alfa = alfa\n",
    "        self.notbin = True\n",
    "    def step(self, newval):\n",
    "        if self.notbin:\n",
    "            self.val = newval\n",
    "            self.notbin = False\n",
    "        self.val = self.val*self.alfa + newval*(1-self.alfa)"
   ]
  },
  {
   "cell_type": "code",
   "execution_count": null,
   "metadata": {
    "collapsed": true,
    "jupyter": {
     "outputs_hidden": true
    }
   },
   "outputs": [],
   "source": []
  },
  {
   "cell_type": "code",
   "execution_count": null,
   "metadata": {},
   "outputs": [],
   "source": []
  },
  {
   "cell_type": "code",
   "execution_count": null,
   "metadata": {
    "collapsed": true,
    "jupyter": {
     "outputs_hidden": true
    }
   },
   "outputs": [],
   "source": []
  },
  {
   "cell_type": "code",
   "execution_count": null,
   "metadata": {
    "collapsed": true,
    "jupyter": {
     "outputs_hidden": true
    }
   },
   "outputs": [],
   "source": []
  },
  {
   "cell_type": "code",
   "execution_count": null,
   "metadata": {},
   "outputs": [],
   "source": []
  }
 ],
 "metadata": {
  "kernelspec": {
   "display_name": "Python 3",
   "language": "python",
   "name": "python3"
  },
  "language_info": {
   "codemirror_mode": {
    "name": "ipython",
    "version": 3
   },
   "file_extension": ".py",
   "mimetype": "text/x-python",
   "name": "python",
   "nbconvert_exporter": "python",
   "pygments_lexer": "ipython3",
   "version": "3.8.2"
  }
 },
 "nbformat": 4,
 "nbformat_minor": 4
}
