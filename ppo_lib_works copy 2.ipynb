{
 "metadata": {
  "language_info": {
   "codemirror_mode": {
    "name": "ipython",
    "version": 3
   },
   "file_extension": ".py",
   "mimetype": "text/x-python",
   "name": "python",
   "nbconvert_exporter": "python",
   "pygments_lexer": "ipython3",
   "version": "3.8.2-final"
  },
  "orig_nbformat": 2,
  "kernelspec": {
   "name": "python38264bit41770f51cb494085b126429b02db281f",
   "display_name": "Python 3.8.2 64-bit"
  }
 },
 "nbformat": 4,
 "nbformat_minor": 2,
 "cells": [
  {
   "cell_type": "code",
   "execution_count": 23,
   "metadata": {
    "tags": []
   },
   "outputs": [
    {
     "output_type": "stream",
     "name": "stdout",
     "text": "126 / 128127 / 128"
    },
    {
     "output_type": "execute_result",
     "data": {
      "text/plain": "(8, 2)"
     },
     "metadata": {},
     "execution_count": 23
    }
   ],
   "source": [
    "import gym\n",
    "from myrl.environments import Envs\n",
    "from myrl.policies import GaussianPolicy\n",
    "from myrl.value_functions import ValueFunctionMLP, polyak\n",
    "from myrl.visualizer import showit\n",
    "from myrl.utils import ExperimentWriter, check_output, global_gradient_clip, list_gae, gae\n",
    "from myrl.buffers import ReplayBuffer\n",
    "from myrl.exploration import RandomNetworkBonus\n",
    "import torch\n",
    "import copy\n",
    "\n",
    "envname = 'LunarLanderContinuous-v2'\n",
    "# envname = 'Pendulum-v0'\n",
    "\n",
    "wll = ExperimentWriter('tb/ppo_lun_GAE_128_evenout___')\n",
    "env = gym.make(envname)\n",
    "idim = env.observation_space.shape[0]\n",
    "odim = env.action_space.shape[0]\n",
    "envs = Envs(envname, 128)\n",
    "envs.evenout(200)\n",
    "idim, odim\n"
   ]
  },
  {
   "cell_type": "code",
   "execution_count": 21,
   "metadata": {},
   "outputs": [],
   "source": [
    "env2 = gym.make('CartPole-v0')\n",
    "env2.observation_space.sample()\n",
    "wll = ExperimentWriter('tb/ppo_lun------------')\n"
   ]
  },
  {
   "cell_type": "code",
   "execution_count": 15,
   "metadata": {
    "tags": []
   },
   "outputs": [],
   "source": [
    "pi = GaussianPolicy([idim, 32, odim], std_start=1.1, std_min=0.1)\n",
    "vfunc = ValueFunctionMLP([idim, 256, 128, 1])\n",
    "tvfunc = copy.deepcopy(vfunc)"
   ]
  },
  {
   "cell_type": "code",
   "execution_count": 16,
   "metadata": {},
   "outputs": [],
   "source": [
    "bonus = RandomNetworkBonus([idim, 128, 1], [idim, 128, 1], lr=1e-4, opt_steps=1)"
   ]
  },
  {
   "cell_type": "code",
   "execution_count": 17,
   "metadata": {
    "tags": []
   },
   "outputs": [],
   "source": [
    "opt = torch.optim.Adam(pi.parameters(), lr=3e-4)\n",
    "copt = torch.optim.Adam(vfunc.parameters(), lr=1e-1)"
   ]
  },
  {
   "cell_type": "code",
   "execution_count": 20,
   "metadata": {},
   "outputs": [],
   "source": [
    "def add_list2list(l1, l):\n",
    "    for i in range(len(l)):\n",
    "        l[i].append(l1[i])\n",
    "\n",
    "pi.std = 0.9"
   ]
  },
  {
   "cell_type": "code",
   "execution_count": 22,
   "metadata": {
    "tags": []
   },
   "outputs": [
    {
     "output_type": "stream",
     "name": "stderr",
     "text": "/home/darijan/mujoco-py/myrl/policies.py:34: UserWarning: To copy construct from a tensor, it is recommended to use sourceTensor.clone().detach() or sourceTensor.clone().detach().requires_grad_(True), rather than torch.tensor(sourceTensor).\n  h = torch.tensor(x, dtype=torch.float)\n/home/darijan/.local/lib/python3.8/site-packages/torch/nn/functional.py:1558: UserWarning: nn.functional.tanh is deprecated. Use torch.tanh instead.\n  warnings.warn(\"nn.functional.tanh is deprecated. Use torch.tanh instead.\")\n"
    },
    {
     "output_type": "error",
     "ename": "AssertionError",
     "evalue": "IsLocked() == false",
     "traceback": [
      "\u001b[0;31m---------------------------------------------------------------------------\u001b[0m",
      "\u001b[0;31mAssertionError\u001b[0m                            Traceback (most recent call last)",
      "\u001b[0;32m<ipython-input-22-b6b09bd91a10>\u001b[0m in \u001b[0;36m<module>\u001b[0;34m\u001b[0m\n\u001b[1;32m      6\u001b[0m \u001b[0;34m\u001b[0m\u001b[0m\n\u001b[1;32m      7\u001b[0m \u001b[0;32mfor\u001b[0m \u001b[0mep\u001b[0m \u001b[0;32min\u001b[0m \u001b[0mrange\u001b[0m\u001b[0;34m(\u001b[0m\u001b[0;36m0\u001b[0m\u001b[0;34m,\u001b[0m \u001b[0meps\u001b[0m\u001b[0;34m)\u001b[0m\u001b[0;34m:\u001b[0m\u001b[0;34m\u001b[0m\u001b[0;34m\u001b[0m\u001b[0m\n\u001b[0;32m----> 8\u001b[0;31m     \u001b[0ml\u001b[0m \u001b[0;34m=\u001b[0m \u001b[0menvs\u001b[0m\u001b[0;34m.\u001b[0m\u001b[0mlist_rollout\u001b[0m\u001b[0;34m(\u001b[0m\u001b[0mpi\u001b[0m\u001b[0;34m.\u001b[0m\u001b[0mact\u001b[0m\u001b[0;34m,\u001b[0m \u001b[0mgamma\u001b[0m\u001b[0;34m=\u001b[0m\u001b[0mgamma\u001b[0m\u001b[0;34m,\u001b[0m \u001b[0mlength\u001b[0m\u001b[0;34m=\u001b[0m\u001b[0;36m10\u001b[0m\u001b[0;34m)\u001b[0m\u001b[0;34m\u001b[0m\u001b[0;34m\u001b[0m\u001b[0m\n\u001b[0m\u001b[1;32m      9\u001b[0m     \u001b[0mrss\u001b[0m \u001b[0;34m=\u001b[0m \u001b[0ml\u001b[0m\u001b[0;34m[\u001b[0m\u001b[0;36m0\u001b[0m\u001b[0;34m]\u001b[0m\u001b[0;34m[\u001b[0m\u001b[0;36m2\u001b[0m\u001b[0;34m]\u001b[0m\u001b[0;34m.\u001b[0m\u001b[0mmean\u001b[0m\u001b[0;34m(\u001b[0m\u001b[0;34m)\u001b[0m\u001b[0;34m.\u001b[0m\u001b[0mitem\u001b[0m\u001b[0;34m(\u001b[0m\u001b[0;34m)\u001b[0m\u001b[0;34m\u001b[0m\u001b[0;34m\u001b[0m\u001b[0m\n\u001b[1;32m     10\u001b[0m     \u001b[0madv\u001b[0m \u001b[0;34m=\u001b[0m \u001b[0mlist_gae\u001b[0m\u001b[0;34m(\u001b[0m\u001b[0ml\u001b[0m\u001b[0;34m,\u001b[0m \u001b[0mtvfunc\u001b[0m\u001b[0;34m,\u001b[0m \u001b[0mgamma\u001b[0m\u001b[0;34m,\u001b[0m \u001b[0mlmbda\u001b[0m\u001b[0;34m=\u001b[0m\u001b[0mlmbda\u001b[0m\u001b[0;34m)\u001b[0m\u001b[0;34m\u001b[0m\u001b[0;34m\u001b[0m\u001b[0m\n",
      "\u001b[0;32m~/mujoco-py/myrl/environments.py\u001b[0m in \u001b[0;36mlist_rollout\u001b[0;34m(self, pi, gamma, length, debug)\u001b[0m\n\u001b[1;32m    103\u001b[0m         \u001b[0ml\u001b[0m \u001b[0;34m=\u001b[0m \u001b[0;34m[\u001b[0m\u001b[0;34m]\u001b[0m\u001b[0;34m\u001b[0m\u001b[0;34m\u001b[0m\u001b[0m\n\u001b[1;32m    104\u001b[0m         \u001b[0;32mfor\u001b[0m \u001b[0mi\u001b[0m \u001b[0;32min\u001b[0m \u001b[0mrange\u001b[0m\u001b[0;34m(\u001b[0m\u001b[0mself\u001b[0m\u001b[0;34m.\u001b[0m\u001b[0mn_envs\u001b[0m\u001b[0;34m)\u001b[0m\u001b[0;34m:\u001b[0m\u001b[0;34m\u001b[0m\u001b[0;34m\u001b[0m\u001b[0m\n\u001b[0;32m--> 105\u001b[0;31m             \u001b[0mreturned\u001b[0m \u001b[0;34m=\u001b[0m \u001b[0mself\u001b[0m\u001b[0;34m.\u001b[0m\u001b[0mrollout\u001b[0m\u001b[0;34m(\u001b[0m\u001b[0mpi\u001b[0m\u001b[0;34m,\u001b[0m \u001b[0mgamma\u001b[0m\u001b[0;34m,\u001b[0m \u001b[0mlength\u001b[0m\u001b[0;34m,\u001b[0m \u001b[0mdebug\u001b[0m\u001b[0;34m,\u001b[0m \u001b[0mwhat\u001b[0m\u001b[0;34m=\u001b[0m\u001b[0;34m[\u001b[0m\u001b[0mself\u001b[0m\u001b[0;34m.\u001b[0m\u001b[0menvs\u001b[0m\u001b[0;34m[\u001b[0m\u001b[0mi\u001b[0m\u001b[0;34m]\u001b[0m\u001b[0;34m]\u001b[0m\u001b[0;34m)\u001b[0m\u001b[0;34m\u001b[0m\u001b[0;34m\u001b[0m\u001b[0m\n\u001b[0m\u001b[1;32m    106\u001b[0m             \u001b[0;32mfor\u001b[0m \u001b[0mr\u001b[0m \u001b[0;32min\u001b[0m \u001b[0mreturned\u001b[0m\u001b[0;34m:\u001b[0m\u001b[0;34m\u001b[0m\u001b[0;34m\u001b[0m\u001b[0m\n\u001b[1;32m    107\u001b[0m                 \u001b[0mr\u001b[0m\u001b[0;34m.\u001b[0m\u001b[0msqueeze_\u001b[0m\u001b[0;34m(\u001b[0m\u001b[0mdim\u001b[0m\u001b[0;34m=\u001b[0m\u001b[0;36m0\u001b[0m\u001b[0;34m)\u001b[0m\u001b[0;34m\u001b[0m\u001b[0;34m\u001b[0m\u001b[0m\n",
      "\u001b[0;32m~/mujoco-py/myrl/environments.py\u001b[0m in \u001b[0;36mrollout\u001b[0;34m(self, pi, gamma, length, debug, what)\u001b[0m\n\u001b[1;32m     85\u001b[0m         \u001b[0ml\u001b[0m \u001b[0;34m=\u001b[0m \u001b[0;34m[\u001b[0m\u001b[0;34m[\u001b[0m\u001b[0;34m]\u001b[0m \u001b[0;32mfor\u001b[0m \u001b[0mi\u001b[0m \u001b[0;32min\u001b[0m \u001b[0mrange\u001b[0m\u001b[0;34m(\u001b[0m\u001b[0;36m9\u001b[0m\u001b[0;34m)\u001b[0m\u001b[0;34m]\u001b[0m\u001b[0;34m\u001b[0m\u001b[0;34m\u001b[0m\u001b[0m\n\u001b[1;32m     86\u001b[0m         \u001b[0;32mfor\u001b[0m \u001b[0mstep\u001b[0m \u001b[0;32min\u001b[0m \u001b[0mrange\u001b[0m\u001b[0;34m(\u001b[0m\u001b[0mint\u001b[0m\u001b[0;34m(\u001b[0m\u001b[0mlength\u001b[0m\u001b[0;34m)\u001b[0m\u001b[0;34m)\u001b[0m\u001b[0;34m:\u001b[0m\u001b[0;34m\u001b[0m\u001b[0;34m\u001b[0m\u001b[0m\n\u001b[0;32m---> 87\u001b[0;31m             \u001b[0ml2\u001b[0m \u001b[0;34m=\u001b[0m \u001b[0mself\u001b[0m\u001b[0;34m.\u001b[0m\u001b[0mstep\u001b[0m\u001b[0;34m(\u001b[0m\u001b[0mpi\u001b[0m\u001b[0;34m,\u001b[0m \u001b[0mdebug\u001b[0m\u001b[0;34m,\u001b[0m \u001b[0mwhat\u001b[0m\u001b[0;34m=\u001b[0m\u001b[0mwhat\u001b[0m\u001b[0;34m)\u001b[0m\u001b[0;34m\u001b[0m\u001b[0;34m\u001b[0m\u001b[0m\n\u001b[0m\u001b[1;32m     88\u001b[0m             \u001b[0;32mfor\u001b[0m \u001b[0mi\u001b[0m\u001b[0;34m,\u001b[0m \u001b[0mt\u001b[0m \u001b[0;32min\u001b[0m \u001b[0menumerate\u001b[0m\u001b[0;34m(\u001b[0m\u001b[0ml2\u001b[0m\u001b[0;34m)\u001b[0m\u001b[0;34m:\u001b[0m\u001b[0;34m\u001b[0m\u001b[0;34m\u001b[0m\u001b[0m\n\u001b[1;32m     89\u001b[0m                 \u001b[0ml\u001b[0m\u001b[0;34m[\u001b[0m\u001b[0mi\u001b[0m\u001b[0;34m]\u001b[0m\u001b[0;34m.\u001b[0m\u001b[0mappend\u001b[0m\u001b[0;34m(\u001b[0m\u001b[0mt\u001b[0m\u001b[0;34m.\u001b[0m\u001b[0munsqueeze\u001b[0m\u001b[0;34m(\u001b[0m\u001b[0;36m1\u001b[0m\u001b[0;34m)\u001b[0m\u001b[0;34m)\u001b[0m\u001b[0;34m\u001b[0m\u001b[0;34m\u001b[0m\u001b[0m\n",
      "\u001b[0;32m~/mujoco-py/myrl/environments.py\u001b[0m in \u001b[0;36mstep\u001b[0;34m(self, pi, debug, what)\u001b[0m\n\u001b[1;32m     62\u001b[0m         \u001b[0ml\u001b[0m \u001b[0;34m=\u001b[0m \u001b[0;34m[\u001b[0m\u001b[0;34m[\u001b[0m\u001b[0;34m]\u001b[0m \u001b[0;32mfor\u001b[0m \u001b[0mi\u001b[0m \u001b[0;32min\u001b[0m \u001b[0mrange\u001b[0m\u001b[0;34m(\u001b[0m\u001b[0;36m9\u001b[0m\u001b[0;34m)\u001b[0m\u001b[0;34m]\u001b[0m\u001b[0;34m\u001b[0m\u001b[0;34m\u001b[0m\u001b[0m\n\u001b[1;32m     63\u001b[0m         \u001b[0;32mfor\u001b[0m \u001b[0menv\u001b[0m \u001b[0;32min\u001b[0m \u001b[0mwhat\u001b[0m\u001b[0;34m:\u001b[0m\u001b[0;34m\u001b[0m\u001b[0;34m\u001b[0m\u001b[0m\n\u001b[0;32m---> 64\u001b[0;31m             \u001b[0ml2\u001b[0m \u001b[0;34m=\u001b[0m \u001b[0menv\u001b[0m\u001b[0;34m.\u001b[0m\u001b[0mstep\u001b[0m\u001b[0;34m(\u001b[0m\u001b[0mpi\u001b[0m\u001b[0;34m,\u001b[0m \u001b[0mdebug\u001b[0m\u001b[0;34m)\u001b[0m\u001b[0;34m\u001b[0m\u001b[0;34m\u001b[0m\u001b[0m\n\u001b[0m\u001b[1;32m     65\u001b[0m             \u001b[0;32mfor\u001b[0m \u001b[0mi\u001b[0m\u001b[0;34m,\u001b[0m \u001b[0mt\u001b[0m \u001b[0;32min\u001b[0m \u001b[0menumerate\u001b[0m\u001b[0;34m(\u001b[0m\u001b[0ml2\u001b[0m\u001b[0;34m)\u001b[0m\u001b[0;34m:\u001b[0m\u001b[0;34m\u001b[0m\u001b[0;34m\u001b[0m\u001b[0m\n\u001b[1;32m     66\u001b[0m                 \u001b[0;32mif\u001b[0m \u001b[0mtype\u001b[0m\u001b[0;34m(\u001b[0m\u001b[0mt\u001b[0m\u001b[0;34m)\u001b[0m \u001b[0;34m==\u001b[0m \u001b[0mtype\u001b[0m\u001b[0;34m(\u001b[0m\u001b[0;34m(\u001b[0m\u001b[0;36m0\u001b[0m\u001b[0;34m,\u001b[0m \u001b[0;36m0\u001b[0m\u001b[0;34m)\u001b[0m\u001b[0;34m)\u001b[0m\u001b[0;34m:\u001b[0m\u001b[0;34m\u001b[0m\u001b[0;34m\u001b[0m\u001b[0m\n",
      "\u001b[0;32m~/mujoco-py/myrl/environments.py\u001b[0m in \u001b[0;36mstep\u001b[0;34m(self, act, sample, debug)\u001b[0m\n\u001b[1;32m     25\u001b[0m         \u001b[0mold_obs\u001b[0m \u001b[0;34m=\u001b[0m \u001b[0mself\u001b[0m\u001b[0;34m.\u001b[0m\u001b[0mobs\u001b[0m\u001b[0;34m\u001b[0m\u001b[0;34m\u001b[0m\u001b[0m\n\u001b[1;32m     26\u001b[0m         \u001b[0;32mif\u001b[0m \u001b[0mtype\u001b[0m\u001b[0;34m(\u001b[0m\u001b[0mself\u001b[0m\u001b[0;34m.\u001b[0m\u001b[0menv\u001b[0m\u001b[0;34m.\u001b[0m\u001b[0maction_space\u001b[0m\u001b[0;34m)\u001b[0m \u001b[0;32mis\u001b[0m \u001b[0mgym\u001b[0m\u001b[0;34m.\u001b[0m\u001b[0mspaces\u001b[0m\u001b[0;34m.\u001b[0m\u001b[0mbox\u001b[0m\u001b[0;34m.\u001b[0m\u001b[0mBox\u001b[0m\u001b[0;34m:\u001b[0m\u001b[0;34m\u001b[0m\u001b[0;34m\u001b[0m\u001b[0m\n\u001b[0;32m---> 27\u001b[0;31m             \u001b[0mobs\u001b[0m\u001b[0;34m,\u001b[0m \u001b[0mr\u001b[0m\u001b[0;34m,\u001b[0m \u001b[0mdone\u001b[0m\u001b[0;34m,\u001b[0m \u001b[0m_\u001b[0m \u001b[0;34m=\u001b[0m \u001b[0mself\u001b[0m\u001b[0;34m.\u001b[0m\u001b[0menv\u001b[0m\u001b[0;34m.\u001b[0m\u001b[0mstep\u001b[0m\u001b[0;34m(\u001b[0m\u001b[0masq\u001b[0m\u001b[0;34m)\u001b[0m\u001b[0;34m\u001b[0m\u001b[0;34m\u001b[0m\u001b[0m\n\u001b[0m\u001b[1;32m     28\u001b[0m         \u001b[0;32melse\u001b[0m\u001b[0;34m:\u001b[0m\u001b[0;34m\u001b[0m\u001b[0;34m\u001b[0m\u001b[0m\n\u001b[1;32m     29\u001b[0m             \u001b[0mobs\u001b[0m\u001b[0;34m,\u001b[0m \u001b[0mr\u001b[0m\u001b[0;34m,\u001b[0m \u001b[0mdone\u001b[0m\u001b[0;34m,\u001b[0m \u001b[0m_\u001b[0m \u001b[0;34m=\u001b[0m \u001b[0mself\u001b[0m\u001b[0;34m.\u001b[0m\u001b[0menv\u001b[0m\u001b[0;34m.\u001b[0m\u001b[0mstep\u001b[0m\u001b[0;34m(\u001b[0m\u001b[0masq\u001b[0m\u001b[0;34m.\u001b[0m\u001b[0msqueeze\u001b[0m\u001b[0;34m(\u001b[0m\u001b[0;34m-\u001b[0m\u001b[0;36m1\u001b[0m\u001b[0;34m)\u001b[0m\u001b[0;34m)\u001b[0m\u001b[0;34m\u001b[0m\u001b[0;34m\u001b[0m\u001b[0m\n",
      "\u001b[0;32m~/.local/lib/python3.8/site-packages/gym/wrappers/time_limit.py\u001b[0m in \u001b[0;36mstep\u001b[0;34m(self, action)\u001b[0m\n\u001b[1;32m     14\u001b[0m     \u001b[0;32mdef\u001b[0m \u001b[0mstep\u001b[0m\u001b[0;34m(\u001b[0m\u001b[0mself\u001b[0m\u001b[0;34m,\u001b[0m \u001b[0maction\u001b[0m\u001b[0;34m)\u001b[0m\u001b[0;34m:\u001b[0m\u001b[0;34m\u001b[0m\u001b[0;34m\u001b[0m\u001b[0m\n\u001b[1;32m     15\u001b[0m         \u001b[0;32massert\u001b[0m \u001b[0mself\u001b[0m\u001b[0;34m.\u001b[0m\u001b[0m_elapsed_steps\u001b[0m \u001b[0;32mis\u001b[0m \u001b[0;32mnot\u001b[0m \u001b[0;32mNone\u001b[0m\u001b[0;34m,\u001b[0m \u001b[0;34m\"Cannot call env.step() before calling reset()\"\u001b[0m\u001b[0;34m\u001b[0m\u001b[0;34m\u001b[0m\u001b[0m\n\u001b[0;32m---> 16\u001b[0;31m         \u001b[0mobservation\u001b[0m\u001b[0;34m,\u001b[0m \u001b[0mreward\u001b[0m\u001b[0;34m,\u001b[0m \u001b[0mdone\u001b[0m\u001b[0;34m,\u001b[0m \u001b[0minfo\u001b[0m \u001b[0;34m=\u001b[0m \u001b[0mself\u001b[0m\u001b[0;34m.\u001b[0m\u001b[0menv\u001b[0m\u001b[0;34m.\u001b[0m\u001b[0mstep\u001b[0m\u001b[0;34m(\u001b[0m\u001b[0maction\u001b[0m\u001b[0;34m)\u001b[0m\u001b[0;34m\u001b[0m\u001b[0;34m\u001b[0m\u001b[0m\n\u001b[0m\u001b[1;32m     17\u001b[0m         \u001b[0mself\u001b[0m\u001b[0;34m.\u001b[0m\u001b[0m_elapsed_steps\u001b[0m \u001b[0;34m+=\u001b[0m \u001b[0;36m1\u001b[0m\u001b[0;34m\u001b[0m\u001b[0;34m\u001b[0m\u001b[0m\n\u001b[1;32m     18\u001b[0m         \u001b[0;32mif\u001b[0m \u001b[0mself\u001b[0m\u001b[0;34m.\u001b[0m\u001b[0m_elapsed_steps\u001b[0m \u001b[0;34m>=\u001b[0m \u001b[0mself\u001b[0m\u001b[0;34m.\u001b[0m\u001b[0m_max_episode_steps\u001b[0m\u001b[0;34m:\u001b[0m\u001b[0;34m\u001b[0m\u001b[0;34m\u001b[0m\u001b[0m\n",
      "\u001b[0;32m~/.local/lib/python3.8/site-packages/gym/envs/box2d/lunar_lander.py\u001b[0m in \u001b[0;36mstep\u001b[0;34m(self, action)\u001b[0m\n\u001b[1;32m    292\u001b[0m             impulse_pos = (self.lander.position[0] + ox - tip[0] * 17/SCALE,\n\u001b[1;32m    293\u001b[0m                            self.lander.position[1] + oy + tip[1] * SIDE_ENGINE_HEIGHT/SCALE)\n\u001b[0;32m--> 294\u001b[0;31m             \u001b[0mp\u001b[0m \u001b[0;34m=\u001b[0m \u001b[0mself\u001b[0m\u001b[0;34m.\u001b[0m\u001b[0m_create_particle\u001b[0m\u001b[0;34m(\u001b[0m\u001b[0;36m0.7\u001b[0m\u001b[0;34m,\u001b[0m \u001b[0mimpulse_pos\u001b[0m\u001b[0;34m[\u001b[0m\u001b[0;36m0\u001b[0m\u001b[0;34m]\u001b[0m\u001b[0;34m,\u001b[0m \u001b[0mimpulse_pos\u001b[0m\u001b[0;34m[\u001b[0m\u001b[0;36m1\u001b[0m\u001b[0;34m]\u001b[0m\u001b[0;34m,\u001b[0m \u001b[0ms_power\u001b[0m\u001b[0;34m)\u001b[0m\u001b[0;34m\u001b[0m\u001b[0;34m\u001b[0m\u001b[0m\n\u001b[0m\u001b[1;32m    295\u001b[0m             p.ApplyLinearImpulse((ox * SIDE_ENGINE_POWER * s_power, oy * SIDE_ENGINE_POWER * s_power),\n\u001b[1;32m    296\u001b[0m                                  \u001b[0mimpulse_pos\u001b[0m\u001b[0;34m\u001b[0m\u001b[0;34m\u001b[0m\u001b[0m\n",
      "\u001b[0;32m~/.local/lib/python3.8/site-packages/gym/envs/box2d/lunar_lander.py\u001b[0m in \u001b[0;36m_create_particle\u001b[0;34m(self, mass, x, y, ttl)\u001b[0m\n\u001b[1;32m    224\u001b[0m \u001b[0;34m\u001b[0m\u001b[0m\n\u001b[1;32m    225\u001b[0m     \u001b[0;32mdef\u001b[0m \u001b[0m_create_particle\u001b[0m\u001b[0;34m(\u001b[0m\u001b[0mself\u001b[0m\u001b[0;34m,\u001b[0m \u001b[0mmass\u001b[0m\u001b[0;34m,\u001b[0m \u001b[0mx\u001b[0m\u001b[0;34m,\u001b[0m \u001b[0my\u001b[0m\u001b[0;34m,\u001b[0m \u001b[0mttl\u001b[0m\u001b[0;34m)\u001b[0m\u001b[0;34m:\u001b[0m\u001b[0;34m\u001b[0m\u001b[0;34m\u001b[0m\u001b[0m\n\u001b[0;32m--> 226\u001b[0;31m         p = self.world.CreateDynamicBody(\n\u001b[0m\u001b[1;32m    227\u001b[0m             \u001b[0mposition\u001b[0m \u001b[0;34m=\u001b[0m \u001b[0;34m(\u001b[0m\u001b[0mx\u001b[0m\u001b[0;34m,\u001b[0m \u001b[0my\u001b[0m\u001b[0;34m)\u001b[0m\u001b[0;34m,\u001b[0m\u001b[0;34m\u001b[0m\u001b[0;34m\u001b[0m\u001b[0m\n\u001b[1;32m    228\u001b[0m             \u001b[0mangle\u001b[0m\u001b[0;34m=\u001b[0m\u001b[0;36m0.0\u001b[0m\u001b[0;34m,\u001b[0m\u001b[0;34m\u001b[0m\u001b[0;34m\u001b[0m\u001b[0m\n",
      "\u001b[0;32m~/.local/lib/python3.8/site-packages/Box2D/Box2D.py\u001b[0m in \u001b[0;36mCreateDynamicBody\u001b[0;34m(self, **kwargs)\u001b[0m\n\u001b[1;32m   3183\u001b[0m         \"\"\"\n\u001b[1;32m   3184\u001b[0m         \u001b[0mkwargs\u001b[0m\u001b[0;34m[\u001b[0m\u001b[0;34m'type'\u001b[0m\u001b[0;34m]\u001b[0m \u001b[0;34m=\u001b[0m \u001b[0mb2_dynamicBody\u001b[0m\u001b[0;34m\u001b[0m\u001b[0;34m\u001b[0m\u001b[0m\n\u001b[0;32m-> 3185\u001b[0;31m         \u001b[0;32mreturn\u001b[0m \u001b[0mself\u001b[0m\u001b[0;34m.\u001b[0m\u001b[0mCreateBody\u001b[0m\u001b[0;34m(\u001b[0m\u001b[0;34m**\u001b[0m\u001b[0mkwargs\u001b[0m\u001b[0;34m)\u001b[0m\u001b[0;34m\u001b[0m\u001b[0;34m\u001b[0m\u001b[0m\n\u001b[0m\u001b[1;32m   3186\u001b[0m \u001b[0;34m\u001b[0m\u001b[0m\n\u001b[1;32m   3187\u001b[0m     \u001b[0;32mdef\u001b[0m \u001b[0mCreateKinematicBody\u001b[0m\u001b[0;34m(\u001b[0m\u001b[0mself\u001b[0m\u001b[0;34m,\u001b[0m \u001b[0;34m**\u001b[0m\u001b[0mkwargs\u001b[0m\u001b[0;34m)\u001b[0m\u001b[0;34m:\u001b[0m\u001b[0;34m\u001b[0m\u001b[0;34m\u001b[0m\u001b[0m\n",
      "\u001b[0;32m~/.local/lib/python3.8/site-packages/Box2D/Box2D.py\u001b[0m in \u001b[0;36mCreateBody\u001b[0;34m(self, defn, **kwargs)\u001b[0m\n\u001b[1;32m   3236\u001b[0m             \u001b[0mdefn\u001b[0m \u001b[0;34m=\u001b[0m \u001b[0mb2BodyDef\u001b[0m\u001b[0;34m(\u001b[0m\u001b[0;34m**\u001b[0m\u001b[0mkwargs\u001b[0m\u001b[0;34m)\u001b[0m\u001b[0;34m\u001b[0m\u001b[0;34m\u001b[0m\u001b[0m\n\u001b[1;32m   3237\u001b[0m \u001b[0;34m\u001b[0m\u001b[0m\n\u001b[0;32m-> 3238\u001b[0;31m         \u001b[0mbody\u001b[0m\u001b[0;34m=\u001b[0m\u001b[0mself\u001b[0m\u001b[0;34m.\u001b[0m\u001b[0m__CreateBody\u001b[0m\u001b[0;34m(\u001b[0m\u001b[0mdefn\u001b[0m\u001b[0;34m)\u001b[0m\u001b[0;34m\u001b[0m\u001b[0;34m\u001b[0m\u001b[0m\n\u001b[0m\u001b[1;32m   3239\u001b[0m \u001b[0;34m\u001b[0m\u001b[0m\n\u001b[1;32m   3240\u001b[0m         \u001b[0;32mif\u001b[0m \u001b[0mdefn\u001b[0m\u001b[0;34m.\u001b[0m\u001b[0mfixtures\u001b[0m\u001b[0;34m:\u001b[0m\u001b[0;34m\u001b[0m\u001b[0;34m\u001b[0m\u001b[0m\n",
      "\u001b[0;31mAssertionError\u001b[0m: IsLocked() == false"
     ]
    }
   ],
   "source": [
    "wll.new()\n",
    "writer = wll.writer\n",
    "eps = 10000\n",
    "gamma = 1\n",
    "lmbda = 0.85\n",
    "\n",
    "for ep in range(0, eps):\n",
    "    l = envs.list_rollout(pi.act, gamma=gamma, length=10)\n",
    "    rss = l[0][2].mean().item()\n",
    "    adv = list_gae(l, tvfunc, gamma, lmbda=lmbda)\n",
    "    for i in range(len(l)):\n",
    "        # print(adv[i].shape, l[i][0].shape)\n",
    "        pass\n",
    "    add_list2list(adv, l)\n",
    "    rbuff = ReplayBuffer(nitems=10, max_len=100000)\n",
    "    rbuff.list_add(l)\n",
    "\n",
    "    for imini_batch in range(60):\n",
    "        oldobs, a, r, obs, d, oldprobs, smpls, muold, stdold, gae = rbuff.get(len(rbuff)//6)\n",
    "        # adv = r + vfunc(obs).detach() - vfunc(oldobs)\n",
    "        # print(gae.shape, oldobs.shape, \"a\"*5)\n",
    "        # print(gae[:10], vfunc(oldobs)[:10])\n",
    "        adv = gae.detach() - vfunc(oldobs)\n",
    "        # print(\"--\"*10)\n",
    "        # print(adv[:4], gae[:4], vfunc(oldobs)[:4])\n",
    "        adv = ((adv-adv.mean())/(adv.std()+1e-8)).detach()\n",
    "        # print(adv[:10])\n",
    "        # print(\"/\"*10)\n",
    "        for optstep in range(2):\n",
    "            _, (newprobs, _, mu, std) = pi.act(oldobs, smpl=smpls)\n",
    "            p = torch.distributions.Normal(muold, stdold)\n",
    "            q = torch.distributions.Normal(mu, std)\n",
    "            kldiv = torch.distributions.kl_divergence(p, q)\n",
    "            if kldiv.mean().item() > 0.03:\n",
    "                print(\"stopppp\", kldiv.mean().item(), optstep)\n",
    "                break\n",
    "            # print(kldiv)\n",
    "            ratio = torch.exp(newprobs-oldprobs)\n",
    "            e = 0.15\n",
    "            clipped = (ratio != torch.clamp(ratio, 1-e, 1+e)).float().mean().detach().item()\n",
    "            loss = -torch.min(ratio*adv, torch.clamp(ratio, 1-e, 1+e)*adv).mean()\n",
    "            opt.zero_grad()\n",
    "            loss.backward()\n",
    "            global_gradient_clip(pi)\n",
    "            opt.step()\n",
    "        \n",
    "        for optstep in range(4):                    \n",
    "            td = ((gae.detach() - vfunc(oldobs))**2).mean()\n",
    "            # td = ((r + tvfunc(obs).detach() - vfunc(oldobs))**2).mean()\n",
    "            copt.zero_grad()\n",
    "            td.backward()\n",
    "            global_gradient_clip(vfunc)\n",
    "            copt.step()\n",
    "\n",
    "    # print(vfunc(obs)[:5])\n",
    "\n",
    "    polyak(vfunc, tvfunc, 1-1/40)\n",
    "\n",
    "\n",
    "    if ep%1==0:\n",
    "        print(ep, loss.item(), \"r\", rss, \" td\", td.item(), \"clip\", clipped, \"___\", pi.last_std.mean().item())\n",
    "    if ep%20==0:\n",
    "        print(\"showit=\",showit(env, pi.act, max_steps=650))\n",
    "        env.close()\n",
    "        # print(mu.squeeze(1)[:20])\n",
    "\n",
    "\n",
    "    writer.add_scalar(\"a/loss\", loss.item(), ep)\n",
    "    writer.add_scalar(\"a/td\", td.item(), ep)\n",
    "    writer.add_scalar(\"a/reward\", r.mean(), ep)\n",
    "    writer.add_scalar(\"a/clipped\", clipped, ep)\n",
    "    # writer.add_scalar(\"a/lr\", opt.param_groups[0]['lr'], ep)\n",
    "\n"
   ]
  },
  {
   "cell_type": "code",
   "execution_count": 80,
   "metadata": {
    "tags": [
     "outputPrepend"
    ]
   },
   "outputs": [
    {
     "output_type": "stream",
     "name": "stdout",
     "text": "           | 2.15e+03       |\n|    n_updates            | 90             |\n|    policy_gradient_loss | -0.000264      |\n|    std                  | 0.919          |\n|    value_loss           | 4.21e+03       |\n--------------------------------------------\n------------------------------------------\n| rollout/                |              |\n|    ep_len_mean          | 200          |\n|    ep_rew_mean          | -1.17e+03    |\n| time/                   |              |\n|    fps                  | 609          |\n|    iterations           | 11           |\n|    time_elapsed         | 147          |\n|    total_timesteps      | 90112        |\n| train/                  |              |\n|    approx_kl            | 0.0028223046 |\n|    clip_fraction        | 0.0469       |\n|    clip_range           | 0.2          |\n|    entropy_loss         | -1.33        |\n|    explained_variance   | -45.5        |\n|    learning_rate        | 0.0003       |\n|    loss                 | 2.46e+03     |\n|    n_updates            | 100          |\n|    policy_gradient_loss | -0.00109     |\n|    std                  | 0.907        |\n|    value_loss           | 4.39e+03     |\n------------------------------------------\n------------------------------------------\n| rollout/                |              |\n|    ep_len_mean          | 200          |\n|    ep_rew_mean          | -1.16e+03    |\n| time/                   |              |\n|    fps                  | 602          |\n|    iterations           | 12           |\n|    time_elapsed         | 163          |\n|    total_timesteps      | 98304        |\n| train/                  |              |\n|    approx_kl            | 0.0024677326 |\n|    clip_fraction        | 0.0156       |\n|    clip_range           | 0.2          |\n|    entropy_loss         | -1.32        |\n|    explained_variance   | -58          |\n|    learning_rate        | 0.0003       |\n|    loss                 | 1.59e+03     |\n|    n_updates            | 110          |\n|    policy_gradient_loss | -0.000139    |\n|    std                  | 0.898        |\n|    value_loss           | 4.34e+03     |\n------------------------------------------\n-----------------------------------------\n| rollout/                |             |\n|    ep_len_mean          | 200         |\n|    ep_rew_mean          | -1.12e+03   |\n| time/                   |             |\n|    fps                  | 581         |\n|    iterations           | 13          |\n|    time_elapsed         | 183         |\n|    total_timesteps      | 106496      |\n| train/                  |             |\n|    approx_kl            | 0.002041734 |\n|    clip_fraction        | 0           |\n|    clip_range           | 0.2         |\n|    entropy_loss         | -1.3        |\n|    explained_variance   | -20         |\n|    learning_rate        | 0.0003      |\n|    loss                 | 2.02e+03    |\n|    n_updates            | 120         |\n|    policy_gradient_loss | -0.00134    |\n|    std                  | 0.883       |\n|    value_loss           | 3.8e+03     |\n-----------------------------------------\n------------------------------------------\n| rollout/                |              |\n|    ep_len_mean          | 200          |\n|    ep_rew_mean          | -1.14e+03    |\n| time/                   |              |\n|    fps                  | 573          |\n|    iterations           | 14           |\n|    time_elapsed         | 199          |\n|    total_timesteps      | 114688       |\n| train/                  |              |\n|    approx_kl            | 0.0033892633 |\n|    clip_fraction        | 0            |\n|    clip_range           | 0.2          |\n|    entropy_loss         | -1.28        |\n|    explained_variance   | -11.9        |\n|    learning_rate        | 0.0003       |\n|    loss                 | 1.93e+03     |\n|    n_updates            | 130          |\n|    policy_gradient_loss | -0.000508    |\n|    std                  | 0.863        |\n|    value_loss           | 4.2e+03      |\n------------------------------------------\n-----------------------------------------\n| rollout/                |             |\n|    ep_len_mean          | 200         |\n|    ep_rew_mean          | -1.12e+03   |\n| time/                   |             |\n|    fps                  | 567         |\n|    iterations           | 15          |\n|    time_elapsed         | 216         |\n|    total_timesteps      | 122880      |\n| train/                  |             |\n|    approx_kl            | 0.005504957 |\n|    clip_fraction        | 0.0312      |\n|    clip_range           | 0.2         |\n|    entropy_loss         | -1.26       |\n|    explained_variance   | -10.4       |\n|    learning_rate        | 0.0003      |\n|    loss                 | 1.78e+03    |\n|    n_updates            | 140         |\n|    policy_gradient_loss | -0.00155    |\n|    std                  | 0.85        |\n|    value_loss           | 4.2e+03     |\n-----------------------------------------\n------------------------------------------\n| rollout/                |              |\n|    ep_len_mean          | 200          |\n|    ep_rew_mean          | -1.13e+03    |\n| time/                   |              |\n|    fps                  | 562          |\n|    iterations           | 16           |\n|    time_elapsed         | 232          |\n|    total_timesteps      | 131072       |\n| train/                  |              |\n|    approx_kl            | 0.0031066854 |\n|    clip_fraction        | 0.0312       |\n|    clip_range           | 0.2          |\n|    entropy_loss         | -1.25        |\n|    explained_variance   | -7.73        |\n|    learning_rate        | 0.0003       |\n|    loss                 | 1.13e+03     |\n|    n_updates            | 150          |\n|    policy_gradient_loss | -0.000168    |\n|    std                  | 0.841        |\n|    value_loss           | 4.07e+03     |\n------------------------------------------\n------------------------------------------\n| rollout/                |              |\n|    ep_len_mean          | 200          |\n|    ep_rew_mean          | -1.12e+03    |\n| time/                   |              |\n|    fps                  | 557          |\n|    iterations           | 17           |\n|    time_elapsed         | 249          |\n|    total_timesteps      | 139264       |\n| train/                  |              |\n|    approx_kl            | 0.0024255742 |\n|    clip_fraction        | 0.0469       |\n|    clip_range           | 0.2          |\n|    entropy_loss         | -1.23        |\n|    explained_variance   | -7.42        |\n|    learning_rate        | 0.0003       |\n|    loss                 | 936          |\n|    n_updates            | 160          |\n|    policy_gradient_loss | -0.00112     |\n|    std                  | 0.825        |\n|    value_loss           | 4.27e+03     |\n------------------------------------------\n----------------------------------------\n| rollout/                |            |\n|    ep_len_mean          | 200        |\n|    ep_rew_mean          | -1.11e+03  |\n| time/                   |            |\n|    fps                  | 540        |\n|    iterations           | 18         |\n|    time_elapsed         | 272        |\n|    total_timesteps      | 147456     |\n| train/                  |            |\n|    approx_kl            | 0.00444723 |\n|    clip_fraction        | 0.0312     |\n|    clip_range           | 0.2        |\n|    entropy_loss         | -1.22      |\n|    explained_variance   | -2.53      |\n|    learning_rate        | 0.0003     |\n|    loss                 | 2.35e+03   |\n|    n_updates            | 170        |\n|    policy_gradient_loss | -0.000534  |\n|    std                  | 0.821      |\n|    value_loss           | 4.24e+03   |\n----------------------------------------\n------------------------------------------\n| rollout/                |              |\n|    ep_len_mean          | 200          |\n|    ep_rew_mean          | -1.11e+03    |\n| time/                   |              |\n|    fps                  | 518          |\n|    iterations           | 19           |\n|    time_elapsed         | 300          |\n|    total_timesteps      | 155648       |\n| train/                  |              |\n|    approx_kl            | 0.0028793756 |\n|    clip_fraction        | 0            |\n|    clip_range           | 0.2          |\n|    entropy_loss         | -1.22        |\n|    explained_variance   | -2.88        |\n|    learning_rate        | 0.0003       |\n|    loss                 | 1.47e+03     |\n|    n_updates            | 180          |\n|    policy_gradient_loss | -0.000207    |\n|    std                  | 0.818        |\n|    value_loss           | 3.77e+03     |\n------------------------------------------\n------------------------------------------\n| rollout/                |              |\n|    ep_len_mean          | 200          |\n|    ep_rew_mean          | -1.11e+03    |\n| time/                   |              |\n|    fps                  | 520          |\n|    iterations           | 20           |\n|    time_elapsed         | 314          |\n|    total_timesteps      | 163840       |\n| train/                  |              |\n|    approx_kl            | 0.0010421637 |\n|    clip_fraction        | 0            |\n|    clip_range           | 0.2          |\n|    entropy_loss         | -1.22        |\n|    explained_variance   | -2.03        |\n|    learning_rate        | 0.0003       |\n|    loss                 | 4.01e+03     |\n|    n_updates            | 190          |\n|    policy_gradient_loss | -0.000201    |\n|    std                  | 0.823        |\n|    value_loss           | 4.03e+03     |\n------------------------------------------\n-----------------------------------------\n| rollout/                |             |\n|    ep_len_mean          | 200         |\n|    ep_rew_mean          | -1.11e+03   |\n| time/                   |             |\n|    fps                  | 514         |\n|    iterations           | 21          |\n|    time_elapsed         | 334         |\n|    total_timesteps      | 172032      |\n| train/                  |             |\n|    approx_kl            | 0.004783852 |\n|    clip_fraction        | 0.0625      |\n|    clip_range           | 0.2         |\n|    entropy_loss         | -1.21       |\n|    explained_variance   | -1.98       |\n|    learning_rate        | 0.0003      |\n|    loss                 | 2.6e+03     |\n|    n_updates            | 200         |\n|    policy_gradient_loss | -0.000674   |\n|    std                  | 0.803       |\n|    value_loss           | 4.31e+03    |\n-----------------------------------------\n------------------------------------------\n| rollout/                |              |\n|    ep_len_mean          | 200          |\n|    ep_rew_mean          | -1.14e+03    |\n| time/                   |              |\n|    fps                  | 520          |\n|    iterations           | 22           |\n|    time_elapsed         | 346          |\n|    total_timesteps      | 180224       |\n| train/                  |              |\n|    approx_kl            | 0.0054131253 |\n|    clip_fraction        | 0.0781       |\n|    clip_range           | 0.2          |\n|    entropy_loss         | -1.2         |\n|    explained_variance   | -1.34        |\n|    learning_rate        | 0.0003       |\n|    loss                 | 1.31e+03     |\n|    n_updates            | 210          |\n|    policy_gradient_loss | -0.000608    |\n|    std                  | 0.8          |\n|    value_loss           | 4.26e+03     |\n------------------------------------------\n------------------------------------------\n| rollout/                |              |\n|    ep_len_mean          | 200          |\n|    ep_rew_mean          | -1.14e+03    |\n| time/                   |              |\n|    fps                  | 511          |\n|    iterations           | 23           |\n|    time_elapsed         | 368          |\n|    total_timesteps      | 188416       |\n| train/                  |              |\n|    approx_kl            | 0.0006708233 |\n|    clip_fraction        | 0            |\n|    clip_range           | 0.2          |\n|    entropy_loss         | -1.19        |\n|    explained_variance   | -0.853       |\n|    learning_rate        | 0.0003       |\n|    loss                 | 2.02e+03     |\n|    n_updates            | 220          |\n|    policy_gradient_loss | -0.000451    |\n|    std                  | 0.797        |\n|    value_loss           | 3.88e+03     |\n------------------------------------------\n----------------------------------------\n| rollout/                |            |\n|    ep_len_mean          | 200        |\n|    ep_rew_mean          | -1.15e+03  |\n| time/                   |            |\n|    fps                  | 515        |\n|    iterations           | 24         |\n|    time_elapsed         | 381        |\n|    total_timesteps      | 196608     |\n| train/                  |            |\n|    approx_kl            | 0.00467983 |\n|    clip_fraction        | 0.0938     |\n|    clip_range           | 0.2        |\n|    entropy_loss         | -1.18      |\n|    explained_variance   | -0.71      |\n|    learning_rate        | 0.0003     |\n|    loss                 | 1.18e+03   |\n|    n_updates            | 230        |\n|    policy_gradient_loss | -0.00129   |\n|    std                  | 0.786      |\n|    value_loss           | 3.99e+03   |\n----------------------------------------\n------------------------------------------\n| rollout/                |              |\n|    ep_len_mean          | 200          |\n|    ep_rew_mean          | -1.14e+03    |\n| time/                   |              |\n|    fps                  | 501          |\n|    iterations           | 25           |\n|    time_elapsed         | 408          |\n|    total_timesteps      | 204800       |\n| train/                  |              |\n|    approx_kl            | 0.0015316237 |\n|    clip_fraction        | 0.0312       |\n|    clip_range           | 0.2          |\n|    entropy_loss         | -1.17        |\n|    explained_variance   | -0.666       |\n|    learning_rate        | 0.0003       |\n|    loss                 | 1.64e+03     |\n|    n_updates            | 240          |\n|    policy_gradient_loss | 1.65e-05     |\n|    std                  | 0.779        |\n|    value_loss           | 3.95e+03     |\n------------------------------------------\n------------------------------------------\n| rollout/                |              |\n|    ep_len_mean          | 200          |\n|    ep_rew_mean          | -1.14e+03    |\n| time/                   |              |\n|    fps                  | 508          |\n|    iterations           | 26           |\n|    time_elapsed         | 418          |\n|    total_timesteps      | 212992       |\n| train/                  |              |\n|    approx_kl            | 0.0028994519 |\n|    clip_fraction        | 0.0469       |\n|    clip_range           | 0.2          |\n|    entropy_loss         | -1.16        |\n|    explained_variance   | -1.38        |\n|    learning_rate        | 0.0003       |\n|    loss                 | 2.37e+03     |\n|    n_updates            | 250          |\n|    policy_gradient_loss | -0.000203    |\n|    std                  | 0.76         |\n|    value_loss           | 4.47e+03     |\n------------------------------------------\n------------------------------------------\n| rollout/                |              |\n|    ep_len_mean          | 200          |\n|    ep_rew_mean          | -1.14e+03    |\n| time/                   |              |\n|    fps                  | 511          |\n|    iterations           | 27           |\n|    time_elapsed         | 432          |\n|    total_timesteps      | 221184       |\n| train/                  |              |\n|    approx_kl            | 0.0021284642 |\n|    clip_fraction        | 0.0156       |\n|    clip_range           | 0.2          |\n|    entropy_loss         | -1.14        |\n|    explained_variance   | -0.656       |\n|    learning_rate        | 0.0003       |\n|    loss                 | 3.65e+03     |\n|    n_updates            | 260          |\n|    policy_gradient_loss | 3.32e-06     |\n|    std                  | 0.753        |\n|    value_loss           | 4.05e+03     |\n------------------------------------------\n------------------------------------------\n| rollout/                |              |\n|    ep_len_mean          | 200          |\n|    ep_rew_mean          | -1.15e+03    |\n| time/                   |              |\n|    fps                  | 516          |\n|    iterations           | 28           |\n|    time_elapsed         | 444          |\n|    total_timesteps      | 229376       |\n| train/                  |              |\n|    approx_kl            | 0.0021878693 |\n|    clip_fraction        | 0.0469       |\n|    clip_range           | 0.2          |\n|    entropy_loss         | -1.13        |\n|    explained_variance   | -0.803       |\n|    learning_rate        | 0.0003       |\n|    loss                 | 2.9e+03      |\n|    n_updates            | 270          |\n|    policy_gradient_loss | -0.000827    |\n|    std                  | 0.749        |\n|    value_loss           | 4.18e+03     |\n------------------------------------------\n------------------------------------------\n| rollout/                |              |\n|    ep_len_mean          | 200          |\n|    ep_rew_mean          | -1.15e+03    |\n| time/                   |              |\n|    fps                  | 519          |\n|    iterations           | 29           |\n|    time_elapsed         | 457          |\n|    total_timesteps      | 237568       |\n| train/                  |              |\n|    approx_kl            | 0.0022044764 |\n|    clip_fraction        | 0.0156       |\n|    clip_range           | 0.2          |\n|    entropy_loss         | -1.13        |\n|    explained_variance   | -1.33        |\n|    learning_rate        | 0.0003       |\n|    loss                 | 1.41e+03     |\n|    n_updates            | 280          |\n|    policy_gradient_loss | -0.000661    |\n|    std                  | 0.744        |\n|    value_loss           | 4.27e+03     |\n------------------------------------------\n------------------------------------------\n| rollout/                |              |\n|    ep_len_mean          | 200          |\n|    ep_rew_mean          | -1.15e+03    |\n| time/                   |              |\n|    fps                  | 521          |\n|    iterations           | 30           |\n|    time_elapsed         | 470          |\n|    total_timesteps      | 245760       |\n| train/                  |              |\n|    approx_kl            | 0.0020252885 |\n|    clip_fraction        | 0.0469       |\n|    clip_range           | 0.2          |\n|    entropy_loss         | -1.13        |\n|    explained_variance   | -1.33        |\n|    learning_rate        | 0.0003       |\n|    loss                 | 1.75e+03     |\n|    n_updates            | 290          |\n|    policy_gradient_loss | -0.000142    |\n|    std                  | 0.746        |\n|    value_loss           | 4.32e+03     |\n------------------------------------------\n------------------------------------------\n| rollout/                |              |\n|    ep_len_mean          | 200          |\n|    ep_rew_mean          | -1.14e+03    |\n| time/                   |              |\n|    fps                  | 526          |\n|    iterations           | 31           |\n|    time_elapsed         | 482          |\n|    total_timesteps      | 253952       |\n| train/                  |              |\n|    approx_kl            | 0.0015208328 |\n|    clip_fraction        | 0            |\n|    clip_range           | 0.2          |\n|    entropy_loss         | -1.12        |\n|    explained_variance   | -1.83        |\n|    learning_rate        | 0.0003       |\n|    loss                 | 1.72e+03     |\n|    n_updates            | 300          |\n|    policy_gradient_loss | 0.000456     |\n|    std                  | 0.742        |\n|    value_loss           | 4.74e+03     |\n------------------------------------------\ntotal time =  492.04002571105957\n"
    }
   ],
   "source": [
    "import gym\n",
    "import time\n",
    "t1 = time.time()\n",
    "from stable_baselines3 import PPO\n",
    "from stable_baselines3.ppo import MlpPolicy\n",
    "from stable_baselines3.common.cmd_util import make_vec_env0.3876180648803711\n",
    "\n",
    "# Parallel environments\n",
    "envname = 'Pendulum-v0'\n",
    "env = make_vec_env(envname, n_envs=4)\n",
    "\n",
    "model = PPO(MlpPolicy, env, verbose=2)\n",
    "model.learn(total_timesteps=250000, log_interval=1, tb_log_name='/home/darijan/mujoco-py/tb/ppo_stable_4')\n",
    "\n",
    "t2 = time.time()\n",
    "print(\"total time = \", t2-t1)\n",
    "env = gym.make(envname)\n",
    "obs = env.reset()\n",
    "\n",
    "for i in range(200):\n",
    "    action, _states = model.predict(obs)\n",
    "    obs, rewards, dones, info = env.step(action)\n",
    "    env.render()\n",
    "env.close()"
   ]
  },
  {
   "cell_type": "code",
   "execution_count": 36,
   "metadata": {
    "tags": []
   },
   "outputs": [
    {
     "output_type": "stream",
     "name": "stdout",
     "text": "Using cuda device\n"
    },
    {
     "output_type": "error",
     "ename": "RuntimeError",
     "evalue": "CUDA error: unspecified launch failure",
     "traceback": [
      "\u001b[0;31m---------------------------------------------------------------------------\u001b[0m",
      "\u001b[0;31mRuntimeError\u001b[0m                              Traceback (most recent call last)",
      "\u001b[0;32m<ipython-input-36-d01585041c02>\u001b[0m in \u001b[0;36m<module>\u001b[0;34m\u001b[0m\n\u001b[1;32m     10\u001b[0m \u001b[0menv\u001b[0m \u001b[0;34m=\u001b[0m \u001b[0mmake_vec_env\u001b[0m\u001b[0;34m(\u001b[0m\u001b[0menvname\u001b[0m\u001b[0;34m,\u001b[0m \u001b[0mn_envs\u001b[0m\u001b[0;34m=\u001b[0m\u001b[0;36m4\u001b[0m\u001b[0;34m)\u001b[0m\u001b[0;34m\u001b[0m\u001b[0;34m\u001b[0m\u001b[0m\n\u001b[1;32m     11\u001b[0m \u001b[0;34m\u001b[0m\u001b[0m\n\u001b[0;32m---> 12\u001b[0;31m \u001b[0mmodel\u001b[0m \u001b[0;34m=\u001b[0m \u001b[0mPPO\u001b[0m\u001b[0;34m(\u001b[0m\u001b[0mMlpPolicy\u001b[0m\u001b[0;34m,\u001b[0m \u001b[0menv\u001b[0m\u001b[0;34m,\u001b[0m \u001b[0mverbose\u001b[0m\u001b[0;34m=\u001b[0m\u001b[0;36m2\u001b[0m\u001b[0;34m)\u001b[0m\u001b[0;34m\u001b[0m\u001b[0;34m\u001b[0m\u001b[0m\n\u001b[0m\u001b[1;32m     13\u001b[0m \u001b[0;31m# model.load('lunar_stable.sb')\u001b[0m\u001b[0;34m\u001b[0m\u001b[0;34m\u001b[0m\u001b[0;34m\u001b[0m\u001b[0m\n\u001b[1;32m     14\u001b[0m \u001b[0;34m\u001b[0m\u001b[0m\n",
      "\u001b[0;32m~/.local/lib/python3.8/site-packages/stable_baselines3/ppo/ppo.py\u001b[0m in \u001b[0;36m__init__\u001b[0;34m(self, policy, env, learning_rate, n_steps, batch_size, n_epochs, gamma, gae_lambda, clip_range, clip_range_vf, ent_coef, vf_coef, max_grad_norm, use_sde, sde_sample_freq, target_kl, tensorboard_log, create_eval_env, policy_kwargs, verbose, seed, device, _init_setup_model)\u001b[0m\n\u001b[1;32m    102\u001b[0m \u001b[0;34m\u001b[0m\u001b[0m\n\u001b[1;32m    103\u001b[0m         \u001b[0;32mif\u001b[0m \u001b[0m_init_setup_model\u001b[0m\u001b[0;34m:\u001b[0m\u001b[0;34m\u001b[0m\u001b[0;34m\u001b[0m\u001b[0m\n\u001b[0;32m--> 104\u001b[0;31m             \u001b[0mself\u001b[0m\u001b[0;34m.\u001b[0m\u001b[0m_setup_model\u001b[0m\u001b[0;34m(\u001b[0m\u001b[0;34m)\u001b[0m\u001b[0;34m\u001b[0m\u001b[0;34m\u001b[0m\u001b[0m\n\u001b[0m\u001b[1;32m    105\u001b[0m \u001b[0;34m\u001b[0m\u001b[0m\n\u001b[1;32m    106\u001b[0m     \u001b[0;32mdef\u001b[0m \u001b[0m_setup_model\u001b[0m\u001b[0;34m(\u001b[0m\u001b[0mself\u001b[0m\u001b[0;34m)\u001b[0m \u001b[0;34m->\u001b[0m \u001b[0;32mNone\u001b[0m\u001b[0;34m:\u001b[0m\u001b[0;34m\u001b[0m\u001b[0;34m\u001b[0m\u001b[0m\n",
      "\u001b[0;32m~/.local/lib/python3.8/site-packages/stable_baselines3/ppo/ppo.py\u001b[0m in \u001b[0;36m_setup_model\u001b[0;34m(self)\u001b[0m\n\u001b[1;32m    105\u001b[0m \u001b[0;34m\u001b[0m\u001b[0m\n\u001b[1;32m    106\u001b[0m     \u001b[0;32mdef\u001b[0m \u001b[0m_setup_model\u001b[0m\u001b[0;34m(\u001b[0m\u001b[0mself\u001b[0m\u001b[0;34m)\u001b[0m \u001b[0;34m->\u001b[0m \u001b[0;32mNone\u001b[0m\u001b[0;34m:\u001b[0m\u001b[0;34m\u001b[0m\u001b[0;34m\u001b[0m\u001b[0m\n\u001b[0;32m--> 107\u001b[0;31m         \u001b[0msuper\u001b[0m\u001b[0;34m(\u001b[0m\u001b[0mPPO\u001b[0m\u001b[0;34m,\u001b[0m \u001b[0mself\u001b[0m\u001b[0;34m)\u001b[0m\u001b[0;34m.\u001b[0m\u001b[0m_setup_model\u001b[0m\u001b[0;34m(\u001b[0m\u001b[0;34m)\u001b[0m\u001b[0;34m\u001b[0m\u001b[0;34m\u001b[0m\u001b[0m\n\u001b[0m\u001b[1;32m    108\u001b[0m \u001b[0;34m\u001b[0m\u001b[0m\n\u001b[1;32m    109\u001b[0m         \u001b[0;31m# Initialize schedules for policy/value clipping\u001b[0m\u001b[0;34m\u001b[0m\u001b[0;34m\u001b[0m\u001b[0;34m\u001b[0m\u001b[0m\n",
      "\u001b[0;32m~/.local/lib/python3.8/site-packages/stable_baselines3/common/on_policy_algorithm.py\u001b[0m in \u001b[0;36m_setup_model\u001b[0;34m(self)\u001b[0m\n\u001b[1;32m     95\u001b[0m                                             \u001b[0mgamma\u001b[0m\u001b[0;34m=\u001b[0m\u001b[0mself\u001b[0m\u001b[0;34m.\u001b[0m\u001b[0mgamma\u001b[0m\u001b[0;34m,\u001b[0m \u001b[0mgae_lambda\u001b[0m\u001b[0;34m=\u001b[0m\u001b[0mself\u001b[0m\u001b[0;34m.\u001b[0m\u001b[0mgae_lambda\u001b[0m\u001b[0;34m,\u001b[0m\u001b[0;34m\u001b[0m\u001b[0;34m\u001b[0m\u001b[0m\n\u001b[1;32m     96\u001b[0m                                             n_envs=self.n_envs)\n\u001b[0;32m---> 97\u001b[0;31m         self.policy = self.policy_class(self.observation_space, self.action_space,\n\u001b[0m\u001b[1;32m     98\u001b[0m                                         \u001b[0mself\u001b[0m\u001b[0;34m.\u001b[0m\u001b[0mlr_schedule\u001b[0m\u001b[0;34m,\u001b[0m \u001b[0muse_sde\u001b[0m\u001b[0;34m=\u001b[0m\u001b[0mself\u001b[0m\u001b[0;34m.\u001b[0m\u001b[0muse_sde\u001b[0m\u001b[0;34m,\u001b[0m \u001b[0mdevice\u001b[0m\u001b[0;34m=\u001b[0m\u001b[0mself\u001b[0m\u001b[0;34m.\u001b[0m\u001b[0mdevice\u001b[0m\u001b[0;34m,\u001b[0m\u001b[0;34m\u001b[0m\u001b[0;34m\u001b[0m\u001b[0m\n\u001b[1;32m     99\u001b[0m                                         **self.policy_kwargs)\n",
      "\u001b[0;32m~/.local/lib/python3.8/site-packages/stable_baselines3/common/policies.py\u001b[0m in \u001b[0;36m__init__\u001b[0;34m(self, observation_space, action_space, lr_schedule, net_arch, device, activation_fn, ortho_init, use_sde, log_std_init, full_std, sde_net_arch, use_expln, squash_output, features_extractor_class, features_extractor_kwargs, normalize_images, optimizer_class, optimizer_kwargs)\u001b[0m\n\u001b[1;32m    362\u001b[0m         \u001b[0mself\u001b[0m\u001b[0;34m.\u001b[0m\u001b[0maction_dist\u001b[0m \u001b[0;34m=\u001b[0m \u001b[0mmake_proba_distribution\u001b[0m\u001b[0;34m(\u001b[0m\u001b[0maction_space\u001b[0m\u001b[0;34m,\u001b[0m \u001b[0muse_sde\u001b[0m\u001b[0;34m=\u001b[0m\u001b[0muse_sde\u001b[0m\u001b[0;34m,\u001b[0m \u001b[0mdist_kwargs\u001b[0m\u001b[0;34m=\u001b[0m\u001b[0mdist_kwargs\u001b[0m\u001b[0;34m)\u001b[0m\u001b[0;34m\u001b[0m\u001b[0;34m\u001b[0m\u001b[0m\n\u001b[1;32m    363\u001b[0m \u001b[0;34m\u001b[0m\u001b[0m\n\u001b[0;32m--> 364\u001b[0;31m         \u001b[0mself\u001b[0m\u001b[0;34m.\u001b[0m\u001b[0m_build\u001b[0m\u001b[0;34m(\u001b[0m\u001b[0mlr_schedule\u001b[0m\u001b[0;34m)\u001b[0m\u001b[0;34m\u001b[0m\u001b[0;34m\u001b[0m\u001b[0m\n\u001b[0m\u001b[1;32m    365\u001b[0m \u001b[0;34m\u001b[0m\u001b[0m\n\u001b[1;32m    366\u001b[0m     \u001b[0;32mdef\u001b[0m \u001b[0m_get_data\u001b[0m\u001b[0;34m(\u001b[0m\u001b[0mself\u001b[0m\u001b[0;34m)\u001b[0m \u001b[0;34m->\u001b[0m \u001b[0mDict\u001b[0m\u001b[0;34m[\u001b[0m\u001b[0mstr\u001b[0m\u001b[0;34m,\u001b[0m \u001b[0mAny\u001b[0m\u001b[0;34m]\u001b[0m\u001b[0;34m:\u001b[0m\u001b[0;34m\u001b[0m\u001b[0;34m\u001b[0m\u001b[0m\n",
      "\u001b[0;32m~/.local/lib/python3.8/site-packages/stable_baselines3/common/policies.py\u001b[0m in \u001b[0;36m_build\u001b[0;34m(self, lr_schedule)\u001b[0m\n\u001b[1;32m    405\u001b[0m         \u001b[0;31m#       net_arch here is an empty list and mlp_extractor does not\u001b[0m\u001b[0;34m\u001b[0m\u001b[0;34m\u001b[0m\u001b[0;34m\u001b[0m\u001b[0m\n\u001b[1;32m    406\u001b[0m         \u001b[0;31m#       really contain any layers (acts like an identity module).\u001b[0m\u001b[0;34m\u001b[0m\u001b[0;34m\u001b[0m\u001b[0;34m\u001b[0m\u001b[0m\n\u001b[0;32m--> 407\u001b[0;31m         self.mlp_extractor = MlpExtractor(self.features_dim, net_arch=self.net_arch,\n\u001b[0m\u001b[1;32m    408\u001b[0m                                           activation_fn=self.activation_fn, device=self.device)\n\u001b[1;32m    409\u001b[0m \u001b[0;34m\u001b[0m\u001b[0m\n",
      "\u001b[0;32m~/.local/lib/python3.8/site-packages/stable_baselines3/common/torch_layers.py\u001b[0m in \u001b[0;36m__init__\u001b[0;34m(self, feature_dim, net_arch, activation_fn, device)\u001b[0m\n\u001b[1;32m    207\u001b[0m         \u001b[0;31m# If the list of layers is empty, the network will just act as an Identity module\u001b[0m\u001b[0;34m\u001b[0m\u001b[0;34m\u001b[0m\u001b[0;34m\u001b[0m\u001b[0m\n\u001b[1;32m    208\u001b[0m         \u001b[0mself\u001b[0m\u001b[0;34m.\u001b[0m\u001b[0mshared_net\u001b[0m \u001b[0;34m=\u001b[0m \u001b[0mnn\u001b[0m\u001b[0;34m.\u001b[0m\u001b[0mSequential\u001b[0m\u001b[0;34m(\u001b[0m\u001b[0;34m*\u001b[0m\u001b[0mshared_net\u001b[0m\u001b[0;34m)\u001b[0m\u001b[0;34m.\u001b[0m\u001b[0mto\u001b[0m\u001b[0;34m(\u001b[0m\u001b[0mdevice\u001b[0m\u001b[0;34m)\u001b[0m\u001b[0;34m\u001b[0m\u001b[0;34m\u001b[0m\u001b[0m\n\u001b[0;32m--> 209\u001b[0;31m         \u001b[0mself\u001b[0m\u001b[0;34m.\u001b[0m\u001b[0mpolicy_net\u001b[0m \u001b[0;34m=\u001b[0m \u001b[0mnn\u001b[0m\u001b[0;34m.\u001b[0m\u001b[0mSequential\u001b[0m\u001b[0;34m(\u001b[0m\u001b[0;34m*\u001b[0m\u001b[0mpolicy_net\u001b[0m\u001b[0;34m)\u001b[0m\u001b[0;34m.\u001b[0m\u001b[0mto\u001b[0m\u001b[0;34m(\u001b[0m\u001b[0mdevice\u001b[0m\u001b[0;34m)\u001b[0m\u001b[0;34m\u001b[0m\u001b[0;34m\u001b[0m\u001b[0m\n\u001b[0m\u001b[1;32m    210\u001b[0m         \u001b[0mself\u001b[0m\u001b[0;34m.\u001b[0m\u001b[0mvalue_net\u001b[0m \u001b[0;34m=\u001b[0m \u001b[0mnn\u001b[0m\u001b[0;34m.\u001b[0m\u001b[0mSequential\u001b[0m\u001b[0;34m(\u001b[0m\u001b[0;34m*\u001b[0m\u001b[0mvalue_net\u001b[0m\u001b[0;34m)\u001b[0m\u001b[0;34m.\u001b[0m\u001b[0mto\u001b[0m\u001b[0;34m(\u001b[0m\u001b[0mdevice\u001b[0m\u001b[0;34m)\u001b[0m\u001b[0;34m\u001b[0m\u001b[0;34m\u001b[0m\u001b[0m\n\u001b[1;32m    211\u001b[0m \u001b[0;34m\u001b[0m\u001b[0m\n",
      "\u001b[0;32m~/.local/lib/python3.8/site-packages/torch/nn/modules/module.py\u001b[0m in \u001b[0;36mto\u001b[0;34m(self, *args, **kwargs)\u001b[0m\n\u001b[1;32m    441\u001b[0m             \u001b[0;32mreturn\u001b[0m \u001b[0mt\u001b[0m\u001b[0;34m.\u001b[0m\u001b[0mto\u001b[0m\u001b[0;34m(\u001b[0m\u001b[0mdevice\u001b[0m\u001b[0;34m,\u001b[0m \u001b[0mdtype\u001b[0m \u001b[0;32mif\u001b[0m \u001b[0mt\u001b[0m\u001b[0;34m.\u001b[0m\u001b[0mis_floating_point\u001b[0m\u001b[0;34m(\u001b[0m\u001b[0;34m)\u001b[0m \u001b[0;32melse\u001b[0m \u001b[0;32mNone\u001b[0m\u001b[0;34m,\u001b[0m \u001b[0mnon_blocking\u001b[0m\u001b[0;34m)\u001b[0m\u001b[0;34m\u001b[0m\u001b[0;34m\u001b[0m\u001b[0m\n\u001b[1;32m    442\u001b[0m \u001b[0;34m\u001b[0m\u001b[0m\n\u001b[0;32m--> 443\u001b[0;31m         \u001b[0;32mreturn\u001b[0m \u001b[0mself\u001b[0m\u001b[0;34m.\u001b[0m\u001b[0m_apply\u001b[0m\u001b[0;34m(\u001b[0m\u001b[0mconvert\u001b[0m\u001b[0;34m)\u001b[0m\u001b[0;34m\u001b[0m\u001b[0;34m\u001b[0m\u001b[0m\n\u001b[0m\u001b[1;32m    444\u001b[0m \u001b[0;34m\u001b[0m\u001b[0m\n\u001b[1;32m    445\u001b[0m     \u001b[0;32mdef\u001b[0m \u001b[0mregister_backward_hook\u001b[0m\u001b[0;34m(\u001b[0m\u001b[0mself\u001b[0m\u001b[0;34m,\u001b[0m \u001b[0mhook\u001b[0m\u001b[0;34m)\u001b[0m\u001b[0;34m:\u001b[0m\u001b[0;34m\u001b[0m\u001b[0;34m\u001b[0m\u001b[0m\n",
      "\u001b[0;32m~/.local/lib/python3.8/site-packages/torch/nn/modules/module.py\u001b[0m in \u001b[0;36m_apply\u001b[0;34m(self, fn)\u001b[0m\n\u001b[1;32m    201\u001b[0m     \u001b[0;32mdef\u001b[0m \u001b[0m_apply\u001b[0m\u001b[0;34m(\u001b[0m\u001b[0mself\u001b[0m\u001b[0;34m,\u001b[0m \u001b[0mfn\u001b[0m\u001b[0;34m)\u001b[0m\u001b[0;34m:\u001b[0m\u001b[0;34m\u001b[0m\u001b[0;34m\u001b[0m\u001b[0m\n\u001b[1;32m    202\u001b[0m         \u001b[0;32mfor\u001b[0m \u001b[0mmodule\u001b[0m \u001b[0;32min\u001b[0m \u001b[0mself\u001b[0m\u001b[0;34m.\u001b[0m\u001b[0mchildren\u001b[0m\u001b[0;34m(\u001b[0m\u001b[0;34m)\u001b[0m\u001b[0;34m:\u001b[0m\u001b[0;34m\u001b[0m\u001b[0;34m\u001b[0m\u001b[0m\n\u001b[0;32m--> 203\u001b[0;31m             \u001b[0mmodule\u001b[0m\u001b[0;34m.\u001b[0m\u001b[0m_apply\u001b[0m\u001b[0;34m(\u001b[0m\u001b[0mfn\u001b[0m\u001b[0;34m)\u001b[0m\u001b[0;34m\u001b[0m\u001b[0;34m\u001b[0m\u001b[0m\n\u001b[0m\u001b[1;32m    204\u001b[0m \u001b[0;34m\u001b[0m\u001b[0m\n\u001b[1;32m    205\u001b[0m         \u001b[0;32mdef\u001b[0m \u001b[0mcompute_should_use_set_data\u001b[0m\u001b[0;34m(\u001b[0m\u001b[0mtensor\u001b[0m\u001b[0;34m,\u001b[0m \u001b[0mtensor_applied\u001b[0m\u001b[0;34m)\u001b[0m\u001b[0;34m:\u001b[0m\u001b[0;34m\u001b[0m\u001b[0;34m\u001b[0m\u001b[0m\n",
      "\u001b[0;32m~/.local/lib/python3.8/site-packages/torch/nn/modules/module.py\u001b[0m in \u001b[0;36m_apply\u001b[0;34m(self, fn)\u001b[0m\n\u001b[1;32m    223\u001b[0m                 \u001b[0;31m# `with torch.no_grad():`\u001b[0m\u001b[0;34m\u001b[0m\u001b[0;34m\u001b[0m\u001b[0;34m\u001b[0m\u001b[0m\n\u001b[1;32m    224\u001b[0m                 \u001b[0;32mwith\u001b[0m \u001b[0mtorch\u001b[0m\u001b[0;34m.\u001b[0m\u001b[0mno_grad\u001b[0m\u001b[0;34m(\u001b[0m\u001b[0;34m)\u001b[0m\u001b[0;34m:\u001b[0m\u001b[0;34m\u001b[0m\u001b[0;34m\u001b[0m\u001b[0m\n\u001b[0;32m--> 225\u001b[0;31m                     \u001b[0mparam_applied\u001b[0m \u001b[0;34m=\u001b[0m \u001b[0mfn\u001b[0m\u001b[0;34m(\u001b[0m\u001b[0mparam\u001b[0m\u001b[0;34m)\u001b[0m\u001b[0;34m\u001b[0m\u001b[0;34m\u001b[0m\u001b[0m\n\u001b[0m\u001b[1;32m    226\u001b[0m                 \u001b[0mshould_use_set_data\u001b[0m \u001b[0;34m=\u001b[0m \u001b[0mcompute_should_use_set_data\u001b[0m\u001b[0;34m(\u001b[0m\u001b[0mparam\u001b[0m\u001b[0;34m,\u001b[0m \u001b[0mparam_applied\u001b[0m\u001b[0;34m)\u001b[0m\u001b[0;34m\u001b[0m\u001b[0;34m\u001b[0m\u001b[0m\n\u001b[1;32m    227\u001b[0m                 \u001b[0;32mif\u001b[0m \u001b[0mshould_use_set_data\u001b[0m\u001b[0;34m:\u001b[0m\u001b[0;34m\u001b[0m\u001b[0;34m\u001b[0m\u001b[0m\n",
      "\u001b[0;32m~/.local/lib/python3.8/site-packages/torch/nn/modules/module.py\u001b[0m in \u001b[0;36mconvert\u001b[0;34m(t)\u001b[0m\n\u001b[1;32m    439\u001b[0m             \u001b[0;32mif\u001b[0m \u001b[0mconvert_to_format\u001b[0m \u001b[0;32mis\u001b[0m \u001b[0;32mnot\u001b[0m \u001b[0;32mNone\u001b[0m \u001b[0;32mand\u001b[0m \u001b[0mt\u001b[0m\u001b[0;34m.\u001b[0m\u001b[0mdim\u001b[0m\u001b[0;34m(\u001b[0m\u001b[0;34m)\u001b[0m \u001b[0;34m==\u001b[0m \u001b[0;36m4\u001b[0m\u001b[0;34m:\u001b[0m\u001b[0;34m\u001b[0m\u001b[0;34m\u001b[0m\u001b[0m\n\u001b[1;32m    440\u001b[0m                 \u001b[0;32mreturn\u001b[0m \u001b[0mt\u001b[0m\u001b[0;34m.\u001b[0m\u001b[0mto\u001b[0m\u001b[0;34m(\u001b[0m\u001b[0mdevice\u001b[0m\u001b[0;34m,\u001b[0m \u001b[0mdtype\u001b[0m \u001b[0;32mif\u001b[0m \u001b[0mt\u001b[0m\u001b[0;34m.\u001b[0m\u001b[0mis_floating_point\u001b[0m\u001b[0;34m(\u001b[0m\u001b[0;34m)\u001b[0m \u001b[0;32melse\u001b[0m \u001b[0;32mNone\u001b[0m\u001b[0;34m,\u001b[0m \u001b[0mnon_blocking\u001b[0m\u001b[0;34m,\u001b[0m \u001b[0mmemory_format\u001b[0m\u001b[0;34m=\u001b[0m\u001b[0mconvert_to_format\u001b[0m\u001b[0;34m)\u001b[0m\u001b[0;34m\u001b[0m\u001b[0;34m\u001b[0m\u001b[0m\n\u001b[0;32m--> 441\u001b[0;31m             \u001b[0;32mreturn\u001b[0m \u001b[0mt\u001b[0m\u001b[0;34m.\u001b[0m\u001b[0mto\u001b[0m\u001b[0;34m(\u001b[0m\u001b[0mdevice\u001b[0m\u001b[0;34m,\u001b[0m \u001b[0mdtype\u001b[0m \u001b[0;32mif\u001b[0m \u001b[0mt\u001b[0m\u001b[0;34m.\u001b[0m\u001b[0mis_floating_point\u001b[0m\u001b[0;34m(\u001b[0m\u001b[0;34m)\u001b[0m \u001b[0;32melse\u001b[0m \u001b[0;32mNone\u001b[0m\u001b[0;34m,\u001b[0m \u001b[0mnon_blocking\u001b[0m\u001b[0;34m)\u001b[0m\u001b[0;34m\u001b[0m\u001b[0;34m\u001b[0m\u001b[0m\n\u001b[0m\u001b[1;32m    442\u001b[0m \u001b[0;34m\u001b[0m\u001b[0m\n\u001b[1;32m    443\u001b[0m         \u001b[0;32mreturn\u001b[0m \u001b[0mself\u001b[0m\u001b[0;34m.\u001b[0m\u001b[0m_apply\u001b[0m\u001b[0;34m(\u001b[0m\u001b[0mconvert\u001b[0m\u001b[0;34m)\u001b[0m\u001b[0;34m\u001b[0m\u001b[0;34m\u001b[0m\u001b[0m\n",
      "\u001b[0;31mRuntimeError\u001b[0m: CUDA error: unspecified launch failure"
     ]
    }
   ],
   "source": [
    "import gym\n",
    "import time\n",
    "t1 = time.time()\n",
    "from stable_baselines3 import PPO\n",
    "from stable_baselines3.ppo import MlpPolicy\n",
    "from stable_baselines3.common.cmd_util import make_vec_env\n",
    "\n",
    "# Parallel environments\n",
    "envname = 'LunarLanderContinuous-v2'\n",
    "env = make_vec_env(envname, n_envs=4)\n",
    "\n",
    "model = PPO(MlpPolicy, env, verbose=2)\n",
    "# model.load('lunar_stable.sb')\n",
    "\n",
    "model.learn(total_timesteps=250000*4, log_interval=1, tb_log_name='/home/darijan/mujoco-py/tb/ppo_stable_4')\n",
    "\n",
    "t2 = time.time()\n",
    "print(\"total time = \", t2-t1)\n",
    "env = gym.make(envname)\n",
    "obs = env.reset()\n",
    "\n",
    "\n",
    "for i in range(200):\n",
    "    action, _states = model.predict(obs)\n",
    "    obs, rewards, dones, info = env.step(action)\n",
    "    env.render()\n",
    "    time.sleep(0.01)\n",
    "env.close()"
   ]
  },
  {
   "cell_type": "code",
   "execution_count": null,
   "metadata": {},
   "outputs": [],
   "source": [
    "4000*256"
   ]
  },
  {
   "cell_type": "code",
   "execution_count": 30,
   "metadata": {},
   "outputs": [
    {
     "output_type": "error",
     "ename": "RuntimeError",
     "evalue": "cuda runtime error (719) : unspecified launch failure at /pytorch/torch/csrc/generic/serialization.cpp:26",
     "traceback": [
      "\u001b[0;31m---------------------------------------------------------------------------\u001b[0m",
      "\u001b[0;31mRuntimeError\u001b[0m                              Traceback (most recent call last)",
      "\u001b[0;32m<ipython-input-30-becde1a28b6f>\u001b[0m in \u001b[0;36m<module>\u001b[0;34m\u001b[0m\n\u001b[0;32m----> 1\u001b[0;31m \u001b[0mmodel\u001b[0m\u001b[0;34m.\u001b[0m\u001b[0msave\u001b[0m\u001b[0;34m(\u001b[0m\u001b[0;34m'lunar_stable.sb'\u001b[0m\u001b[0;34m)\u001b[0m\u001b[0;34m\u001b[0m\u001b[0;34m\u001b[0m\u001b[0m\n\u001b[0m",
      "\u001b[0;32m~/.local/lib/python3.8/site-packages/stable_baselines3/common/base_class.py\u001b[0m in \u001b[0;36msave\u001b[0;34m(self, path, exclude, include)\u001b[0m\n\u001b[1;32m    522\u001b[0m             \u001b[0mparams_to_save\u001b[0m\u001b[0;34m[\u001b[0m\u001b[0mname\u001b[0m\u001b[0;34m]\u001b[0m \u001b[0;34m=\u001b[0m \u001b[0mattr\u001b[0m\u001b[0;34m.\u001b[0m\u001b[0mstate_dict\u001b[0m\u001b[0;34m(\u001b[0m\u001b[0;34m)\u001b[0m\u001b[0;34m\u001b[0m\u001b[0;34m\u001b[0m\u001b[0m\n\u001b[1;32m    523\u001b[0m \u001b[0;34m\u001b[0m\u001b[0m\n\u001b[0;32m--> 524\u001b[0;31m         \u001b[0msave_to_zip_file\u001b[0m\u001b[0;34m(\u001b[0m\u001b[0mpath\u001b[0m\u001b[0;34m,\u001b[0m \u001b[0mdata\u001b[0m\u001b[0;34m=\u001b[0m\u001b[0mdata\u001b[0m\u001b[0;34m,\u001b[0m \u001b[0mparams\u001b[0m\u001b[0;34m=\u001b[0m\u001b[0mparams_to_save\u001b[0m\u001b[0;34m,\u001b[0m \u001b[0mtensors\u001b[0m\u001b[0;34m=\u001b[0m\u001b[0mtensors\u001b[0m\u001b[0;34m)\u001b[0m\u001b[0;34m\u001b[0m\u001b[0;34m\u001b[0m\u001b[0m\n\u001b[0m",
      "\u001b[0;32m~/.local/lib/python3.8/site-packages/stable_baselines3/common/save_util.py\u001b[0m in \u001b[0;36msave_to_zip_file\u001b[0;34m(save_path, data, params, tensors)\u001b[0m\n\u001b[1;32m    211\u001b[0m             \u001b[0;32mfor\u001b[0m \u001b[0mfile_name\u001b[0m\u001b[0;34m,\u001b[0m \u001b[0mdict_\u001b[0m \u001b[0;32min\u001b[0m \u001b[0mparams\u001b[0m\u001b[0;34m.\u001b[0m\u001b[0mitems\u001b[0m\u001b[0;34m(\u001b[0m\u001b[0;34m)\u001b[0m\u001b[0;34m:\u001b[0m\u001b[0;34m\u001b[0m\u001b[0;34m\u001b[0m\u001b[0m\n\u001b[1;32m    212\u001b[0m                 \u001b[0;32mwith\u001b[0m \u001b[0marchive\u001b[0m\u001b[0;34m.\u001b[0m\u001b[0mopen\u001b[0m\u001b[0;34m(\u001b[0m\u001b[0mfile_name\u001b[0m \u001b[0;34m+\u001b[0m \u001b[0;34m'.pth'\u001b[0m\u001b[0;34m,\u001b[0m \u001b[0mmode\u001b[0m\u001b[0;34m=\u001b[0m\u001b[0;34m\"w\"\u001b[0m\u001b[0;34m)\u001b[0m \u001b[0;32mas\u001b[0m \u001b[0mparam_file\u001b[0m\u001b[0;34m:\u001b[0m\u001b[0;34m\u001b[0m\u001b[0;34m\u001b[0m\u001b[0m\n\u001b[0;32m--> 213\u001b[0;31m                     \u001b[0mth\u001b[0m\u001b[0;34m.\u001b[0m\u001b[0msave\u001b[0m\u001b[0;34m(\u001b[0m\u001b[0mdict_\u001b[0m\u001b[0;34m,\u001b[0m \u001b[0mparam_file\u001b[0m\u001b[0;34m)\u001b[0m\u001b[0;34m\u001b[0m\u001b[0;34m\u001b[0m\u001b[0m\n\u001b[0m\u001b[1;32m    214\u001b[0m \u001b[0;34m\u001b[0m\u001b[0m\n\u001b[1;32m    215\u001b[0m \u001b[0;34m\u001b[0m\u001b[0m\n",
      "\u001b[0;32m~/.local/lib/python3.8/site-packages/torch/serialization.py\u001b[0m in \u001b[0;36msave\u001b[0;34m(obj, f, pickle_module, pickle_protocol, _use_new_zipfile_serialization)\u001b[0m\n\u001b[1;32m    368\u001b[0m \u001b[0;34m\u001b[0m\u001b[0m\n\u001b[1;32m    369\u001b[0m     \u001b[0;32mwith\u001b[0m \u001b[0m_open_file_like\u001b[0m\u001b[0;34m(\u001b[0m\u001b[0mf\u001b[0m\u001b[0;34m,\u001b[0m \u001b[0;34m'wb'\u001b[0m\u001b[0;34m)\u001b[0m \u001b[0;32mas\u001b[0m \u001b[0mopened_file\u001b[0m\u001b[0;34m:\u001b[0m\u001b[0;34m\u001b[0m\u001b[0;34m\u001b[0m\u001b[0m\n\u001b[0;32m--> 370\u001b[0;31m         \u001b[0m_legacy_save\u001b[0m\u001b[0;34m(\u001b[0m\u001b[0mobj\u001b[0m\u001b[0;34m,\u001b[0m \u001b[0mopened_file\u001b[0m\u001b[0;34m,\u001b[0m \u001b[0mpickle_module\u001b[0m\u001b[0;34m,\u001b[0m \u001b[0mpickle_protocol\u001b[0m\u001b[0;34m)\u001b[0m\u001b[0;34m\u001b[0m\u001b[0;34m\u001b[0m\u001b[0m\n\u001b[0m\u001b[1;32m    371\u001b[0m \u001b[0;34m\u001b[0m\u001b[0m\n\u001b[1;32m    372\u001b[0m \u001b[0;34m\u001b[0m\u001b[0m\n",
      "\u001b[0;32m~/.local/lib/python3.8/site-packages/torch/serialization.py\u001b[0m in \u001b[0;36m_legacy_save\u001b[0;34m(obj, f, pickle_module, pickle_protocol)\u001b[0m\n\u001b[1;32m    447\u001b[0m     \u001b[0mf\u001b[0m\u001b[0;34m.\u001b[0m\u001b[0mflush\u001b[0m\u001b[0;34m(\u001b[0m\u001b[0;34m)\u001b[0m\u001b[0;34m\u001b[0m\u001b[0;34m\u001b[0m\u001b[0m\n\u001b[1;32m    448\u001b[0m     \u001b[0;32mfor\u001b[0m \u001b[0mkey\u001b[0m \u001b[0;32min\u001b[0m \u001b[0mserialized_storage_keys\u001b[0m\u001b[0;34m:\u001b[0m\u001b[0;34m\u001b[0m\u001b[0;34m\u001b[0m\u001b[0m\n\u001b[0;32m--> 449\u001b[0;31m         \u001b[0mserialized_storages\u001b[0m\u001b[0;34m[\u001b[0m\u001b[0mkey\u001b[0m\u001b[0;34m]\u001b[0m\u001b[0;34m.\u001b[0m\u001b[0m_write_file\u001b[0m\u001b[0;34m(\u001b[0m\u001b[0mf\u001b[0m\u001b[0;34m,\u001b[0m \u001b[0m_should_read_directly\u001b[0m\u001b[0;34m(\u001b[0m\u001b[0mf\u001b[0m\u001b[0;34m)\u001b[0m\u001b[0;34m,\u001b[0m \u001b[0;32mTrue\u001b[0m\u001b[0;34m)\u001b[0m\u001b[0;34m\u001b[0m\u001b[0;34m\u001b[0m\u001b[0m\n\u001b[0m\u001b[1;32m    450\u001b[0m \u001b[0;34m\u001b[0m\u001b[0m\n\u001b[1;32m    451\u001b[0m \u001b[0;34m\u001b[0m\u001b[0m\n",
      "\u001b[0;31mRuntimeError\u001b[0m: cuda runtime error (719) : unspecified launch failure at /pytorch/torch/csrc/generic/serialization.cpp:26"
     ]
    }
   ],
   "source": [
    "model.save('lunar_stable.sb')"
   ]
  },
  {
   "cell_type": "code",
   "execution_count": 31,
   "metadata": {
    "tags": []
   },
   "outputs": [
    {
     "output_type": "error",
     "ename": "RuntimeError",
     "evalue": "CUDA error: unspecified launch failure",
     "traceback": [
      "\u001b[0;31m---------------------------------------------------------------------------\u001b[0m",
      "\u001b[0;31mRuntimeError\u001b[0m                              Traceback (most recent call last)",
      "\u001b[0;32m<ipython-input-31-14bed797d510>\u001b[0m in \u001b[0;36m<module>\u001b[0;34m\u001b[0m\n\u001b[1;32m      3\u001b[0m \u001b[0mrews\u001b[0m \u001b[0;34m=\u001b[0m \u001b[0;36m0\u001b[0m\u001b[0;34m\u001b[0m\u001b[0;34m\u001b[0m\u001b[0m\n\u001b[1;32m      4\u001b[0m \u001b[0;32mfor\u001b[0m \u001b[0mi\u001b[0m \u001b[0;32min\u001b[0m \u001b[0mrange\u001b[0m\u001b[0;34m(\u001b[0m\u001b[0;36m1000\u001b[0m\u001b[0;34m)\u001b[0m\u001b[0;34m:\u001b[0m\u001b[0;34m\u001b[0m\u001b[0;34m\u001b[0m\u001b[0m\n\u001b[0;32m----> 5\u001b[0;31m     \u001b[0maction\u001b[0m\u001b[0;34m,\u001b[0m \u001b[0m_states\u001b[0m \u001b[0;34m=\u001b[0m \u001b[0mmodel\u001b[0m\u001b[0;34m.\u001b[0m\u001b[0mpredict\u001b[0m\u001b[0;34m(\u001b[0m\u001b[0mobs\u001b[0m\u001b[0;34m)\u001b[0m\u001b[0;34m\u001b[0m\u001b[0;34m\u001b[0m\u001b[0m\n\u001b[0m\u001b[1;32m      6\u001b[0m     \u001b[0mobs\u001b[0m\u001b[0;34m,\u001b[0m \u001b[0mrewards\u001b[0m\u001b[0;34m,\u001b[0m \u001b[0mdones\u001b[0m\u001b[0;34m,\u001b[0m \u001b[0minfo\u001b[0m \u001b[0;34m=\u001b[0m \u001b[0menv\u001b[0m\u001b[0;34m.\u001b[0m\u001b[0mstep\u001b[0m\u001b[0;34m(\u001b[0m\u001b[0maction\u001b[0m\u001b[0;34m)\u001b[0m\u001b[0;34m\u001b[0m\u001b[0;34m\u001b[0m\u001b[0m\n\u001b[1;32m      7\u001b[0m     \u001b[0mrews\u001b[0m \u001b[0;34m+=\u001b[0m \u001b[0mrewards\u001b[0m\u001b[0;34m\u001b[0m\u001b[0;34m\u001b[0m\u001b[0m\n",
      "\u001b[0;32m~/.local/lib/python3.8/site-packages/stable_baselines3/common/base_class.py\u001b[0m in \u001b[0;36mpredict\u001b[0;34m(self, observation, state, mask, deterministic)\u001b[0m\n\u001b[1;32m    287\u001b[0m             \u001b[0;34m(\u001b[0m\u001b[0mused\u001b[0m \u001b[0;32min\u001b[0m \u001b[0mrecurrent\u001b[0m \u001b[0mpolicies\u001b[0m\u001b[0;34m)\u001b[0m\u001b[0;34m\u001b[0m\u001b[0;34m\u001b[0m\u001b[0m\n\u001b[1;32m    288\u001b[0m         \"\"\"\n\u001b[0;32m--> 289\u001b[0;31m         \u001b[0;32mreturn\u001b[0m \u001b[0mself\u001b[0m\u001b[0;34m.\u001b[0m\u001b[0mpolicy\u001b[0m\u001b[0;34m.\u001b[0m\u001b[0mpredict\u001b[0m\u001b[0;34m(\u001b[0m\u001b[0mobservation\u001b[0m\u001b[0;34m,\u001b[0m \u001b[0mstate\u001b[0m\u001b[0;34m,\u001b[0m \u001b[0mmask\u001b[0m\u001b[0;34m,\u001b[0m \u001b[0mdeterministic\u001b[0m\u001b[0;34m)\u001b[0m\u001b[0;34m\u001b[0m\u001b[0;34m\u001b[0m\u001b[0m\n\u001b[0m\u001b[1;32m    290\u001b[0m \u001b[0;34m\u001b[0m\u001b[0m\n\u001b[1;32m    291\u001b[0m     \u001b[0;34m@\u001b[0m\u001b[0mclassmethod\u001b[0m\u001b[0;34m\u001b[0m\u001b[0;34m\u001b[0m\u001b[0m\n",
      "\u001b[0;32m~/.local/lib/python3.8/site-packages/stable_baselines3/common/policies.py\u001b[0m in \u001b[0;36mpredict\u001b[0;34m(self, observation, state, mask, deterministic)\u001b[0m\n\u001b[1;32m    155\u001b[0m         \u001b[0mobservation\u001b[0m \u001b[0;34m=\u001b[0m \u001b[0mobservation\u001b[0m\u001b[0;34m.\u001b[0m\u001b[0mreshape\u001b[0m\u001b[0;34m(\u001b[0m\u001b[0;34m(\u001b[0m\u001b[0;34m-\u001b[0m\u001b[0;36m1\u001b[0m\u001b[0;34m,\u001b[0m\u001b[0;34m)\u001b[0m \u001b[0;34m+\u001b[0m \u001b[0mself\u001b[0m\u001b[0;34m.\u001b[0m\u001b[0mobservation_space\u001b[0m\u001b[0;34m.\u001b[0m\u001b[0mshape\u001b[0m\u001b[0;34m)\u001b[0m\u001b[0;34m\u001b[0m\u001b[0;34m\u001b[0m\u001b[0m\n\u001b[1;32m    156\u001b[0m \u001b[0;34m\u001b[0m\u001b[0m\n\u001b[0;32m--> 157\u001b[0;31m         \u001b[0mobservation\u001b[0m \u001b[0;34m=\u001b[0m \u001b[0mth\u001b[0m\u001b[0;34m.\u001b[0m\u001b[0mas_tensor\u001b[0m\u001b[0;34m(\u001b[0m\u001b[0mobservation\u001b[0m\u001b[0;34m)\u001b[0m\u001b[0;34m.\u001b[0m\u001b[0mto\u001b[0m\u001b[0;34m(\u001b[0m\u001b[0mself\u001b[0m\u001b[0;34m.\u001b[0m\u001b[0mdevice\u001b[0m\u001b[0;34m)\u001b[0m\u001b[0;34m\u001b[0m\u001b[0;34m\u001b[0m\u001b[0m\n\u001b[0m\u001b[1;32m    158\u001b[0m         \u001b[0;32mwith\u001b[0m \u001b[0mth\u001b[0m\u001b[0;34m.\u001b[0m\u001b[0mno_grad\u001b[0m\u001b[0;34m(\u001b[0m\u001b[0;34m)\u001b[0m\u001b[0;34m:\u001b[0m\u001b[0;34m\u001b[0m\u001b[0;34m\u001b[0m\u001b[0m\n\u001b[1;32m    159\u001b[0m             \u001b[0mactions\u001b[0m \u001b[0;34m=\u001b[0m \u001b[0mself\u001b[0m\u001b[0;34m.\u001b[0m\u001b[0m_predict\u001b[0m\u001b[0;34m(\u001b[0m\u001b[0mobservation\u001b[0m\u001b[0;34m,\u001b[0m \u001b[0mdeterministic\u001b[0m\u001b[0;34m=\u001b[0m\u001b[0mdeterministic\u001b[0m\u001b[0;34m)\u001b[0m\u001b[0;34m\u001b[0m\u001b[0;34m\u001b[0m\u001b[0m\n",
      "\u001b[0;31mRuntimeError\u001b[0m: CUDA error: unspecified launch failure"
     ]
    }
   ],
   "source": [
    "env = gym.make(envname)\n",
    "obs = env.reset()\n",
    "rews = 0\n",
    "for i in range(1000):\n",
    "    action, _states = model.predict(obs)\n",
    "    obs, rewards, dones, info = env.step(action)\n",
    "    rews += rewards\n",
    "    env.render()\n",
    "    if dones:\n",
    "        print(i, \"last\")\n",
    "        break\n",
    "    time.sleep(0.005)\n",
    "env.close()\n",
    "rews"
   ]
  },
  {
   "cell_type": "code",
   "execution_count": 20,
   "metadata": {
    "tags": []
   },
   "outputs": [],
   "source": [
    "model = model.load('lunar_stable.sb')\n"
   ]
  },
  {
   "cell_type": "code",
   "execution_count": 18,
   "metadata": {
    "tags": []
   },
   "outputs": [
    {
     "output_type": "stream",
     "name": "stdout",
     "text": "Using cuda device\nWrapping the env in a DummyVecEnv.\n"
    }
   ],
   "source": [
    "model = PPO(MlpPolicy, env, verbose=2)\n"
   ]
  },
  {
   "cell_type": "code",
   "execution_count": 52,
   "metadata": {
    "tags": []
   },
   "outputs": [],
   "source": [
    "# rs = torch.range(0, 5).unsqueeze(-1)\n",
    "# rs = torch.ones(1000, 1)\n",
    "\n",
    "def gaef(rs, obs, done, vfunc, gamma, lmbda):\n",
    "    # print(rs.shape, obs.shape)\n",
    "    vals = vfunc(obs).detach()\n",
    "    T = len(vals)\n",
    "    lmbda_pow = [lmbda**i for i in range(T)]\n",
    "    rts = torch.zeros_like(rs)\n",
    "    flag = torch.zeros_like(rts)\n",
    "    def Rt(t):\n",
    "        # print(rts.shape, obs.shape, vals.shape)\n",
    "\n",
    "        if t == T-1:\n",
    "            toret = rs[-1] + gamma*(1-done[-1])*vals[-1]\n",
    "        else:\n",
    "            toret = (rs[t]+  (1-lmbda)*gamma*vals[t]) + gamma*lmbda*Rt(t+1)\n",
    "        rts[t] = toret\n",
    "        flag[t] += 1\n",
    "        return toret\n",
    "    Rt(0)\n",
    "    # print(rts.shape)\n",
    "    return rts\n",
    "\n",
    "def list_gae(list_all, vfunc, gamma, lmbda, rew_dim=2, obs_dim=3, done_dim=4):\n",
    "    toret = []\n",
    "    for i in range(len(list_all)):\n",
    "        obs = list_all[i][obs_dim]\n",
    "        done = list_all[i][done_dim]\n",
    "        toret.append(gaef(list_all[i][rew_dim], obs, done, vfunc, gamma, lmbda))\n",
    "    return toret\n",
    "\n",
    "# gamma = 0.9\n",
    "# lmbda = 1\n",
    "# # vfunc = lambda obs: rs/(1-gamma)\n",
    "# gaef(rs, rs, vfunc, gamma, lmbda)"
   ]
  },
  {
   "cell_type": "code",
   "execution_count": 242,
   "metadata": {},
   "outputs": [],
   "source": [
    "def n_step_rewards_batch(r, gamma):\n",
    "    zer = torch.zeros_like(r)\n",
    "    discr = discounted_sum(r, gamma)\n",
    "    rpadded = torch.cat((discr, zer), dim=1)\n",
    "    minus_discounted = None\n",
    "\n",
    "    for i in range(1, r.shape[1]):\n",
    "        if minus_discounted is not None:\n",
    "            minus_discounted = torch.cat(( minus_discounted, rpadded[:, i:i+r.shape[1]]), dim=-1)\n",
    "        else:\n",
    "            minus_discounted = rpadded[:, i:i+r.shape[1]]\n",
    "    minus_discounted = torch.cat((minus_discounted, torch.zeros_like(discr)), dim=-1)\n",
    "    return discr-minus_discounted"
   ]
  },
  {
   "cell_type": "code",
   "execution_count": 50,
   "metadata": {},
   "outputs": [
    {
     "output_type": "execute_result",
     "data": {
      "text/plain": "tensor([[45.],\n        [46.],\n        [46.],\n        [45.],\n        [43.],\n        [40.],\n        [36.],\n        [31.],\n        [25.],\n        [ 9.]])"
     },
     "metadata": {},
     "execution_count": 50
    }
   ],
   "source": [
    "rs = torch.range(0, 9).unsqueeze(-1)\n",
    "obs = rs\n",
    "vfunctest = lambda obs: nes #torch.zeros(obs.shape[0], 1)+1\n",
    "gae(rs, obs, vfunctest, 1, 0)"
   ]
  },
  {
   "cell_type": "code",
   "execution_count": 44,
   "metadata": {},
   "outputs": [
    {
     "output_type": "execute_result",
     "data": {
      "text/plain": "tensor([[45.],\n        [45.],\n        [44.],\n        [42.],\n        [39.],\n        [35.],\n        [30.],\n        [24.],\n        [17.],\n        [ 9.]])"
     },
     "metadata": {},
     "execution_count": 44
    }
   ],
   "source": [
    "nes = rs.__reversed__().cumsum(dim=0).__reversed__()\n",
    "nes"
   ]
  },
  {
   "cell_type": "code",
   "execution_count": 43,
   "metadata": {},
   "outputs": [
    {
     "output_type": "execute_result",
     "data": {
      "text/plain": "tensor([[0.],\n        [1.],\n        [2.],\n        [3.],\n        [4.],\n        [5.],\n        [6.],\n        [7.],\n        [8.],\n        [9.]])"
     },
     "metadata": {},
     "execution_count": 43
    }
   ],
   "source": [
    "rs"
   ]
  },
  {
   "cell_type": "code",
   "execution_count": 46,
   "metadata": {},
   "outputs": [],
   "source": [
    "def gae(rs, obs, vfunc, gamma, lmbda):\n",
    "    vals = vfunc(obs).detach()\n",
    "    T = len(vals)\n",
    "    lmbda_pow = [lmbda**i for i in range(T)]\n",
    "    rts = torch.zeros_like(rs)\n",
    "    flag = torch.zeros_like(rts)\n",
    "    def Rt(t):\n",
    "        if t == T-1:\n",
    "            toret = rs[-1]\n",
    "        else:\n",
    "            toret = rs[t]+ (1-lmbda)*gamma*vals[t] + gamma*lmbda*Rt(t+1)\n",
    "        rts[t, 0] = toret\n",
    "        flag[t] += 1\n",
    "        return toret\n",
    "    Rt(0)\n",
    "    return rts"
   ]
  },
  {
   "cell_type": "code",
   "execution_count": null,
   "metadata": {},
   "outputs": [],
   "source": []
  }
 ]
}