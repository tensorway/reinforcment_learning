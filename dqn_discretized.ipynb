{
 "cells": [
  {
   "cell_type": "code",
   "execution_count": 8,
   "metadata": {
    "tags": []
   },
   "outputs": [
    {
     "output_type": "execute_result",
     "data": {
      "text/plain": "array([-0.8188496,  0.7931332, -5.7149386], dtype=float32)"
     },
     "metadata": {},
     "execution_count": 8
    }
   ],
   "source": [
    "import gym\n",
    "import torch\n",
    "from myrl.buffers import ReplayBuffer, PrioritizedReplayBuffer\n",
    "from myrl.visualizer import showit\n",
    "from myrl.utils import ExperimentWriter, get_batch_obs, get_batch_a, Discrete2Continuous\n",
    "from myrl.value_functions import polyak, DQN\n",
    "from myrl.policies import RandomPolicy\n",
    "from myrl.environments import Envs\n",
    "\n",
    "\n",
    "wll = ExperimentWriter('tb/dqn_hhhh')\n",
    "envname = 'BipedalWalker-v3'\n",
    "# envname = 'LunarLander-v2'\n",
    "# envname = 'CartPole-v0'\n",
    "# envname = 'MountainCar-v0'\n",
    "envname = 'Pendulum-v0'\n",
    "# envname = 'Boxing-ram-v0'\n",
    "# envname = 'Breakout-ram-v0'\n",
    "# envname = 'Acrobot-v1'\n",
    "# envname = 'FetchPickAndPlace-v1'\n",
    "\n",
    "env = gym.make(envname)\n",
    "envs = Envs(envname, 1)\n",
    "env.observation_space.sample()"
   ]
  },
  {
   "cell_type": "code",
   "execution_count": 9,
   "metadata": {},
   "outputs": [],
   "source": [
    "rbuff = ReplayBuffer(10000)"
   ]
  },
  {
   "cell_type": "code",
   "execution_count": 16,
   "metadata": {
    "tags": []
   },
   "outputs": [
    {
     "output_type": "stream",
     "name": "stdout",
     "text": "Box(1,) Box(3,)\n"
    },
    {
     "output_type": "execute_result",
     "data": {
      "text/plain": "DQN(\n  (layers): ModuleList(\n    (0): Linear(in_features=3, out_features=512, bias=True)\n    (1): Linear(in_features=512, out_features=256, bias=True)\n    (2): Linear(in_features=256, out_features=7, bias=True)\n  )\n)"
     },
     "metadata": {},
     "execution_count": 16
    }
   ],
   "source": [
    "print(env.action_space, env.observation_space)\n",
    "# adim = env.action_space.n \n",
    "adim = 7\n",
    "sdim = env.observation_space.shape[0]\n",
    "dqn = DQN([sdim, 512, 256, adim])\n",
    "dqn_cont = Discrete2Continuous(-2, 2, adim, dqn.act).act\n",
    "import copy\n",
    "tdqn = copy.deepcopy(dqn)\n",
    "dqn"
   ]
  },
  {
   "cell_type": "code",
   "execution_count": 17,
   "metadata": {},
   "outputs": [],
   "source": [
    "opt = torch.optim.Adam(dqn.parameters(), lr=1e-1)"
   ]
  },
  {
   "cell_type": "code",
   "execution_count": 20,
   "metadata": {
    "tags": []
   },
   "outputs": [
    {
     "output_type": "stream",
     "name": "stdout",
     "text": "0 4.182734489440918 -1336.53662109375 jup\nshowit =  -1625.1324291191117\n10 2.9133734703063965 -1307.2371826171875 jup\n20 7.75437593460083 -1190.545654296875 jup\n30 4.599780082702637 -1591.1768798828125 jup\nshowit =  -1484.1492859219982\n40 13.360116958618164 -1539.18359375 jup\n50 83.07841491699219 -1336.1104736328125 jup\n60 7.462909698486328 -1242.3614501953125 jup\nshowit =  -1371.034450926845\n70 8.520977973937988 -1526.0106201171875 jup\n80 267.107177734375 -1342.6588134765625 jup\n90 126.30908203125 -1145.4527587890625 jup\nshowit =  -1685.5130157065503\n100 200.96038818359375 -1039.0223388671875 jup\n110 9.251940727233887 -1571.8043212890625 jup\n120 175.14283752441406 -1337.908203125 jup\nshowit =  -1430.8112466527878\n130 25.10015296936035 -1307.2589111328125 jup\n140 106.80274963378906 -1058.7205810546875 jup\n150 19.402557373046875 -1105.2777099609375 jup\nshowit =  -1277.055446032577\n160 8.977272987365723 -1293.6563720703125 jup\n170 368.5322265625 -1091.4091796875 jup\n180 16.466922760009766 -1065.1346435546875 jup\nshowit =  -1569.1110038116715\n"
    },
    {
     "output_type": "error",
     "ename": "KeyboardInterrupt",
     "evalue": "",
     "traceback": [
      "\u001b[0;31m---------------------------------------------------------------------------\u001b[0m",
      "\u001b[0;31mKeyboardInterrupt\u001b[0m                         Traceback (most recent call last)",
      "\u001b[0;32m<ipython-input-20-652a42586406>\u001b[0m in \u001b[0;36m<module>\u001b[0;34m\u001b[0m\n\u001b[1;32m     32\u001b[0m             \u001b[0mopt\u001b[0m\u001b[0;34m.\u001b[0m\u001b[0mzero_grad\u001b[0m\u001b[0;34m(\u001b[0m\u001b[0;34m)\u001b[0m\u001b[0;34m\u001b[0m\u001b[0;34m\u001b[0m\u001b[0m\n\u001b[1;32m     33\u001b[0m             \u001b[0mloss\u001b[0m\u001b[0;34m.\u001b[0m\u001b[0mbackward\u001b[0m\u001b[0;34m(\u001b[0m\u001b[0;34m)\u001b[0m\u001b[0;34m\u001b[0m\u001b[0;34m\u001b[0m\u001b[0m\n\u001b[0;32m---> 34\u001b[0;31m             \u001b[0mopt\u001b[0m\u001b[0;34m.\u001b[0m\u001b[0mstep\u001b[0m\u001b[0;34m(\u001b[0m\u001b[0;34m)\u001b[0m\u001b[0;34m\u001b[0m\u001b[0;34m\u001b[0m\u001b[0m\n\u001b[0m\u001b[1;32m     35\u001b[0m         \u001b[0mpolyak\u001b[0m\u001b[0;34m(\u001b[0m\u001b[0mdqn\u001b[0m\u001b[0;34m,\u001b[0m \u001b[0mtdqn\u001b[0m\u001b[0;34m,\u001b[0m \u001b[0;36m1\u001b[0m\u001b[0;34m-\u001b[0m\u001b[0;36m1\u001b[0m\u001b[0;34m/\u001b[0m\u001b[0;36m100\u001b[0m\u001b[0;34m)\u001b[0m\u001b[0;34m\u001b[0m\u001b[0;34m\u001b[0m\u001b[0m\n\u001b[1;32m     36\u001b[0m \u001b[0;34m\u001b[0m\u001b[0m\n",
      "\u001b[0;32m~/.local/lib/python3.8/site-packages/torch/autograd/grad_mode.py\u001b[0m in \u001b[0;36mdecorate_context\u001b[0;34m(*args, **kwargs)\u001b[0m\n\u001b[1;32m     13\u001b[0m         \u001b[0;32mdef\u001b[0m \u001b[0mdecorate_context\u001b[0m\u001b[0;34m(\u001b[0m\u001b[0;34m*\u001b[0m\u001b[0margs\u001b[0m\u001b[0;34m,\u001b[0m \u001b[0;34m**\u001b[0m\u001b[0mkwargs\u001b[0m\u001b[0;34m)\u001b[0m\u001b[0;34m:\u001b[0m\u001b[0;34m\u001b[0m\u001b[0;34m\u001b[0m\u001b[0m\n\u001b[1;32m     14\u001b[0m             \u001b[0;32mwith\u001b[0m \u001b[0mself\u001b[0m\u001b[0;34m:\u001b[0m\u001b[0;34m\u001b[0m\u001b[0;34m\u001b[0m\u001b[0m\n\u001b[0;32m---> 15\u001b[0;31m                 \u001b[0;32mreturn\u001b[0m \u001b[0mfunc\u001b[0m\u001b[0;34m(\u001b[0m\u001b[0;34m*\u001b[0m\u001b[0margs\u001b[0m\u001b[0;34m,\u001b[0m \u001b[0;34m**\u001b[0m\u001b[0mkwargs\u001b[0m\u001b[0;34m)\u001b[0m\u001b[0;34m\u001b[0m\u001b[0;34m\u001b[0m\u001b[0m\n\u001b[0m\u001b[1;32m     16\u001b[0m         \u001b[0;32mreturn\u001b[0m \u001b[0mdecorate_context\u001b[0m\u001b[0;34m\u001b[0m\u001b[0;34m\u001b[0m\u001b[0m\n\u001b[1;32m     17\u001b[0m \u001b[0;34m\u001b[0m\u001b[0m\n",
      "\u001b[0;32m~/.local/lib/python3.8/site-packages/torch/optim/adam.py\u001b[0m in \u001b[0;36mstep\u001b[0;34m(self, closure)\u001b[0m\n\u001b[1;32m     97\u001b[0m \u001b[0;34m\u001b[0m\u001b[0m\n\u001b[1;32m     98\u001b[0m                 \u001b[0;31m# Decay the first and second moment running average coefficient\u001b[0m\u001b[0;34m\u001b[0m\u001b[0;34m\u001b[0m\u001b[0;34m\u001b[0m\u001b[0m\n\u001b[0;32m---> 99\u001b[0;31m                 \u001b[0mexp_avg\u001b[0m\u001b[0;34m.\u001b[0m\u001b[0mmul_\u001b[0m\u001b[0;34m(\u001b[0m\u001b[0mbeta1\u001b[0m\u001b[0;34m)\u001b[0m\u001b[0;34m.\u001b[0m\u001b[0madd_\u001b[0m\u001b[0;34m(\u001b[0m\u001b[0mgrad\u001b[0m\u001b[0;34m,\u001b[0m \u001b[0malpha\u001b[0m\u001b[0;34m=\u001b[0m\u001b[0;36m1\u001b[0m \u001b[0;34m-\u001b[0m \u001b[0mbeta1\u001b[0m\u001b[0;34m)\u001b[0m\u001b[0;34m\u001b[0m\u001b[0;34m\u001b[0m\u001b[0m\n\u001b[0m\u001b[1;32m    100\u001b[0m                 \u001b[0mexp_avg_sq\u001b[0m\u001b[0;34m.\u001b[0m\u001b[0mmul_\u001b[0m\u001b[0;34m(\u001b[0m\u001b[0mbeta2\u001b[0m\u001b[0;34m)\u001b[0m\u001b[0;34m.\u001b[0m\u001b[0maddcmul_\u001b[0m\u001b[0;34m(\u001b[0m\u001b[0mgrad\u001b[0m\u001b[0;34m,\u001b[0m \u001b[0mgrad\u001b[0m\u001b[0;34m,\u001b[0m \u001b[0mvalue\u001b[0m\u001b[0;34m=\u001b[0m\u001b[0;36m1\u001b[0m \u001b[0;34m-\u001b[0m \u001b[0mbeta2\u001b[0m\u001b[0;34m)\u001b[0m\u001b[0;34m\u001b[0m\u001b[0;34m\u001b[0m\u001b[0m\n\u001b[1;32m    101\u001b[0m                 \u001b[0;32mif\u001b[0m \u001b[0mamsgrad\u001b[0m\u001b[0;34m:\u001b[0m\u001b[0;34m\u001b[0m\u001b[0;34m\u001b[0m\u001b[0m\n",
      "\u001b[0;31mKeyboardInterrupt\u001b[0m: "
     ]
    }
   ],
   "source": [
    "wll.new()\n",
    "writer = wll.writer\n",
    "bsize = 128\n",
    "warmup = 100\n",
    "gamma = 0.97\n",
    "\n",
    "collector = lambda obs: dqn.act(obs, epsilon=0.4)\n",
    "cont_collector = Discrete2Continuous(-2, 2, adim, collector).act\n",
    "shower    = lambda obs: dqn.act(obs, epsilon=0)\n",
    "random_policy = RandomPolicy(env).act\n",
    "\n",
    "\n",
    "for ep in range(0, 100000):\n",
    "    if ep%1==0:\n",
    "        pi = cont_collector if len(rbuff)>bsize*50 else random_policy\n",
    "        oldobs, _, r, obs, d, _, a, _ = envs.rollout(pi, debug=0)\n",
    "        rbuff.add(oldobs, a, r, obs, d)\n",
    "    writer.add_scalar('dqn/reward', r.mean(), ep)\n",
    "    rew = r.sum().item()\n",
    "    # print(rew)\n",
    "\n",
    "    if bsize*5 > len(rbuff):\n",
    "        print(len(rbuff), end='\\r')\n",
    "        continue\n",
    "\n",
    "    for jup in range(20):\n",
    "        oldobs, a, r, obs, done = rbuff.get(bsize)\n",
    "        for opt_step in range(3):\n",
    "            target = tdqn.get_max(obs) * (1-done)\n",
    "            calc = dqn.get_q(oldobs, a)\n",
    "            loss = ((r + gamma*target - calc)**2).mean()\n",
    "            opt.zero_grad()\n",
    "            loss.backward()\n",
    "            opt.step()          \n",
    "        polyak(dqn, tdqn, 1-1/100)\n",
    "\n",
    "\n",
    "    writer.add_scalar('dqn/model', loss.item(), ep)\n",
    "\n",
    "    \n",
    "    if ep%10==0:\n",
    "        print(ep, loss.item(), rew, \"jup\")\n",
    "    if ep%30==0:\n",
    "        print(\"showit = \", showit(env, collector, time_delta=0.01, max_steps=1000))"
   ]
  },
  {
   "cell_type": "code",
   "execution_count": 14,
   "metadata": {
    "tags": []
   },
   "outputs": [
    {
     "output_type": "stream",
     "name": "stdout",
     "text": "198 /2000"
    },
    {
     "output_type": "execute_result",
     "data": {
      "text/plain": "-1496.324793678495"
     },
     "metadata": {},
     "execution_count": 14
    }
   ],
   "source": [
    "# novishower = lambda obs: dqn.act(obs, 0.0)\n",
    "showit(env, cont_collector ,time_delta=0.01)"
   ]
  },
  {
   "cell_type": "code",
   "execution_count": null,
   "metadata": {},
   "outputs": [],
   "source": []
  }
 ],
 "metadata": {
  "kernelspec": {
   "display_name": "Python 3",
   "language": "python",
   "name": "python3"
  },
  "language_info": {
   "codemirror_mode": {
    "name": "ipython",
    "version": 3
   },
   "file_extension": ".py",
   "mimetype": "text/x-python",
   "name": "python",
   "nbconvert_exporter": "python",
   "pygments_lexer": "ipython3",
   "version": "3.8.2-final"
  }
 },
 "nbformat": 4,
 "nbformat_minor": 4
}