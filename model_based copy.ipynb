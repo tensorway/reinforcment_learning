{
 "cells": [
  {
   "cell_type": "code",
   "execution_count": 98,
   "metadata": {},
   "outputs": [],
   "source": [
    "import gym\n",
    "import torch\n",
    "from myrl.buffers import ReplayBuffer\n",
    "from myrl.visualizer import showit\n",
    "from myrl.environments import Envs\n",
    "from myrl.policies import RandomPolicy\n",
    "\n",
    "import numpy as np\n",
    "import torch.nn as nn\n",
    "import torch.nn.functional as F\n",
    "from myrl.utils import get_batch_a, get_batch_obs\n",
    "\n",
    "envname = 'BipedalWalker-v3'\n",
    "envname = 'LunarLanderContinuous-v2'\n",
    "# envname = 'Pendulum-v0'\n",
    "env = gym.make(envname)\n",
    "envs = Envs(envname, 1)"
   ]
  },
  {
   "cell_type": "code",
   "execution_count": 168,
   "metadata": {
    "tags": []
   },
   "outputs": [
    {
     "output_type": "stream",
     "name": "stdout",
     "text": "196 /200197 /200198 /200"
    },
    {
     "output_type": "execute_result",
     "data": {
      "text/plain": "-337.3980293244292"
     },
     "metadata": {},
     "execution_count": 168
    }
   ],
   "source": [
    "entacter = lambda obs: (model.cross_entropy(torch.tensor(obs).float(), 3, 60, 25, pmax=0.15), -1)\n",
    "gradactor= lambda obs: (gradient_optimize(model, obs, 20, [-2, 2], grad_step=1), -1)\n",
    "showit(env, gradactor, max_steps=200, time_delta=0)"
   ]
  },
  {
   "cell_type": "code",
   "execution_count": 12,
   "metadata": {},
   "outputs": [],
   "source": [
    "repbuff = ReplayBuffer(1000000)"
   ]
  },
  {
   "cell_type": "code",
   "execution_count": 172,
   "metadata": {
    "tags": []
   },
   "outputs": [
    {
     "output_type": "error",
     "ename": "IndentationError",
     "evalue": "expected an indented block (<ipython-input-172-27a09dc96965>, line 65)",
     "traceback": [
      "\u001b[0;36m  File \u001b[0;32m\"<ipython-input-172-27a09dc96965>\"\u001b[0;36m, line \u001b[0;32m65\u001b[0m\n\u001b[0;31m    if all:\u001b[0m\n\u001b[0m    ^\u001b[0m\n\u001b[0;31mIndentationError\u001b[0m\u001b[0;31m:\u001b[0m expected an indented block\n"
     ]
    }
   ],
   "source": [
    "class ModelResidual(nn.Module):\n",
    "    def __init__(self, net_arch):\n",
    "        super().__init__()\n",
    "        l = [nn.Linear(a, b) for a, b in zip(net_arch[:-1], net_arch[1:])]\n",
    "        l2 = [nn.Linear(net_arch[-2], 1)]\n",
    "        self.layers = nn.ModuleList(l+l2)\n",
    "\n",
    "    def forward(self, oldobs, a):\n",
    "        # h = torch.tensor(x, dtype=torch.float)\n",
    "        h = torch.cat((oldobs, a), dim=1)\n",
    "        for lay in self.layers[:-2]:\n",
    "            h = F.relu(lay(h))\n",
    "        obs = self.layers[-2](h) + oldobs\n",
    "        r = self.layers[-1](h)\n",
    "        return r, obs\n",
    "\n",
    "    def random_shooting(self, obs, nsmpls=100, tlen=10, all=False):\n",
    "        maxr = float('-inf')\n",
    "        obs = obs.repeat(nsmpls, 1)\n",
    "        rs = torch.zeros(nsmpls, 1)\n",
    "        for t in range(tlen):\n",
    "            a = get_batch_a(env, nsmpls)\n",
    "            r, obs = self.forward(obs, a)\n",
    "            rs += r\n",
    "            a = a.unsqueeze(1)\n",
    "            if t==0:\n",
    "                ass = a\n",
    "            else:\n",
    "                ass = torch.cat((ass, a), dim=1)\n",
    "        # ii = torch.argmax(rs)\n",
    "        if all:\n",
    "            return ass, rs\n",
    "        else:\n",
    "            ii = torch.argmax(rs)\n",
    "            return ass[ii][0].unsqueeze(-1)\n",
    "\n",
    "    def cross_entropy(self, obs, niter, nsmpls, tlen, pmax=0.1, all=False):\n",
    "        k = int(nsmpls*pmax)\n",
    "        aret = None\n",
    "        # print(niter)\n",
    "        ass, rs = self.random_shooting(obs, nsmpls, tlen, all=True)\n",
    "        obs = obs.repeat(nsmpls, 1)\n",
    "        for iter in range(niter):\n",
    "            topi = rs.squeeze(-1).topk(k)[1]\n",
    "            topass = ass[topi]\n",
    "            m, std = topass.mean(dim=0), topass.std(dim=0)\n",
    "            dis = torch.distributions.Normal(m, std)\n",
    "            ass = dis.sample(torch.Size((nsmpls,)))\n",
    "            rs = self._eval_actions(obs, ass)\n",
    "        if all:\n",
    "            return ass, rs\n",
    "        else:\n",
    "            ii = torch.argmax(rs)\n",
    "            return ass[ii][0].unsqueeze(-1) \n",
    "\n",
    "    def gradient_optimize(self, obs, tlen, minimax, ngrad_steps=10, grad_step=1e-1, nsmpls=1, all=False):\n",
    "        obs = torch.tensor(obs).float()\n",
    "        actions = torch.randn(nsmpls, tlen, 1, requires_grad=True)\n",
    "        obs = obs.repeat(nsmpls, 1)\n",
    "        opt = torch.optim.Adam([actions], lr=grad_step)\n",
    "        for grad_step in range(ngrad_steps):\n",
    "            rs = 0\n",
    "            lobs = obs\n",
    "            for i in range(tlen):\n",
    "                r, lobs = self.forward(lobs, actions[:, i])\n",
    "                rs += r\n",
    "            loss = -rs.mean()\n",
    "            opt.zero_grad()\n",
    "            loss.backward()\n",
    "            opt.step()\n",
    "            with torch.no_grad():\n",
    "                actions = torch.clamp(actions, -2, 2)\n",
    "            \n",
    "        ii = rs.squeeze(-1).argmax()\n",
    "        if all:\n",
    "            return actions[ii], rs[ii], actions\n",
    "        return actions[ii][0].unsqueeze(0).detach().numpy()\n",
    "\n",
    "    def _eval_actions(self, obs, ass):\n",
    "        rs = 0\n",
    "        for i in range(ass.shape[1]):\n",
    "            a = ass[:, i]\n",
    "            r, obs = self.forward(obs, a)\n",
    "            rs += r\n",
    "        return rs\n",
    "            \n",
    "    \n",
    "adim = env.action_space.shape[0]\n",
    "sdim = env.observation_space.shape[0]\n",
    "idim = adim + sdim\n",
    "odim = rdim + sdim\n",
    "# model = ModelResidual([idim, 128, 64, sdim])\n",
    "random_policy = RandomPolicy(env).act\n",
    "obstest = get_batch_obs(env, 1)\n",
    "model.cross_entropy(obstest, 10, 10, 10, pmax=0.5), adim, sdim"
   ]
  },
  {
   "cell_type": "code",
   "execution_count": 171,
   "metadata": {
    "tags": []
   },
   "outputs": [
    {
     "output_type": "stream",
     "name": "stderr",
     "text": "<ipython-input-171-e7a1e9298b54>:2: UserWarning: To copy construct from a tensor, it is recommended to use sourceTensor.clone().detach() or sourceTensor.clone().detach().requires_grad_(True), rather than torch.tensor(sourceTensor).\n  obs = torch.tensor(obs).float()\n"
    },
    {
     "output_type": "execute_result",
     "data": {
      "text/plain": "array([[-0.2027486]], dtype=float32)"
     },
     "metadata": {},
     "execution_count": 171
    }
   ],
   "source": [
    "def gradient_optimize(self, obs, tlen, minimax, ngrad_steps=10, grad_step=1e-1, nsmpls=1, all=False):\n",
    "    obs = torch.tensor(obs).float()\n",
    "    actions = torch.randn(nsmpls, tlen, 1, requires_grad=True)\n",
    "    obs = obs.repeat(nsmpls, 1)\n",
    "    opt = torch.optim.Adam([actions], lr=grad_step)\n",
    "    for grad_step in range(ngrad_steps):\n",
    "        rs = 0\n",
    "        lobs = obs\n",
    "        for i in range(tlen):\n",
    "            r, lobs = self.forward(lobs, actions[:, i])\n",
    "            rs += r\n",
    "        loss = -rs.mean()\n",
    "        opt.zero_grad()\n",
    "        loss.backward()\n",
    "        opt.step()\n",
    "        with torch.no_grad():\n",
    "            actions = torch.clamp(actions, -2, 2)\n",
    "        \n",
    "    ii = rs.squeeze(-1).argmax()\n",
    "    if all:\n",
    "        return actions[ii], rs[ii], actions\n",
    "    return actions[ii][0].unsqueeze(0).detach().numpy()\n",
    "    \n",
    "gradient_optimize(model, obstest, 10, [-2, 2], ngrad_steps=10, nsmpls=10, grad_step=1)\n",
    "\n"
   ]
  },
  {
   "cell_type": "code",
   "execution_count": 96,
   "metadata": {},
   "outputs": [
    {
     "output_type": "execute_result",
     "data": {
      "text/plain": "ModelResidual(\n  (layers): ModuleList(\n    (0): Linear(in_features=4, out_features=128, bias=True)\n    (1): Linear(in_features=128, out_features=64, bias=True)\n    (2): Linear(in_features=64, out_features=3, bias=True)\n    (3): Linear(in_features=64, out_features=1, bias=True)\n  )\n)"
     },
     "metadata": {},
     "execution_count": 96
    }
   ],
   "source": [
    "opt = torch.optim.Adam(model.parameters(), lr=5e-2)\n",
    "model"
   ]
  },
  {
   "cell_type": "code",
   "execution_count": 97,
   "metadata": {
    "tags": []
   },
   "outputs": [
    {
     "output_type": "stream",
     "name": "stdout",
     "text": "ModelResidual(\n  (layers): ModuleList(\n    (0): Linear(in_features=4, out_features=128, bias=True)\n    (1): Linear(in_features=128, out_features=64, bias=True)\n    (2): Linear(in_features=64, out_features=3, bias=True)\n    (3): Linear(in_features=64, out_features=1, bias=True)\n  )\n)\n0 736.4976196289062 66.9543228149414 2.932508707046509\n10 191.44430541992188 17.404027938842773 0.0034154325257986784\n20 232.0092315673828 21.091747283935547 0.0022164222318679094\n30 170.759033203125 15.52354907989502 0.0008411421440541744\n40 124.36266326904297 11.305696487426758 0.0007627865415997803\n50 135.18362426757812 12.289420127868652 0.0009586552623659372\n60 111.11922454833984 10.1017484664917 0.001255122828297317\n70 84.53765106201172 7.685240745544434 0.002242667367681861\n80 75.86711883544922 6.897010326385498 0.0010846549412235618\n90 106.01215362548828 9.637468338012695 0.000873371958732605\n100 73.88268280029297 6.716607570648193 0.0006030031945556402\n110 55.645835876464844 5.058712005615234 0.0002624687913339585\n120 57.817909240722656 5.256173610687256 0.0008036606595851481\n130 56.51753234863281 5.1379570960998535 0.0007476740865968168\n140 49.621337890625 4.511030197143555 0.0009495356935076416\n150 37.58816146850586 3.417105197906494 0.00034040200989693403\n160 41.0149040222168 3.728627920150757 0.0004591267497744411\n170 45.85401916503906 4.1685471534729 0.0006713655893690884\n180 38.71143341064453 3.519221305847168 0.0007801433093845844\n190 30.3486270904541 2.7589659690856934 0.000906431523617357\n200 25.33966636657715 2.3036060333251953 0.0001585043646628037\n210 24.158416748046875 2.1962196826934814 0.00016424403293058276\n220 15.846853256225586 1.4406230449676514 0.000591469753999263\n230 16.907760620117188 1.5370692014694214 0.00020931528706569225\n240 14.937124252319336 1.357920527458191 0.000593988923355937\n250 14.896971702575684 1.3542702198028564 0.00016103159578051418\n260 12.487817764282227 1.1352561712265015 0.00010874655708903447\n270 10.077754974365234 0.9161595702171326 0.00015231998986564577\n280 10.824395179748535 0.9840359091758728 0.00016020203474909067\n290 9.971516609191895 0.9065014719963074 0.0007343870238400996\n300 5.775287628173828 0.5250261425971985 0.00020283745834603906\n310 7.05924654006958 0.6417496800422668 0.00010480371565790847\n320 6.390941143035889 0.5809946656227112 0.00011770615674322471\n330 6.835339546203613 0.6213945150375366 0.00011955227091675624\n340 6.361787796020508 0.5783443450927734 0.00015580026956740767\n350 5.2743072509765625 0.4794824421405792 0.00011650208762148395\n360 4.038621425628662 0.36714738607406616 0.00010734046372817829\n370 4.088784217834473 0.3717076778411865 0.00010438196477480233\n380 4.311360836029053 0.3919418752193451 3.826634929282591e-05\n390 3.8563413619995117 0.3505764901638031 5.437487197923474e-05\n400 3.1099674701690674 0.2827243208885193 0.00013366254279389977\n410 2.8812923431396484 0.26193568110466003 0.0007220153347589076\n420 3.0588223934173584 0.2780747711658478 0.00025874373386614025\n430 3.30000638961792 0.3000005781650543 7.15722271706909e-05\n440 2.497238874435425 0.227021723985672 5.10983845742885e-05\n450 2.2963473796844482 0.20875884592533112 3.924740667571314e-05\n460 2.7271323204040527 0.24792110919952393 0.00020405335817486048\n470 6.883663654327393 0.625787615776062 0.0006446584011428058\n480 8.318950653076172 0.7562682628631592 0.00010515681788092479\n490 3.3849241733551025 0.3077203631401062 8.544526644982398e-05\n500 3.079901695251465 0.2799910604953766 4.458708644961007e-05\n510 1.8373305797576904 0.16703003644943237 5.528602923732251e-05\n520 2.2974884510040283 0.20886258780956268 4.470293060876429e-05\n530 2.4825220108032227 0.22568382322788239 0.0006603481597267091\n540 1.5453522205352783 0.14048655331134796 7.212710625026375e-05\n550 2.6121468544006348 0.23746788501739502 0.00034691355540417135\n560 1.605512022972107 0.1459556370973587 2.9356551749515347e-05\n"
    },
    {
     "output_type": "error",
     "ename": "KeyboardInterrupt",
     "evalue": "",
     "traceback": [
      "\u001b[0;31m---------------------------------------------------------------------------\u001b[0m",
      "\u001b[0;31mKeyboardInterrupt\u001b[0m                         Traceback (most recent call last)",
      "\u001b[0;32m<ipython-input-97-2fa3a2a828c8>\u001b[0m in \u001b[0;36m<module>\u001b[0;34m\u001b[0m\n\u001b[1;32m     10\u001b[0m     \u001b[0;32mif\u001b[0m \u001b[0mep\u001b[0m\u001b[0;34m%\u001b[0m\u001b[0;36m1\u001b[0m\u001b[0;34m==\u001b[0m\u001b[0;36m0\u001b[0m\u001b[0;34m:\u001b[0m\u001b[0;34m\u001b[0m\u001b[0;34m\u001b[0m\u001b[0m\n\u001b[1;32m     11\u001b[0m         \u001b[0;32mfor\u001b[0m \u001b[0mstep\u001b[0m \u001b[0;32min\u001b[0m \u001b[0mrange\u001b[0m\u001b[0;34m(\u001b[0m\u001b[0;36m1\u001b[0m\u001b[0;34m)\u001b[0m\u001b[0;34m:\u001b[0m\u001b[0;34m\u001b[0m\u001b[0;34m\u001b[0m\u001b[0m\n\u001b[0;32m---> 12\u001b[0;31m             \u001b[0moldobs\u001b[0m\u001b[0;34m,\u001b[0m \u001b[0ma\u001b[0m\u001b[0;34m,\u001b[0m \u001b[0mr\u001b[0m\u001b[0;34m,\u001b[0m \u001b[0mobs\u001b[0m\u001b[0;34m,\u001b[0m \u001b[0md\u001b[0m\u001b[0;34m,\u001b[0m \u001b[0m_\u001b[0m\u001b[0;34m,\u001b[0m \u001b[0m_\u001b[0m\u001b[0;34m,\u001b[0m \u001b[0m_\u001b[0m \u001b[0;34m=\u001b[0m \u001b[0menvs\u001b[0m\u001b[0;34m.\u001b[0m\u001b[0mrollout\u001b[0m\u001b[0;34m(\u001b[0m\u001b[0mrandom_policy\u001b[0m\u001b[0;34m)\u001b[0m\u001b[0;34m\u001b[0m\u001b[0;34m\u001b[0m\u001b[0m\n\u001b[0m\u001b[1;32m     13\u001b[0m             \u001b[0mrepbuff\u001b[0m\u001b[0;34m.\u001b[0m\u001b[0madd\u001b[0m\u001b[0;34m(\u001b[0m\u001b[0moldobs\u001b[0m\u001b[0;34m,\u001b[0m \u001b[0ma\u001b[0m\u001b[0;34m,\u001b[0m \u001b[0mr\u001b[0m\u001b[0;34m,\u001b[0m \u001b[0mobs\u001b[0m\u001b[0;34m,\u001b[0m \u001b[0md\u001b[0m\u001b[0;34m)\u001b[0m\u001b[0;34m\u001b[0m\u001b[0;34m\u001b[0m\u001b[0m\n\u001b[1;32m     14\u001b[0m     \u001b[0;31m# print(\"hahah\")\u001b[0m\u001b[0;34m\u001b[0m\u001b[0;34m\u001b[0m\u001b[0;34m\u001b[0m\u001b[0m\n",
      "\u001b[0;32m~/mujoco-py/myrl/environments.py\u001b[0m in \u001b[0;36mrollout\u001b[0;34m(self, pi, gamma, length, debug)\u001b[0m\n\u001b[1;32m     84\u001b[0m         \u001b[0ml\u001b[0m \u001b[0;34m=\u001b[0m \u001b[0;34m[\u001b[0m\u001b[0;34m[\u001b[0m\u001b[0;34m]\u001b[0m \u001b[0;32mfor\u001b[0m \u001b[0mi\u001b[0m \u001b[0;32min\u001b[0m \u001b[0mrange\u001b[0m\u001b[0;34m(\u001b[0m\u001b[0;36m8\u001b[0m\u001b[0;34m)\u001b[0m\u001b[0;34m]\u001b[0m\u001b[0;34m\u001b[0m\u001b[0;34m\u001b[0m\u001b[0m\n\u001b[1;32m     85\u001b[0m         \u001b[0;32mfor\u001b[0m \u001b[0mstep\u001b[0m \u001b[0;32min\u001b[0m \u001b[0mrange\u001b[0m\u001b[0;34m(\u001b[0m\u001b[0mint\u001b[0m\u001b[0;34m(\u001b[0m\u001b[0mlength\u001b[0m\u001b[0;34m)\u001b[0m\u001b[0;34m)\u001b[0m\u001b[0;34m:\u001b[0m\u001b[0;34m\u001b[0m\u001b[0;34m\u001b[0m\u001b[0m\n\u001b[0;32m---> 86\u001b[0;31m             \u001b[0ml2\u001b[0m \u001b[0;34m=\u001b[0m \u001b[0mself\u001b[0m\u001b[0;34m.\u001b[0m\u001b[0mstep\u001b[0m\u001b[0;34m(\u001b[0m\u001b[0mpi\u001b[0m\u001b[0;34m,\u001b[0m \u001b[0mdebug\u001b[0m\u001b[0;34m)\u001b[0m\u001b[0;34m\u001b[0m\u001b[0;34m\u001b[0m\u001b[0m\n\u001b[0m\u001b[1;32m     87\u001b[0m             \u001b[0;32mfor\u001b[0m \u001b[0mi\u001b[0m\u001b[0;34m,\u001b[0m \u001b[0mt\u001b[0m \u001b[0;32min\u001b[0m \u001b[0menumerate\u001b[0m\u001b[0;34m(\u001b[0m\u001b[0ml2\u001b[0m\u001b[0;34m)\u001b[0m\u001b[0;34m:\u001b[0m\u001b[0;34m\u001b[0m\u001b[0;34m\u001b[0m\u001b[0m\n\u001b[1;32m     88\u001b[0m                 \u001b[0ml\u001b[0m\u001b[0;34m[\u001b[0m\u001b[0mi\u001b[0m\u001b[0;34m]\u001b[0m\u001b[0;34m.\u001b[0m\u001b[0mappend\u001b[0m\u001b[0;34m(\u001b[0m\u001b[0mt\u001b[0m\u001b[0;34m.\u001b[0m\u001b[0munsqueeze\u001b[0m\u001b[0;34m(\u001b[0m\u001b[0;36m1\u001b[0m\u001b[0;34m)\u001b[0m\u001b[0;34m)\u001b[0m\u001b[0;34m\u001b[0m\u001b[0;34m\u001b[0m\u001b[0m\n",
      "\u001b[0;32m~/mujoco-py/myrl/environments.py\u001b[0m in \u001b[0;36mstep\u001b[0;34m(self, pi, debug)\u001b[0m\n\u001b[1;32m     63\u001b[0m         \u001b[0ml\u001b[0m \u001b[0;34m=\u001b[0m \u001b[0;34m[\u001b[0m\u001b[0;34m[\u001b[0m\u001b[0;34m]\u001b[0m \u001b[0;32mfor\u001b[0m \u001b[0mi\u001b[0m \u001b[0;32min\u001b[0m \u001b[0mrange\u001b[0m\u001b[0;34m(\u001b[0m\u001b[0;36m8\u001b[0m\u001b[0;34m)\u001b[0m\u001b[0;34m]\u001b[0m\u001b[0;34m\u001b[0m\u001b[0;34m\u001b[0m\u001b[0m\n\u001b[1;32m     64\u001b[0m         \u001b[0;32mfor\u001b[0m \u001b[0menv\u001b[0m \u001b[0;32min\u001b[0m \u001b[0mself\u001b[0m\u001b[0;34m.\u001b[0m\u001b[0menvs\u001b[0m\u001b[0;34m:\u001b[0m\u001b[0;34m\u001b[0m\u001b[0;34m\u001b[0m\u001b[0m\n\u001b[0;32m---> 65\u001b[0;31m             \u001b[0ml2\u001b[0m \u001b[0;34m=\u001b[0m \u001b[0menv\u001b[0m\u001b[0;34m.\u001b[0m\u001b[0mstep\u001b[0m\u001b[0;34m(\u001b[0m\u001b[0mpi\u001b[0m\u001b[0;34m,\u001b[0m \u001b[0mdebug\u001b[0m\u001b[0;34m)\u001b[0m\u001b[0;34m\u001b[0m\u001b[0;34m\u001b[0m\u001b[0m\n\u001b[0m\u001b[1;32m     66\u001b[0m             \u001b[0;32mfor\u001b[0m \u001b[0mi\u001b[0m\u001b[0;34m,\u001b[0m \u001b[0mt\u001b[0m \u001b[0;32min\u001b[0m \u001b[0menumerate\u001b[0m\u001b[0;34m(\u001b[0m\u001b[0ml2\u001b[0m\u001b[0;34m)\u001b[0m\u001b[0;34m:\u001b[0m\u001b[0;34m\u001b[0m\u001b[0;34m\u001b[0m\u001b[0m\n\u001b[1;32m     67\u001b[0m                 \u001b[0;32mif\u001b[0m \u001b[0mtype\u001b[0m\u001b[0;34m(\u001b[0m\u001b[0mt\u001b[0m\u001b[0;34m)\u001b[0m \u001b[0;34m==\u001b[0m \u001b[0mtype\u001b[0m\u001b[0;34m(\u001b[0m\u001b[0;34m(\u001b[0m\u001b[0;36m0\u001b[0m\u001b[0;34m,\u001b[0m \u001b[0;36m0\u001b[0m\u001b[0;34m)\u001b[0m\u001b[0;34m)\u001b[0m\u001b[0;34m:\u001b[0m\u001b[0;34m\u001b[0m\u001b[0;34m\u001b[0m\u001b[0m\n",
      "\u001b[0;32m~/mujoco-py/myrl/environments.py\u001b[0m in \u001b[0;36mstep\u001b[0;34m(self, act, sample, debug)\u001b[0m\n\u001b[1;32m     23\u001b[0m             \u001b[0masq\u001b[0m \u001b[0;34m=\u001b[0m \u001b[0ma\u001b[0m\u001b[0;34m\u001b[0m\u001b[0;34m\u001b[0m\u001b[0m\n\u001b[1;32m     24\u001b[0m         \u001b[0;32melse\u001b[0m\u001b[0;34m:\u001b[0m\u001b[0;34m\u001b[0m\u001b[0;34m\u001b[0m\u001b[0m\n\u001b[0;32m---> 25\u001b[0;31m             \u001b[0ma\u001b[0m\u001b[0;34m,\u001b[0m \u001b[0mother\u001b[0m \u001b[0;34m=\u001b[0m \u001b[0mact\u001b[0m\u001b[0;34m(\u001b[0m\u001b[0mself\u001b[0m\u001b[0;34m.\u001b[0m\u001b[0mobs\u001b[0m\u001b[0;34m)\u001b[0m\u001b[0;34m\u001b[0m\u001b[0;34m\u001b[0m\u001b[0m\n\u001b[0m\u001b[1;32m     26\u001b[0m             \u001b[0masq\u001b[0m \u001b[0;34m=\u001b[0m \u001b[0ma\u001b[0m\u001b[0;34m.\u001b[0m\u001b[0msqueeze\u001b[0m\u001b[0;34m(\u001b[0m\u001b[0;36m0\u001b[0m\u001b[0;34m)\u001b[0m\u001b[0;34m\u001b[0m\u001b[0;34m\u001b[0m\u001b[0m\n\u001b[1;32m     27\u001b[0m \u001b[0;34m\u001b[0m\u001b[0m\n",
      "\u001b[0;32m~/mujoco-py/myrl/policies.py\u001b[0m in \u001b[0;36mact\u001b[0;34m(self, obs)\u001b[0m\n\u001b[1;32m     92\u001b[0m     \u001b[0;32mdef\u001b[0m \u001b[0mact\u001b[0m\u001b[0;34m(\u001b[0m\u001b[0mself\u001b[0m\u001b[0;34m,\u001b[0m \u001b[0mobs\u001b[0m\u001b[0;34m)\u001b[0m\u001b[0;34m:\u001b[0m\u001b[0;34m\u001b[0m\u001b[0;34m\u001b[0m\u001b[0m\n\u001b[1;32m     93\u001b[0m         \u001b[0mdummy\u001b[0m \u001b[0;34m=\u001b[0m \u001b[0mtorch\u001b[0m\u001b[0;34m.\u001b[0m\u001b[0mtensor\u001b[0m\u001b[0;34m(\u001b[0m\u001b[0;34m[\u001b[0m\u001b[0;34m[\u001b[0m\u001b[0;36m1\u001b[0m\u001b[0;34m]\u001b[0m\u001b[0;34m]\u001b[0m\u001b[0;34m)\u001b[0m\u001b[0;34m\u001b[0m\u001b[0;34m\u001b[0m\u001b[0m\n\u001b[0;32m---> 94\u001b[0;31m         \u001b[0ma\u001b[0m \u001b[0;34m=\u001b[0m \u001b[0mget_batch_a\u001b[0m\u001b[0;34m(\u001b[0m\u001b[0mself\u001b[0m\u001b[0;34m.\u001b[0m\u001b[0menv\u001b[0m\u001b[0;34m,\u001b[0m \u001b[0mobs\u001b[0m\u001b[0;34m.\u001b[0m\u001b[0mshape\u001b[0m\u001b[0;34m[\u001b[0m\u001b[0;36m0\u001b[0m\u001b[0;34m]\u001b[0m\u001b[0;34m)\u001b[0m\u001b[0;34m.\u001b[0m\u001b[0mnumpy\u001b[0m\u001b[0;34m(\u001b[0m\u001b[0;34m)\u001b[0m\u001b[0;34m\u001b[0m\u001b[0;34m\u001b[0m\u001b[0m\n\u001b[0m\u001b[1;32m     95\u001b[0m         \u001b[0;32mreturn\u001b[0m \u001b[0ma\u001b[0m\u001b[0;34m,\u001b[0m \u001b[0;34m(\u001b[0m\u001b[0mdummy\u001b[0m\u001b[0;34m,\u001b[0m \u001b[0mdummy\u001b[0m\u001b[0;34m,\u001b[0m \u001b[0mdummy\u001b[0m\u001b[0;34m)\u001b[0m\u001b[0;34m\u001b[0m\u001b[0;34m\u001b[0m\u001b[0m\n\u001b[1;32m     96\u001b[0m \u001b[0;34m\u001b[0m\u001b[0m\n",
      "\u001b[0;32m~/mujoco-py/myrl/utils.py\u001b[0m in \u001b[0;36mget_batch_a\u001b[0;34m(env, bsize)\u001b[0m\n\u001b[1;32m     30\u001b[0m \u001b[0;34m\u001b[0m\u001b[0m\n\u001b[1;32m     31\u001b[0m \u001b[0;32mdef\u001b[0m \u001b[0mget_batch_a\u001b[0m\u001b[0;34m(\u001b[0m\u001b[0menv\u001b[0m\u001b[0;34m,\u001b[0m \u001b[0mbsize\u001b[0m\u001b[0;34m)\u001b[0m\u001b[0;34m:\u001b[0m\u001b[0;34m\u001b[0m\u001b[0;34m\u001b[0m\u001b[0m\n\u001b[0;32m---> 32\u001b[0;31m     \u001b[0mba\u001b[0m \u001b[0;34m=\u001b[0m \u001b[0;34m[\u001b[0m\u001b[0menv\u001b[0m\u001b[0;34m.\u001b[0m\u001b[0maction_space\u001b[0m\u001b[0;34m.\u001b[0m\u001b[0msample\u001b[0m\u001b[0;34m(\u001b[0m\u001b[0;34m)\u001b[0m \u001b[0;32mfor\u001b[0m \u001b[0mi\u001b[0m \u001b[0;32min\u001b[0m \u001b[0mrange\u001b[0m\u001b[0;34m(\u001b[0m\u001b[0mbsize\u001b[0m\u001b[0;34m)\u001b[0m\u001b[0;34m]\u001b[0m\u001b[0;34m\u001b[0m\u001b[0;34m\u001b[0m\u001b[0m\n\u001b[0m\u001b[1;32m     33\u001b[0m     \u001b[0mba\u001b[0m \u001b[0;34m=\u001b[0m \u001b[0mtorch\u001b[0m\u001b[0;34m.\u001b[0m\u001b[0mtensor\u001b[0m\u001b[0;34m(\u001b[0m\u001b[0mba\u001b[0m\u001b[0;34m)\u001b[0m\u001b[0;34m\u001b[0m\u001b[0;34m\u001b[0m\u001b[0m\n\u001b[1;32m     34\u001b[0m     \u001b[0;32mtry\u001b[0m\u001b[0;34m:\u001b[0m\u001b[0;34m\u001b[0m\u001b[0;34m\u001b[0m\u001b[0m\n",
      "\u001b[0;32m~/mujoco-py/myrl/utils.py\u001b[0m in \u001b[0;36m<listcomp>\u001b[0;34m(.0)\u001b[0m\n\u001b[1;32m     30\u001b[0m \u001b[0;34m\u001b[0m\u001b[0m\n\u001b[1;32m     31\u001b[0m \u001b[0;32mdef\u001b[0m \u001b[0mget_batch_a\u001b[0m\u001b[0;34m(\u001b[0m\u001b[0menv\u001b[0m\u001b[0;34m,\u001b[0m \u001b[0mbsize\u001b[0m\u001b[0;34m)\u001b[0m\u001b[0;34m:\u001b[0m\u001b[0;34m\u001b[0m\u001b[0;34m\u001b[0m\u001b[0m\n\u001b[0;32m---> 32\u001b[0;31m     \u001b[0mba\u001b[0m \u001b[0;34m=\u001b[0m \u001b[0;34m[\u001b[0m\u001b[0menv\u001b[0m\u001b[0;34m.\u001b[0m\u001b[0maction_space\u001b[0m\u001b[0;34m.\u001b[0m\u001b[0msample\u001b[0m\u001b[0;34m(\u001b[0m\u001b[0;34m)\u001b[0m \u001b[0;32mfor\u001b[0m \u001b[0mi\u001b[0m \u001b[0;32min\u001b[0m \u001b[0mrange\u001b[0m\u001b[0;34m(\u001b[0m\u001b[0mbsize\u001b[0m\u001b[0;34m)\u001b[0m\u001b[0;34m]\u001b[0m\u001b[0;34m\u001b[0m\u001b[0;34m\u001b[0m\u001b[0m\n\u001b[0m\u001b[1;32m     33\u001b[0m     \u001b[0mba\u001b[0m \u001b[0;34m=\u001b[0m \u001b[0mtorch\u001b[0m\u001b[0;34m.\u001b[0m\u001b[0mtensor\u001b[0m\u001b[0;34m(\u001b[0m\u001b[0mba\u001b[0m\u001b[0;34m)\u001b[0m\u001b[0;34m\u001b[0m\u001b[0;34m\u001b[0m\u001b[0m\n\u001b[1;32m     34\u001b[0m     \u001b[0;32mtry\u001b[0m\u001b[0;34m:\u001b[0m\u001b[0;34m\u001b[0m\u001b[0;34m\u001b[0m\u001b[0m\n",
      "\u001b[0;32m~/.local/lib/python3.8/site-packages/gym/spaces/box.py\u001b[0m in \u001b[0;36msample\u001b[0;34m(self)\u001b[0m\n\u001b[1;32m    109\u001b[0m                 size=unbounded[unbounded].shape)\n\u001b[1;32m    110\u001b[0m \u001b[0;34m\u001b[0m\u001b[0m\n\u001b[0;32m--> 111\u001b[0;31m         sample[low_bounded] = self.np_random.exponential(\n\u001b[0m\u001b[1;32m    112\u001b[0m             size=low_bounded[low_bounded].shape) + self.low[low_bounded]\n\u001b[1;32m    113\u001b[0m \u001b[0;34m\u001b[0m\u001b[0m\n",
      "\u001b[0;31mKeyboardInterrupt\u001b[0m: "
     ]
    }
   ],
   "source": [
    "# exname = 'model_bip_lander_big_residual'\n",
    "# os.system('mkdir tb/' + exname)\n",
    "# writer = SummaryWriter('tb/'+exname)\n",
    "\n",
    "print(model)\n",
    "bsize = 128\n",
    "loss = 0; rloss=0; oloss=0;\n",
    "for ep in range(10000):\n",
    "    obs = env.reset()\n",
    "    if ep%1==0:\n",
    "        for step in range(1):\n",
    "            oldobs, a, r, obs, d, _, _, _ = envs.rollout(random_policy)\n",
    "            repbuff.add(oldobs, a, r, obs, d)\n",
    "    # print(\"hahah\")\n",
    "    if bsize*3 > len(repbuff):\n",
    "        print(len(rbuff), end='\\r')\n",
    "        continue\n",
    "    oldobs, a, r, obs, d = repbuff.get(bsize)\n",
    "\n",
    "    for opt_step in range(3):\n",
    "        pr, pobs = model(oldobs, a)\n",
    "        rloss = ((pr-r)**2).mean()\n",
    "        oloss = ((pobs-obs)**2).mean()\n",
    "        loss = rloss + 10*torch.abs(rloss/oloss).detach()*oloss\n",
    "        opt.zero_grad()\n",
    "        loss.backward()\n",
    "        opt.step()\n",
    "    # writer.add_scalar('loss/model', loss.item(), ep)\n",
    "    # writer.add_scalar('loss/reward', rloss.item(), ep)\n",
    "    # writer.add_scalar('loss/states', oloss.item(), ep)\n",
    "    \n",
    "    if ep%10==0:\n",
    "        print(ep, loss.item(),rloss.item(), oloss.item())"
   ]
  },
  {
   "cell_type": "code",
   "execution_count": 32,
   "metadata": {},
   "outputs": [
    {
     "output_type": "execute_result",
     "data": {
      "text/plain": "Model(\n  (layers): ModuleList(\n    (0): Linear(in_features=4, out_features=128, bias=True)\n    (1): Linear(in_features=128, out_features=64, bias=True)\n    (2): Linear(in_features=64, out_features=3, bias=True)\n    (3): Linear(in_features=64, out_features=1, bias=True)\n  )\n)"
     },
     "metadata": {},
     "execution_count": 32
    }
   ],
   "source": [
    "model"
   ]
  },
  {
   "cell_type": "code",
   "execution_count": 64,
   "metadata": {},
   "outputs": [],
   "source": [
    "def policy(obs, nsmpls=100, tlen=10):\n",
    "    maxr = float('-inf')\n",
    "    obs = obs.repeat(nsmpls, 1)\n",
    "    rs = torch.zeros(nsmpls, 1)\n",
    "    for t in range(tlen):\n",
    "        a = nsample(env.action_space.sample, nsmpls)\n",
    "#         print(a, \"ass\")\n",
    "#         print(obs.shape, a.shape)\n",
    "        r, obs = model(obs, a)\n",
    "        rs += r\n",
    "        a = a.unsqueeze(1)\n",
    "        if t==0:\n",
    "            ass = a\n",
    "        else:\n",
    "            ass = torch.cat((ass, a), dim=1)\n",
    "    ii = torch.argmax(rs)\n",
    "    #print(rs[ii])\n",
    "#     print(ass)\n",
    "    return ass[ii]\n",
    "\n",
    "def policy2(obs, nsmpls=100, tlen=10):\n",
    "    maxr = float('-inf')\n",
    "    obs = obs.repeat(nsmpls, 1)\n",
    "    rs = torch.zeros(nsmpls, 1)\n",
    "    for t in range(tlen):\n",
    "        a = get_batch_a(env, nsmpls)\n",
    "        r, obs = model(obs, a)\n",
    "        rs += r\n",
    "        a = a.unsqueeze(1)\n",
    "        if t==0:\n",
    "            ass = a\n",
    "        else:\n",
    "            ass = torch.cat((ass, a), dim=1)\n",
    "    ii = torch.argmax(rs)\n",
    "    #print(rs[ii])\n",
    "#     print(ass)\n",
    "    return ass[ii]\n",
    "   \n",
    "def cross_entropy(obs, niter, nsmpls, tlen, pmax=0.1):\n",
    "    k = int(nsmpls*pmax)\n",
    "    \n",
    "\n"
   ]
  },
  {
   "cell_type": "code",
   "execution_count": 65,
   "metadata": {
    "tags": []
   },
   "outputs": [
    {
     "output_type": "execute_result",
     "data": {
      "text/plain": "tensor([[-0.2931],\n        [-0.1762],\n        [ 0.3904],\n        [-0.2076],\n        [ 1.2875],\n        [-0.3306],\n        [ 0.5876],\n        [ 0.6570],\n        [-0.0667],\n        [ 0.0494]])"
     },
     "metadata": {},
     "execution_count": 65
    }
   ],
   "source": [
    "policy2(torch.zeros(1, 3))"
   ]
  },
  {
   "cell_type": "code",
   "execution_count": 28,
   "metadata": {},
   "outputs": [
    {
     "output_type": "execute_result",
     "data": {
      "text/plain": "((1,), (3,))"
     },
     "metadata": {},
     "execution_count": 28
    }
   ],
   "source": [
    "env.action_space.sample().shape, env.observation_space.sample().shape"
   ]
  },
  {
   "cell_type": "code",
   "execution_count": 29,
   "metadata": {},
   "outputs": [
    {
     "output_type": "error",
     "ename": "NameError",
     "evalue": "name 'np' is not defined",
     "traceback": [
      "\u001b[0;31m---------------------------------------------------------------------------\u001b[0m",
      "\u001b[0;31mNameError\u001b[0m                                 Traceback (most recent call last)",
      "\u001b[0;32m<ipython-input-29-02678068f8ee>\u001b[0m in \u001b[0;36m<module>\u001b[0;34m\u001b[0m\n\u001b[1;32m      6\u001b[0m     \u001b[0;32mreturn\u001b[0m \u001b[0mtorch\u001b[0m\u001b[0;34m.\u001b[0m\u001b[0mtensor\u001b[0m\u001b[0;34m(\u001b[0m\u001b[0mtoreturn\u001b[0m\u001b[0;34m,\u001b[0m \u001b[0mdtype\u001b[0m\u001b[0;34m=\u001b[0m\u001b[0mtorch\u001b[0m\u001b[0;34m.\u001b[0m\u001b[0mfloat\u001b[0m\u001b[0;34m)\u001b[0m\u001b[0;34m\u001b[0m\u001b[0;34m\u001b[0m\u001b[0m\n\u001b[1;32m      7\u001b[0m \u001b[0;34m\u001b[0m\u001b[0m\n\u001b[0;32m----> 8\u001b[0;31m \u001b[0mnsample\u001b[0m\u001b[0;34m(\u001b[0m\u001b[0menv\u001b[0m\u001b[0;34m.\u001b[0m\u001b[0maction_space\u001b[0m\u001b[0;34m.\u001b[0m\u001b[0msample\u001b[0m\u001b[0;34m)\u001b[0m\u001b[0;34m.\u001b[0m\u001b[0mshape\u001b[0m\u001b[0;34m\u001b[0m\u001b[0;34m\u001b[0m\u001b[0m\n\u001b[0m",
      "\u001b[0;32m<ipython-input-29-02678068f8ee>\u001b[0m in \u001b[0;36mnsample\u001b[0;34m(smpl_func, n)\u001b[0m\n\u001b[1;32m      1\u001b[0m \u001b[0;32mdef\u001b[0m \u001b[0mnsample\u001b[0m\u001b[0;34m(\u001b[0m\u001b[0msmpl_func\u001b[0m\u001b[0;34m,\u001b[0m \u001b[0mn\u001b[0m\u001b[0;34m=\u001b[0m\u001b[0;36m100\u001b[0m\u001b[0;34m)\u001b[0m\u001b[0;34m:\u001b[0m\u001b[0;34m\u001b[0m\u001b[0;34m\u001b[0m\u001b[0m\n\u001b[0;32m----> 2\u001b[0;31m     \u001b[0mtoreturn\u001b[0m \u001b[0;34m=\u001b[0m \u001b[0mnp\u001b[0m\u001b[0;34m.\u001b[0m\u001b[0mexpand_dims\u001b[0m\u001b[0;34m(\u001b[0m\u001b[0msmpl_func\u001b[0m\u001b[0;34m(\u001b[0m\u001b[0;34m)\u001b[0m\u001b[0;34m,\u001b[0m \u001b[0maxis\u001b[0m\u001b[0;34m=\u001b[0m\u001b[0;36m0\u001b[0m\u001b[0;34m)\u001b[0m\u001b[0;34m\u001b[0m\u001b[0;34m\u001b[0m\u001b[0m\n\u001b[0m\u001b[1;32m      3\u001b[0m     \u001b[0;32mfor\u001b[0m \u001b[0mi\u001b[0m \u001b[0;32min\u001b[0m \u001b[0mrange\u001b[0m\u001b[0;34m(\u001b[0m\u001b[0mn\u001b[0m\u001b[0;34m-\u001b[0m\u001b[0;36m1\u001b[0m\u001b[0;34m)\u001b[0m\u001b[0;34m:\u001b[0m\u001b[0;34m\u001b[0m\u001b[0;34m\u001b[0m\u001b[0m\n\u001b[1;32m      4\u001b[0m         \u001b[0mnew\u001b[0m \u001b[0;34m=\u001b[0m \u001b[0mnp\u001b[0m\u001b[0;34m.\u001b[0m\u001b[0mexpand_dims\u001b[0m\u001b[0;34m(\u001b[0m\u001b[0msmpl_func\u001b[0m\u001b[0;34m(\u001b[0m\u001b[0;34m)\u001b[0m\u001b[0;34m,\u001b[0m \u001b[0maxis\u001b[0m\u001b[0;34m=\u001b[0m\u001b[0;36m0\u001b[0m\u001b[0;34m)\u001b[0m\u001b[0;34m\u001b[0m\u001b[0;34m\u001b[0m\u001b[0m\n\u001b[1;32m      5\u001b[0m         \u001b[0mtoreturn\u001b[0m \u001b[0;34m=\u001b[0m \u001b[0mnp\u001b[0m\u001b[0;34m.\u001b[0m\u001b[0mconcatenate\u001b[0m\u001b[0;34m(\u001b[0m\u001b[0;34m(\u001b[0m\u001b[0mtoreturn\u001b[0m\u001b[0;34m,\u001b[0m \u001b[0mnew\u001b[0m\u001b[0;34m)\u001b[0m\u001b[0;34m,\u001b[0m \u001b[0maxis\u001b[0m\u001b[0;34m=\u001b[0m\u001b[0;36m0\u001b[0m\u001b[0;34m)\u001b[0m\u001b[0;34m\u001b[0m\u001b[0;34m\u001b[0m\u001b[0m\n",
      "\u001b[0;31mNameError\u001b[0m: name 'np' is not defined"
     ]
    }
   ],
   "source": [
    "def nsample(smpl_func, n=100):\n",
    "    toreturn = np.expand_dims(smpl_func(), axis=0)\n",
    "    for i in range(n-1):\n",
    "        new = np.expand_dims(smpl_func(), axis=0)\n",
    "        toreturn = np.concatenate((toreturn, new), axis=0)\n",
    "    return torch.tensor(toreturn, dtype=torch.float)\n",
    "\n",
    "nsample(env.action_space.sample).shape\n"
   ]
  },
  {
   "cell_type": "code",
   "execution_count": 8,
   "metadata": {},
   "outputs": [],
   "source": [
    "def showit():\n",
    "    dons = 0\n",
    "    observation = env.reset()\n",
    "    for t in range(2000):\n",
    "            env.render()\n",
    "            obser = np.expand_dims(observation, axis=0)\n",
    "            ass = policy(torch.tensor(obser).float(), 100, 30)\n",
    "            observation, reward, done, info = env.step(ass[0].numpy())\n",
    "            #observation, reward, done, info = env.step(env.action_space.sample())\n",
    "            rp, op = model(torch.tensor(obser).float(), ass[0].unsqueeze(0))\n",
    "            print(rp.item())\n",
    "            print(reward)\n",
    "            print(op)\n",
    "            print(obs)\n",
    "            print((\"---\"+str(t)+\"---\")*10)\n",
    "            \n",
    "            dons += done\n",
    "            if done:\n",
    "                print(\"r\", reward)\n",
    "                break\n",
    "            time.sleep(0.005)\n",
    "            print(t, \"/200\", reward, end='\\r')\n",
    "\n",
    "env.close()\n",
    "cv2.destroyAllWindows()"
   ]
  },
  {
   "cell_type": "code",
   "execution_count": 10,
   "metadata": {
    "tags": [
     "outputPrepend"
    ]
   },
   "outputs": [
    {
     "output_type": "stream",
     "name": "stdout",
     "text": "AddBackward0>)\ntensor([[ 0.9948,  0.1020,  1.7881],\n        [-0.8947, -0.4468,  7.4100],\n        [-0.8634,  0.5046, -5.6968],\n        ...,\n        [ 0.0617, -0.9981,  5.1603],\n        [ 0.4373,  0.8993, -1.4300],\n        [ 0.4022, -0.9155, -1.6348]])\n---133------133------133------133------133------133------133------133------133------133---\n133 /200 -0.009278881078197005-0.04819381237030029\n-0.014081505706157266\ntensor([[ 0.9962,  0.0425, -0.1520]], grad_fn=<AddBackward0>)\ntensor([[ 0.9948,  0.1020,  1.7881],\n        [-0.8947, -0.4468,  7.4100],\n        [-0.8634,  0.5046, -5.6968],\n        ...,\n        [ 0.0617, -0.9981,  5.1603],\n        [ 0.4373,  0.8993, -1.4300],\n        [ 0.4022, -0.9155, -1.6348]])\n---134------134------134------134------134------134------134------134------134------134---\n134 /200 -0.014081505706157266-0.02733445167541504\n-0.004701965602051974\ntensor([[ 0.9986,  0.0429, -0.0174]], grad_fn=<AddBackward0>)\ntensor([[ 0.9948,  0.1020,  1.7881],\n        [-0.8947, -0.4468,  7.4100],\n        [-0.8634,  0.5046, -5.6968],\n        ...,\n        [ 0.0617, -0.9981,  5.1603],\n        [ 0.4373,  0.8993, -1.4300],\n        [ 0.4022, -0.9155, -1.6348]])\n---135------135------135------135------135------135------135------135------135------135---\n-0.06760746240615845\n-0.003721370805965661\ntensor([[ 0.9977,  0.0366, -0.1625]], grad_fn=<AddBackward0>)\ntensor([[ 0.9948,  0.1020,  1.7881],\n        [-0.8947, -0.4468,  7.4100],\n        [-0.8634,  0.5046, -5.6968],\n        ...,\n        [ 0.0617, -0.9981,  5.1603],\n        [ 0.4373,  0.8993, -1.4300],\n        [ 0.4022, -0.9155, -1.6348]])\n---136------136------136------136------136------136------136------136------136------136---\n136 /200 -0.003721370805965661-0.023620426654815674\n-0.00407586706258253\ntensor([[ 1.0007,  0.0288, -0.1157]], grad_fn=<AddBackward0>)\ntensor([[ 0.9948,  0.1020,  1.7881],\n        [-0.8947, -0.4468,  7.4100],\n        [-0.8634,  0.5046, -5.6968],\n        ...,\n        [ 0.0617, -0.9981,  5.1603],\n        [ 0.4373,  0.8993, -1.4300],\n        [ 0.4022, -0.9155, -1.6348]])\n---137------137------137------137------137------137------137------137------137------137---\n0.027852118015289307\n-0.0025713290863499786\ntensor([[ 1.0018,  0.0211, -0.1639]], grad_fn=<AddBackward0>)\ntensor([[ 0.9948,  0.1020,  1.7881],\n        [-0.8947, -0.4468,  7.4100],\n        [-0.8634,  0.5046, -5.6968],\n        ...,\n        [ 0.0617, -0.9981,  5.1603],\n        [ 0.4373,  0.8993, -1.4300],\n        [ 0.4022, -0.9155, -1.6348]])\n---138------138------138------138------138------138------138------138------138------138---\n138 /200 -0.0025713290863499786-0.028142333030700684\n-0.0039368872232649465\ntensor([[ 0.9997,  0.0194, -0.0293]], grad_fn=<AddBackward0>)\ntensor([[ 0.9948,  0.1020,  1.7881],\n        [-0.8947, -0.4468,  7.4100],\n        [-0.8634,  0.5046, -5.6968],\n        ...,\n        [ 0.0617, -0.9981,  5.1603],\n        [ 0.4373,  0.8993, -1.4300],\n        [ 0.4022, -0.9155, -1.6348]])\n---139------139------139------139------139------139------139------139------139------139---\n139 /200 -0.00393688722326494650.019675910472869873\n-0.000644989487163816\ntensor([[1.0034, 0.0211, 0.0023]], grad_fn=<AddBackward0>)\ntensor([[ 0.9948,  0.1020,  1.7881],\n        [-0.8947, -0.4468,  7.4100],\n        [-0.8634,  0.5046, -5.6968],\n        ...,\n        [ 0.0617, -0.9981,  5.1603],\n        [ 0.4373,  0.8993, -1.4300],\n        [ 0.4022, -0.9155, -1.6348]])\n---140------140------140------140------140------140------140------140------140------140---\n140 /200 -0.000644989487163816-0.11728554964065552\n-0.0029314081447530224\ntensor([[ 0.9968,  0.0130, -0.1992]], grad_fn=<AddBackward0>)\ntensor([[ 0.9948,  0.1020,  1.7881],\n        [-0.8947, -0.4468,  7.4100],\n        [-0.8634,  0.5046, -5.6968],\n        ...,\n        [ 0.0617, -0.9981,  5.1603],\n        [ 0.4373,  0.8993, -1.4300],\n        [ 0.4022, -0.9155, -1.6348]])\n---141------141------141------141------141------141------141------141------141------141---\n141 /200 -0.0029314081447530224-0.1501602828502655\n-0.005800158233663687\ntensor([[1.0026, 0.0162, 0.0129]], grad_fn=<AddBackward0>)\ntensor([[ 0.9948,  0.1020,  1.7881],\n        [-0.8947, -0.4468,  7.4100],\n        [-0.8634,  0.5046, -5.6968],\n        ...,\n        [ 0.0617, -0.9981,  5.1603],\n        [ 0.4373,  0.8993, -1.4300],\n        [ 0.4022, -0.9155, -1.6348]])\n---142------142------142------142------142------142------142------142------142------142---\n142 /200 -0.005800158233663687-0.2637481391429901\n-0.0026912389318310337\ntensor([[1.0038, 0.0340, 0.2594]], grad_fn=<AddBackward0>)\ntensor([[ 0.9948,  0.1020,  1.7881],\n        [-0.8947, -0.4468,  7.4100],\n        [-0.8634,  0.5046, -5.6968],\n        ...,\n        [ 0.0617, -0.9981,  5.1603],\n        [ 0.4373,  0.8993, -1.4300],\n        [ 0.4022, -0.9155, -1.6348]])\n---143------143------143------143------143------143------143------143------143------143---\n143 /200 -0.0026912389318310337-0.21016937494277954\n-0.01014849030177808\ntensor([[0.9973, 0.0325, 0.0478]], grad_fn=<AddBackward0>)\ntensor([[ 0.9948,  0.1020,  1.7881],\n        [-0.8947, -0.4468,  7.4100],\n        [-0.8634,  0.5046, -5.6968],\n        ...,\n        [ 0.0617, -0.9981,  5.1603],\n        [ 0.4373,  0.8993, -1.4300],\n        [ 0.4022, -0.9155, -1.6348]])\n---144------144------144------144------144------144------144------144------144------144---\n144 /200 -0.01014849030177808-0.04239320755004883\n-0.002399821957934675\ntensor([[ 0.9986,  0.0255, -0.0842]], grad_fn=<AddBackward0>)\ntensor([[ 0.9948,  0.1020,  1.7881],\n        [-0.8947, -0.4468,  7.4100],\n        [-0.8634,  0.5046, -5.6968],\n        ...,\n        [ 0.0617, -0.9981,  5.1603],\n        [ 0.4373,  0.8993, -1.4300],\n        [ 0.4022, -0.9155, -1.6348]])\n---145------145------145------145------145------145------145------145------145------145---\n145 /200 -0.002399821957934675-0.0008767247200012207\n-0.0017606835440606588\ntensor([[0.9986, 0.0244, 0.0107]], grad_fn=<AddBackward0>)\ntensor([[ 0.9948,  0.1020,  1.7881],\n        [-0.8947, -0.4468,  7.4100],\n        [-0.8634,  0.5046, -5.6968],\n        ...,\n        [ 0.0617, -0.9981,  5.1603],\n        [ 0.4373,  0.8993, -1.4300],\n        [ 0.4022, -0.9155, -1.6348]])\n---146------146------146------146------146------146------146------146------146------146---\n-0.08486706018447876\n-0.002668639607561974\ntensor([[ 0.9978,  0.0182, -0.1652]], grad_fn=<AddBackward0>)\ntensor([[ 0.9948,  0.1020,  1.7881],\n        [-0.8947, -0.4468,  7.4100],\n        [-0.8634,  0.5046, -5.6968],\n        ...,\n        [ 0.0617, -0.9981,  5.1603],\n        [ 0.4373,  0.8993, -1.4300],\n        [ 0.4022, -0.9155, -1.6348]])\n---147------147------147------147------147------147------147------147------147------147---\n147 /200 -0.0026686396075619740.020301103591918945\n-0.0030670387438642005\ntensor([[ 1.0052,  0.0089, -0.1689]], grad_fn=<AddBackward0>)\ntensor([[ 0.9948,  0.1020,  1.7881],\n        [-0.8947, -0.4468,  7.4100],\n        [-0.8634,  0.5046, -5.6968],\n        ...,\n        [ 0.0617, -0.9981,  5.1603],\n        [ 0.4373,  0.8993, -1.4300],\n        [ 0.4022, -0.9155, -1.6348]])\n---148------148------148------148------148------148------148------148------148------148---\n148 /200 -0.0030670387438642005-0.33478304743766785\n-0.005548569258964042\ntensor([[1.0062, 0.0237, 0.1080]], grad_fn=<AddBackward0>)\ntensor([[ 0.9948,  0.1020,  1.7881],\n        [-0.8947, -0.4468,  7.4100],\n        [-0.8634,  0.5046, -5.6968],\n        ...,\n        [ 0.0617, -0.9981,  5.1603],\n        [ 0.4373,  0.8993, -1.4300],\n        [ 0.4022, -0.9155, -1.6348]])\n---149------149------149------149------149------149------149------149------149------149---\n149 /200 -0.005548569258964042-0.010861039161682129\n-0.0017617646349564972\ntensor([[0.9994, 0.0253, 0.1864]], grad_fn=<AddBackward0>)\ntensor([[ 0.9948,  0.1020,  1.7881],\n        [-0.8947, -0.4468,  7.4100],\n        [-0.8634,  0.5046, -5.6968],\n        ...,\n        [ 0.0617, -0.9981,  5.1603],\n        [ 0.4373,  0.8993, -1.4300],\n        [ 0.4022, -0.9155, -1.6348]])\n---150------150------150------150------150------150------150------150------150------150---\n-0.030947506427764893\n-0.004796054660694928\ntensor([[1.0000, 0.0405, 0.2654]], grad_fn=<AddBackward0>)\ntensor([[ 0.9948,  0.1020,  1.7881],\n        [-0.8947, -0.4468,  7.4100],\n        [-0.8634,  0.5046, -5.6968],\n        ...,\n        [ 0.0617, -0.9981,  5.1603],\n        [ 0.4373,  0.8993, -1.4300],\n        [ 0.4022, -0.9155, -1.6348]])\n---151------151------151------151------151------151------151------151------151------151---\n151 /200 -0.004796054660694928-0.17544370889663696\n-0.011192176545600088\ntensor([[0.9966, 0.0491, 0.0943]], grad_fn=<AddBackward0>)\ntensor([[ 0.9948,  0.1020,  1.7881],\n        [-0.8947, -0.4468,  7.4100],\n        [-0.8634,  0.5046, -5.6968],\n        ...,\n        [ 0.0617, -0.9981,  5.1603],\n        [ 0.4373,  0.8993, -1.4300],\n        [ 0.4022, -0.9155, -1.6348]])\n---152------152------152------152------152------152------152------152------152------152---\n152 /200 -0.0111921765456000880.014770925045013428\n-0.003186260376310425\ntensor([[1.0020, 0.0494, 0.1166]], grad_fn=<AddBackward0>)\ntensor([[ 0.9948,  0.1020,  1.7881],\n        [-0.8947, -0.4468,  7.4100],\n        [-0.8634,  0.5046, -5.6968],\n        ...,\n        [ 0.0617, -0.9981,  5.1603],\n        [ 0.4373,  0.8993, -1.4300],\n        [ 0.4022, -0.9155, -1.6348]])\n---153------153------153------153------153------153------153------153------153------153---\n153 /200 -0.003186260376310425-0.0035265088081359863\n-0.004517765256616873\ntensor([[1.0018, 0.0562, 0.1015]], grad_fn=<AddBackward0>)\ntensor([[ 0.9948,  0.1020,  1.7881],\n        [-0.8947, -0.4468,  7.4100],\n        [-0.8634,  0.5046, -5.6968],\n        ...,\n        [ 0.0617, -0.9981,  5.1603],\n        [ 0.4373,  0.8993, -1.4300],\n        [ 0.4022, -0.9155, -1.6348]])\n---154------154------154------154------154------154------154------154------154------154---\n154 /200 -0.004517765256616873-0.016510844230651855\n-0.00478036772651904\ntensor([[1.0002, 0.0600, 0.0682]], grad_fn=<AddBackward0>)\ntensor([[ 0.9948,  0.1020,  1.7881],\n        [-0.8947, -0.4468,  7.4100],\n        [-0.8634,  0.5046, -5.6968],\n        ...,\n        [ 0.0617, -0.9981,  5.1603],\n        [ 0.4373,  0.8993, -1.4300],\n        [ 0.4022, -0.9155, -1.6348]])\n---155------155------155------155------155------155------155------155------155------155---\n-0.01976555585861206\n-0.004829403515208567\ntensor([[0.9992, 0.0614, 0.0185]], grad_fn=<AddBackward0>)\ntensor([[ 0.9948,  0.1020,  1.7881],\n        [-0.8947, -0.4468,  7.4100],\n        [-0.8634,  0.5046, -5.6968],\n        ...,\n        [ 0.0617, -0.9981,  5.1603],\n        [ 0.4373,  0.8993, -1.4300],\n        [ 0.4022, -0.9155, -1.6348]])\n---156------156------156------156------156------156------156------156------156------156---\n156 /200 -0.004829403515208567-0.042133986949920654\n-0.004397455345199804\ntensor([[0.9992, 0.0697, 0.1520]], grad_fn=<AddBackward0>)\ntensor([[ 0.9948,  0.1020,  1.7881],\n        [-0.8947, -0.4468,  7.4100],\n        [-0.8634,  0.5046, -5.6968],\n        ...,\n        [ 0.0617, -0.9981,  5.1603],\n        [ 0.4373,  0.8993, -1.4300],\n        [ 0.4022, -0.9155, -1.6348]])\n---157------157------157------157------157------157------157------157------157------157---\n157 /200 -0.004397455345199804-0.09667623043060303\n-0.007988497745896292\ntensor([[1.0001, 0.0869, 0.3001]], grad_fn=<AddBackward0>)\ntensor([[ 0.9948,  0.1020,  1.7881],\n        [-0.8947, -0.4468,  7.4100],\n        [-0.8634,  0.5046, -5.6968],\n        ...,\n        [ 0.0617, -0.9981,  5.1603],\n        [ 0.4373,  0.8993, -1.4300],\n        [ 0.4022, -0.9155, -1.6348]])\n---158------158------158------158------158------158------158------158------158------158---\n158 /200 -0.007988497745896292-0.14675521850585938\n-0.01788359523910503\ntensor([[0.9951, 0.1013, 0.2105]], grad_fn=<AddBackward0>)\ntensor([[ 0.9948,  0.1020,  1.7881],\n        [-0.8947, -0.4468,  7.4100],\n        [-0.8634,  0.5046, -5.6968],\n        ...,\n        [ 0.0617, -0.9981,  5.1603],\n        [ 0.4373,  0.8993, -1.4300],\n        [ 0.4022, -0.9155, -1.6348]])\n---159------159------159------159------159------159------159------159------159------159---\n159 /200 -0.01788359523910503-0.27151328325271606\n-0.017573255800663035\ntensor([[0.9931, 0.1011, 0.0193]], grad_fn=<AddBackward0>)\ntensor([[ 0.9948,  0.1020,  1.7881],\n        [-0.8947, -0.4468,  7.4100],\n        [-0.8634,  0.5046, -5.6968],\n        ...,\n        [ 0.0617, -0.9981,  5.1603],\n        [ 0.4373,  0.8993, -1.4300],\n        [ 0.4022, -0.9155, -1.6348]])\n---160------160------160------160------160------160------160------160------160------160---\n160 /200 -0.017573255800663035-0.19747453927993774\n-0.013314807487014819\ntensor([[ 0.9950,  0.0894, -0.1849]], grad_fn=<AddBackward0>)\ntensor([[ 0.9948,  0.1020,  1.7881],\n        [-0.8947, -0.4468,  7.4100],\n        [-0.8634,  0.5046, -5.6968],\n        ...,\n        [ 0.0617, -0.9981,  5.1603],\n        [ 0.4373,  0.8993, -1.4300],\n        [ 0.4022, -0.9155, -1.6348]])\n---161------161------161------161------161------161------161------161------161------161---\n161 /200 -0.013314807487014819-0.03651696443557739\n-0.011354618419022884\ntensor([[ 0.9938,  0.0829, -0.0895]], grad_fn=<AddBackward0>)\ntensor([[ 0.9948,  0.1020,  1.7881],\n        [-0.8947, -0.4468,  7.4100],\n        [-0.8634,  0.5046, -5.6968],\n        ...,\n        [ 0.0617, -0.9981,  5.1603],\n        [ 0.4373,  0.8993, -1.4300],\n        [ 0.4022, -0.9155, -1.6348]])\n---162------162------162------162------162------162------162------162------162------162---\n162 /200 -0.011354618419022884-0.10605770349502563\n-0.010303737202638719\ntensor([[ 0.9961,  0.0718, -0.2506]], grad_fn=<AddBackward0>)\ntensor([[ 0.9948,  0.1020,  1.7881],\n        [-0.8947, -0.4468,  7.4100],\n        [-0.8634,  0.5046, -5.6968],\n        ...,\n        [ 0.0617, -0.9981,  5.1603],\n        [ 0.4373,  0.8993, -1.4300],\n        [ 0.4022, -0.9155, -1.6348]])\n---163------163------163------163------163------163------163------163------163------163---\n163 /200 -0.010303737202638719-0.015939056873321533\n-0.012339483753375284\ntensor([[ 0.9999,  0.0547, -0.3384]], grad_fn=<AddBackward0>)\ntensor([[ 0.9948,  0.1020,  1.7881],\n        [-0.8947, -0.4468,  7.4100],\n        [-0.8634,  0.5046, -5.6968],\n        ...,\n        [ 0.0617, -0.9981,  5.1603],\n        [ 0.4373,  0.8993, -1.4300],\n        [ 0.4022, -0.9155, -1.6348]])\n---164------164------164------164------164------164------164------164------164------164---\n164 /200 -0.0123394837533752840.0022800564765930176\n-0.014853095995055509\ntensor([[ 1.0032,  0.0366, -0.3818]], grad_fn=<AddBackward0>)\ntensor([[ 0.9948,  0.1020,  1.7881],\n        [-0.8947, -0.4468,  7.4100],\n        [-0.8634,  0.5046, -5.6968],\n        ...,\n        [ 0.0617, -0.9981,  5.1603],\n        [ 0.4373,  0.8993, -1.4300],\n        [ 0.4022, -0.9155, -1.6348]])\n---165------165------165------165------165------165------165------165------165------165---\n-0.21496042609214783\n-0.018001324954751433\ntensor([[ 1.0041,  0.0311, -0.1313]], grad_fn=<AddBackward0>)\ntensor([[ 0.9948,  0.1020,  1.7881],\n        [-0.8947, -0.4468,  7.4100],\n        [-0.8634,  0.5046, -5.6968],\n        ...,\n        [ 0.0617, -0.9981,  5.1603],\n        [ 0.4373,  0.8993, -1.4300],\n        [ 0.4022, -0.9155, -1.6348]])\n---166------166------166------166------166------166------166------166------166------166---\n166 /200 -0.0180013249547514330.028410613536834717\n-0.003014516729585105\ntensor([[ 1.0017,  0.0169, -0.1937]], grad_fn=<AddBackward0>)\ntensor([[ 0.9948,  0.1020,  1.7881],\n        [-0.8947, -0.4468,  7.4100],\n        [-0.8634,  0.5046, -5.6968],\n        ...,\n        [ 0.0617, -0.9981,  5.1603],\n        [ 0.4373,  0.8993, -1.4300],\n        [ 0.4022, -0.9155, -1.6348]])\n---167------167------167------167------167------167------167------167------167------167---\n167 /200 -0.003014516729585105-0.022808372974395752\n-0.005436396809707436\ntensor([[ 0.9985,  0.0021, -0.3459]], grad_fn=<AddBackward0>)\ntensor([[ 0.9948,  0.1020,  1.7881],\n        [-0.8947, -0.4468,  7.4100],\n        [-0.8634,  0.5046, -5.6968],\n        ...,\n        [ 0.0617, -0.9981,  5.1603],\n        [ 0.4373,  0.8993, -1.4300],\n        [ 0.4022, -0.9155, -1.6348]])\n---168------168------168------168------168------168------168------168------168------168---\n168 /200 -0.005436396809707436-0.46041563153266907\n-0.01592420161815263\ntensor([[ 1.0090,  0.0086, -0.0412]], grad_fn=<AddBackward0>)\ntensor([[ 0.9948,  0.1020,  1.7881],\n        [-0.8947, -0.4468,  7.4100],\n        [-0.8634,  0.5046, -5.6968],\n        ...,\n        [ 0.0617, -0.9981,  5.1603],\n        [ 0.4373,  0.8993, -1.4300],\n        [ 0.4022, -0.9155, -1.6348]])\n---169------169------169------169------169------169------169------169------169------169---\n-0.09689432382583618\n-0.0024118526281374465\ntensor([[ 0.9964, -0.0145, -0.2686]], grad_fn=<AddBackward0>)\ntensor([[ 0.9948,  0.1020,  1.7881],\n        [-0.8947, -0.4468,  7.4100],\n        [-0.8634,  0.5046, -5.6968],\n        ...,\n        [ 0.0617, -0.9981,  5.1603],\n        [ 0.4373,  0.8993, -1.4300],\n        [ 0.4022, -0.9155, -1.6348]])\n---170------170------170------170------170------170------170------170------170------170---\n170 /200 -0.00241185262813744650.0033274292945861816\n-0.007142800146778212\ntensor([[ 1.0049, -0.0290, -0.2655]], grad_fn=<AddBackward0>)\ntensor([[ 0.9948,  0.1020,  1.7881],\n        [-0.8947, -0.4468,  7.4100],\n        [-0.8634,  0.5046, -5.6968],\n        ...,\n        [ 0.0617, -0.9981,  5.1603],\n        [ 0.4373,  0.8993, -1.4300],\n        [ 0.4022, -0.9155, -1.6348]])\n---171------171------171------171------171------171------171------171------171------171---\n171 /200 -0.007142800146778212-0.07149577140808105\n-0.00863220246971854\ntensor([[ 0.9999, -0.0322, -0.0968]], grad_fn=<AddBackward0>)\ntensor([[ 0.9948,  0.1020,  1.7881],\n        [-0.8947, -0.4468,  7.4100],\n        [-0.8634,  0.5046, -5.6968],\n        ...,\n        [ 0.0617, -0.9981,  5.1603],\n        [ 0.4373,  0.8993, -1.4300],\n        [ 0.4022, -0.9155, -1.6348]])\n---172------172------172------172------172------172------172------172------172------172---\n172 /200 -0.008632202469718540.021273672580718994\n-0.0017205306355603015\ntensor([[ 1.0028, -0.0371, -0.0607]], grad_fn=<AddBackward0>)\ntensor([[ 0.9948,  0.1020,  1.7881],\n        [-0.8947, -0.4468,  7.4100],\n        [-0.8634,  0.5046, -5.6968],\n        ...,\n        [ 0.0617, -0.9981,  5.1603],\n        [ 0.4373,  0.8993, -1.4300],\n        [ 0.4022, -0.9155, -1.6348]])\n---173------173------173------173------173------173------173------173------173------173---\n173 /200 -0.0017205306355603015-0.01405400037765503\n-0.0022201956629807175\ntensor([[ 1.0010, -0.0326,  0.0640]], grad_fn=<AddBackward0>)\ntensor([[ 0.9948,  0.1020,  1.7881],\n        [-0.8947, -0.4468,  7.4100],\n        [-0.8634,  0.5046, -5.6968],\n        ...,\n        [ 0.0617, -0.9981,  5.1603],\n        [ 0.4373,  0.8993, -1.4300],\n        [ 0.4022, -0.9155, -1.6348]])\n---174------174------174------174------174------174------174------174------174------174---\n174 /200 -0.00222019566298071750.027461588382720947\n-0.0016649188619404837\ntensor([[ 1.0001, -0.0252,  0.1373]], grad_fn=<AddBackward0>)\ntensor([[ 0.9948,  0.1020,  1.7881],\n        [-0.8947, -0.4468,  7.4100],\n        [-0.8634,  0.5046, -5.6968],\n        ...,\n        [ 0.0617, -0.9981,  5.1603],\n        [ 0.4373,  0.8993, -1.4300],\n        [ 0.4022, -0.9155, -1.6348]])\n---175------175------175------175------175------175------175------175------175------175---\n175 /200 -0.0016649188619404837-0.21114665269851685\n-0.005523325918886678\ntensor([[ 0.9962, -0.0305, -0.1302]], grad_fn=<AddBackward0>)\ntensor([[ 0.9948,  0.1020,  1.7881],\n        [-0.8947, -0.4468,  7.4100],\n        [-0.8634,  0.5046, -5.6968],\n        ...,\n        [ 0.0617, -0.9981,  5.1603],\n        [ 0.4373,  0.8993, -1.4300],\n        [ 0.4022, -0.9155, -1.6348]])\n---176------176------176------176------176------176------176------176------176------176---\n176 /200 -0.005523325918886678"
    },
    {
     "output_type": "error",
     "ename": "KeyboardInterrupt",
     "evalue": "",
     "traceback": [
      "\u001b[0;31m---------------------------------------------------------------------------\u001b[0m",
      "\u001b[0;31mKeyboardInterrupt\u001b[0m                         Traceback (most recent call last)",
      "\u001b[0;32m<ipython-input-10-e30819bc979d>\u001b[0m in \u001b[0;36m<module>\u001b[0;34m\u001b[0m\n\u001b[0;32m----> 1\u001b[0;31m \u001b[0mshowit\u001b[0m\u001b[0;34m(\u001b[0m\u001b[0;34m)\u001b[0m\u001b[0;34m\u001b[0m\u001b[0;34m\u001b[0m\u001b[0m\n\u001b[0m",
      "\u001b[0;32m<ipython-input-8-bae398ed89ac>\u001b[0m in \u001b[0;36mshowit\u001b[0;34m()\u001b[0m\n\u001b[1;32m      5\u001b[0m             \u001b[0menv\u001b[0m\u001b[0;34m.\u001b[0m\u001b[0mrender\u001b[0m\u001b[0;34m(\u001b[0m\u001b[0;34m)\u001b[0m\u001b[0;34m\u001b[0m\u001b[0;34m\u001b[0m\u001b[0m\n\u001b[1;32m      6\u001b[0m             \u001b[0mobser\u001b[0m \u001b[0;34m=\u001b[0m \u001b[0mnp\u001b[0m\u001b[0;34m.\u001b[0m\u001b[0mexpand_dims\u001b[0m\u001b[0;34m(\u001b[0m\u001b[0mobservation\u001b[0m\u001b[0;34m,\u001b[0m \u001b[0maxis\u001b[0m\u001b[0;34m=\u001b[0m\u001b[0;36m0\u001b[0m\u001b[0;34m)\u001b[0m\u001b[0;34m\u001b[0m\u001b[0;34m\u001b[0m\u001b[0m\n\u001b[0;32m----> 7\u001b[0;31m             \u001b[0mass\u001b[0m \u001b[0;34m=\u001b[0m \u001b[0mpolicy\u001b[0m\u001b[0;34m(\u001b[0m\u001b[0mtorch\u001b[0m\u001b[0;34m.\u001b[0m\u001b[0mtensor\u001b[0m\u001b[0;34m(\u001b[0m\u001b[0mobser\u001b[0m\u001b[0;34m)\u001b[0m\u001b[0;34m.\u001b[0m\u001b[0mfloat\u001b[0m\u001b[0;34m(\u001b[0m\u001b[0;34m)\u001b[0m\u001b[0;34m,\u001b[0m \u001b[0;36m100\u001b[0m\u001b[0;34m,\u001b[0m \u001b[0;36m30\u001b[0m\u001b[0;34m)\u001b[0m\u001b[0;34m\u001b[0m\u001b[0;34m\u001b[0m\u001b[0m\n\u001b[0m\u001b[1;32m      8\u001b[0m             \u001b[0mobservation\u001b[0m\u001b[0;34m,\u001b[0m \u001b[0mreward\u001b[0m\u001b[0;34m,\u001b[0m \u001b[0mdone\u001b[0m\u001b[0;34m,\u001b[0m \u001b[0minfo\u001b[0m \u001b[0;34m=\u001b[0m \u001b[0menv\u001b[0m\u001b[0;34m.\u001b[0m\u001b[0mstep\u001b[0m\u001b[0;34m(\u001b[0m\u001b[0mass\u001b[0m\u001b[0;34m[\u001b[0m\u001b[0;36m0\u001b[0m\u001b[0;34m]\u001b[0m\u001b[0;34m.\u001b[0m\u001b[0mnumpy\u001b[0m\u001b[0;34m(\u001b[0m\u001b[0;34m)\u001b[0m\u001b[0;34m)\u001b[0m\u001b[0;34m\u001b[0m\u001b[0;34m\u001b[0m\u001b[0m\n\u001b[1;32m      9\u001b[0m             \u001b[0;31m#observation, reward, done, info = env.step(env.action_space.sample())\u001b[0m\u001b[0;34m\u001b[0m\u001b[0;34m\u001b[0m\u001b[0;34m\u001b[0m\u001b[0m\n",
      "\u001b[0;32m<ipython-input-6-57c74f9de887>\u001b[0m in \u001b[0;36mpolicy\u001b[0;34m(obs, nsmpls, tlen)\u001b[0m\n\u001b[1;32m      4\u001b[0m     \u001b[0mrs\u001b[0m \u001b[0;34m=\u001b[0m \u001b[0mtorch\u001b[0m\u001b[0;34m.\u001b[0m\u001b[0mzeros\u001b[0m\u001b[0;34m(\u001b[0m\u001b[0mnsmpls\u001b[0m\u001b[0;34m,\u001b[0m \u001b[0;36m1\u001b[0m\u001b[0;34m)\u001b[0m\u001b[0;34m\u001b[0m\u001b[0;34m\u001b[0m\u001b[0m\n\u001b[1;32m      5\u001b[0m     \u001b[0;32mfor\u001b[0m \u001b[0mt\u001b[0m \u001b[0;32min\u001b[0m \u001b[0mrange\u001b[0m\u001b[0;34m(\u001b[0m\u001b[0mtlen\u001b[0m\u001b[0;34m)\u001b[0m\u001b[0;34m:\u001b[0m\u001b[0;34m\u001b[0m\u001b[0;34m\u001b[0m\u001b[0m\n\u001b[0;32m----> 6\u001b[0;31m         \u001b[0ma\u001b[0m \u001b[0;34m=\u001b[0m \u001b[0mnsample\u001b[0m\u001b[0;34m(\u001b[0m\u001b[0menv\u001b[0m\u001b[0;34m.\u001b[0m\u001b[0maction_space\u001b[0m\u001b[0;34m.\u001b[0m\u001b[0msample\u001b[0m\u001b[0;34m,\u001b[0m \u001b[0mnsmpls\u001b[0m\u001b[0;34m)\u001b[0m\u001b[0;34m\u001b[0m\u001b[0;34m\u001b[0m\u001b[0m\n\u001b[0m\u001b[1;32m      7\u001b[0m \u001b[0;31m#         print(a, \"ass\")\u001b[0m\u001b[0;34m\u001b[0m\u001b[0;34m\u001b[0m\u001b[0;34m\u001b[0m\u001b[0m\n\u001b[1;32m      8\u001b[0m \u001b[0;31m#         print(obs.shape, a.shape)\u001b[0m\u001b[0;34m\u001b[0m\u001b[0;34m\u001b[0m\u001b[0;34m\u001b[0m\u001b[0m\n",
      "\u001b[0;32m<ipython-input-7-02678068f8ee>\u001b[0m in \u001b[0;36mnsample\u001b[0;34m(smpl_func, n)\u001b[0m\n\u001b[1;32m      2\u001b[0m     \u001b[0mtoreturn\u001b[0m \u001b[0;34m=\u001b[0m \u001b[0mnp\u001b[0m\u001b[0;34m.\u001b[0m\u001b[0mexpand_dims\u001b[0m\u001b[0;34m(\u001b[0m\u001b[0msmpl_func\u001b[0m\u001b[0;34m(\u001b[0m\u001b[0;34m)\u001b[0m\u001b[0;34m,\u001b[0m \u001b[0maxis\u001b[0m\u001b[0;34m=\u001b[0m\u001b[0;36m0\u001b[0m\u001b[0;34m)\u001b[0m\u001b[0;34m\u001b[0m\u001b[0;34m\u001b[0m\u001b[0m\n\u001b[1;32m      3\u001b[0m     \u001b[0;32mfor\u001b[0m \u001b[0mi\u001b[0m \u001b[0;32min\u001b[0m \u001b[0mrange\u001b[0m\u001b[0;34m(\u001b[0m\u001b[0mn\u001b[0m\u001b[0;34m-\u001b[0m\u001b[0;36m1\u001b[0m\u001b[0;34m)\u001b[0m\u001b[0;34m:\u001b[0m\u001b[0;34m\u001b[0m\u001b[0;34m\u001b[0m\u001b[0m\n\u001b[0;32m----> 4\u001b[0;31m         \u001b[0mnew\u001b[0m \u001b[0;34m=\u001b[0m \u001b[0mnp\u001b[0m\u001b[0;34m.\u001b[0m\u001b[0mexpand_dims\u001b[0m\u001b[0;34m(\u001b[0m\u001b[0msmpl_func\u001b[0m\u001b[0;34m(\u001b[0m\u001b[0;34m)\u001b[0m\u001b[0;34m,\u001b[0m \u001b[0maxis\u001b[0m\u001b[0;34m=\u001b[0m\u001b[0;36m0\u001b[0m\u001b[0;34m)\u001b[0m\u001b[0;34m\u001b[0m\u001b[0;34m\u001b[0m\u001b[0m\n\u001b[0m\u001b[1;32m      5\u001b[0m         \u001b[0mtoreturn\u001b[0m \u001b[0;34m=\u001b[0m \u001b[0mnp\u001b[0m\u001b[0;34m.\u001b[0m\u001b[0mconcatenate\u001b[0m\u001b[0;34m(\u001b[0m\u001b[0;34m(\u001b[0m\u001b[0mtoreturn\u001b[0m\u001b[0;34m,\u001b[0m \u001b[0mnew\u001b[0m\u001b[0;34m)\u001b[0m\u001b[0;34m,\u001b[0m \u001b[0maxis\u001b[0m\u001b[0;34m=\u001b[0m\u001b[0;36m0\u001b[0m\u001b[0;34m)\u001b[0m\u001b[0;34m\u001b[0m\u001b[0;34m\u001b[0m\u001b[0m\n\u001b[1;32m      6\u001b[0m     \u001b[0;32mreturn\u001b[0m \u001b[0mtorch\u001b[0m\u001b[0;34m.\u001b[0m\u001b[0mtensor\u001b[0m\u001b[0;34m(\u001b[0m\u001b[0mtoreturn\u001b[0m\u001b[0;34m,\u001b[0m \u001b[0mdtype\u001b[0m\u001b[0;34m=\u001b[0m\u001b[0mtorch\u001b[0m\u001b[0;34m.\u001b[0m\u001b[0mfloat\u001b[0m\u001b[0;34m)\u001b[0m\u001b[0;34m\u001b[0m\u001b[0;34m\u001b[0m\u001b[0m\n",
      "\u001b[0;32m~/.local/lib/python3.8/site-packages/gym/spaces/box.py\u001b[0m in \u001b[0;36msample\u001b[0;34m(self)\u001b[0m\n\u001b[1;32m    115\u001b[0m             size=upp_bounded[upp_bounded].shape) + self.high[upp_bounded]\n\u001b[1;32m    116\u001b[0m \u001b[0;34m\u001b[0m\u001b[0m\n\u001b[0;32m--> 117\u001b[0;31m         sample[bounded] = self.np_random.uniform(low=self.low[bounded],\n\u001b[0m\u001b[1;32m    118\u001b[0m                                             \u001b[0mhigh\u001b[0m\u001b[0;34m=\u001b[0m\u001b[0mhigh\u001b[0m\u001b[0;34m[\u001b[0m\u001b[0mbounded\u001b[0m\u001b[0;34m]\u001b[0m\u001b[0;34m,\u001b[0m\u001b[0;34m\u001b[0m\u001b[0;34m\u001b[0m\u001b[0m\n\u001b[1;32m    119\u001b[0m                                             size=bounded[bounded].shape)\n",
      "\u001b[0;32mmtrand.pyx\u001b[0m in \u001b[0;36mnumpy.random.mtrand.RandomState.uniform\u001b[0;34m()\u001b[0m\n",
      "\u001b[0;32m<__array_function__ internals>\u001b[0m in \u001b[0;36mall\u001b[0;34m(*args, **kwargs)\u001b[0m\n",
      "\u001b[0;31mKeyboardInterrupt\u001b[0m: "
     ]
    }
   ],
   "source": [
    "showit()"
   ]
  },
  {
   "cell_type": "code",
   "execution_count": 89,
   "metadata": {},
   "outputs": [
    {
     "output_type": "execute_result",
     "data": {
      "text/plain": "tensor(4)"
     },
     "metadata": {},
     "execution_count": 89
    }
   ],
   "source": [
    "x = torch.arange(1., 6.)\n",
    "x.topk(k=2)[0]\n",
    "x.argmax()"
   ]
  }
 ],
 "metadata": {
  "kernelspec": {
   "display_name": "Python 3",
   "language": "python",
   "name": "python3"
  },
  "language_info": {
   "codemirror_mode": {
    "name": "ipython",
    "version": 3
   },
   "file_extension": ".py",
   "mimetype": "text/x-python",
   "name": "python",
   "nbconvert_exporter": "python",
   "pygments_lexer": "ipython3",
   "version": "3.8.2-final"
  }
 },
 "nbformat": 4,
 "nbformat_minor": 4
}