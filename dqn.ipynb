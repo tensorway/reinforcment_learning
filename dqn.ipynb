{
 "cells": [
  {
   "cell_type": "code",
   "execution_count": 1,
   "metadata": {
    "tags": []
   },
   "outputs": [
    {
     "output_type": "execute_result",
     "data": {
      "text/plain": "(Box(1,), Box(3,), array([0.29680926, 0.19608858, 1.0966952 ], dtype=float32))"
     },
     "metadata": {},
     "execution_count": 1
    }
   ],
   "source": [
    "import gym\n",
    "import torch\n",
    "import copy\n",
    "from myrl.buffers import ReplayBuffer\n",
    "from myrl.visualizer import showit\n",
    "from myrl.utils import ExperimentWriter, Discrete2Continuous\n",
    "from myrl.value_functions import polyak, DQN\n",
    "from myrl.policies import RandomPolicy\n",
    "from myrl.environments import Envs\n",
    "\n",
    "\n",
    "envname = 'BipedalWalker-v3'\n",
    "envname = 'MountainCar-v0'\n",
    "envname = 'Pendulum-v0'\n",
    "# envname = 'CartPole-v0'\n",
    "# envname = 'Boxing-ram-v0'\n",
    "# envname = 'Ant-v2'\n",
    "# envname = 'LunarLandŽer-v2'\n",
    "\n",
    "\n",
    "wll = ExperimentWriter('tb/doubledqn_2_ ' + envname + \" -\")\n",
    "env = gym.make(envname)\n",
    "envs = Envs(envname, 1)\n",
    "env.action_space, env.observation_space, env.observation_space.sample()"
   ]
  },
  {
   "cell_type": "code",
   "execution_count": 2,
   "metadata": {},
   "outputs": [],
   "source": [
    "rbuff = ReplayBuffer(700000)"
   ]
  },
  {
   "cell_type": "code",
   "execution_count": 3,
   "metadata": {
    "tags": []
   },
   "outputs": [
    {
     "output_type": "stream",
     "name": "stdout",
     "text": "Box(1,) Box(3,)\n"
    },
    {
     "output_type": "execute_result",
     "data": {
      "text/plain": "DQN(\n  (layers): ModuleList(\n    (0): Linear(in_features=3, out_features=32, bias=True)\n    (1): Linear(in_features=32, out_features=16, bias=True)\n    (2): Linear(in_features=16, out_features=5, bias=True)\n  )\n)"
     },
     "metadata": {},
     "execution_count": 3
    }
   ],
   "source": [
    "print(env.action_space, env.observation_space)\n",
    "adim = 5#env.action_space.shape[0]\n",
    "sdim = env.observation_space.shape[0]\n",
    "dqn1 = DQN([sdim, 32, 16, adim])\n",
    "dqn2 = DQN([sdim, 32, 16, adim])\n",
    "tdqn1 = copy.deepcopy(dqn1)\n",
    "tdqn2 = copy.deepcopy(dqn2)\n",
    "dqn1"
   ]
  },
  {
   "cell_type": "code",
   "execution_count": 4,
   "metadata": {},
   "outputs": [],
   "source": [
    "opt = torch.optim.Adam(list(dqn1.parameters())+list(dqn2.parameters()), lr=1e-2)"
   ]
  },
  {
   "cell_type": "code",
   "execution_count": 5,
   "metadata": {
    "tags": []
   },
   "outputs": [
    {
     "output_type": "stream",
     "name": "stdout",
     "text": "2004006008001000120014001600180020002200240020 28.96443748474121 -1466.02099609375 1\n30 31.65414047241211 -1209.1741943359375 1\n40 30.62737274169922 -1328.48681640625 1\n50 34.157352447509766 -1595.881591796875 1\nshowit =  -1200.9164926988076\n60 31.42276382446289 -1563.5518798828125 1\n70 39.814823150634766 -1392.8045654296875 1\n80 38.701576232910156 -1339.0732421875 1\n90 37.42328643798828 -1442.5106201171875 1\n100 41.65359115600586 -1387.8355712890625 1\nshowit =  -1491.0219798034784\n110 41.82170867919922 -1579.4315185546875 1\n120 41.01228332519531 -1543.7633056640625 1\n130 38.82516098022461 -1469.294677734375 1\n140 42.485328674316406 -1501.2596435546875 1\n150 40.216819763183594 -1523.367919921875 1\nshowit =  -1650.8421307938775\n160 39.04027557373047 -1519.58642578125 1\n170 5.488317012786865 -1052.0478515625 1\n180 5.25505256652832 -1558.3291015625 1\n190 9.042651176452637 -479.3251647949219 1\n200 8.76923942565918 -1574.0145263671875 1\nshowit =  -1648.4716166383137\n210 9.942784309387207 -1637.0380859375 1\n220 16.275617599487305 -1480.7337646484375 1\n230 14.83701229095459 -1546.5938720703125 1\n240 16.359121322631836 -934.6143188476562 1\n250 19.878515243530273 -1575.311767578125 1\nshowit =  -1647.5614236551678\n260 18.893186569213867 -1492.375244140625 1\n270 16.739784240722656 -1525.8494873046875 1\n280 20.28899574279785 -1546.7003173828125 1\n290 21.875911712646484 -1512.9241943359375 1\n300 22.378087997436523 -1546.001708984375 1\nshowit =  -1346.9130209922887\n310 23.305627822875977 -1536.8197021484375 1\n320 20.747217178344727 -1593.984130859375 1\n330 23.56639862060547 -1271.6790771484375 1\n340 25.773881912231445 -1488.242919921875 1\n350 25.664945602416992 -1545.207275390625 1\nshowit =  -1413.1046153372408\n360 24.16879653930664 -1619.2713623046875 1\n370 25.829771041870117 -1531.2210693359375 1\n380 29.39944076538086 -1281.510498046875 1\n390 28.03915023803711 -1518.21240234375 1\n400 27.272172927856445 -1619.7596435546875 1\nshowit =  -1648.8452263814124\n410 23.479066848754883 -1563.336181640625 1\n420 27.71355438232422 -1551.4144287109375 1\n430 26.229644775390625 -1277.7847900390625 1\n440 29.8201961517334 -1518.3953857421875 1\n450 29.290775299072266 -1618.635498046875 1\nshowit =  -1527.9587334864173\n460 30.56486701965332 -1559.3123779296875 1\n470 29.289691925048828 -1539.66650390625 1\n480 31.480615615844727 -944.4475708007812 1\n490 2.3922667503356934 -1070.4061279296875 1\n500 4.813120365142822 -1203.5584716796875 1\nshowit =  -1072.505568822455\n510 2.5497963428497314 -1450.0751953125 1\n520 3.369441270828247 -1202.302490234375 1\n530 6.175539970397949 -977.2518920898438 1\n540 6.028396129608154 -1159.05078125 1\n550 5.881781578063965 -1065.252685546875 1\nshowit =  -1072.4107844574464\n560 6.7440667152404785 -1144.6160888671875 1\n570 9.20022201538086 -1175.1522216796875 1\n580 9.353163719177246 -854.6851196289062 1\n590 9.192347526550293 -752.0342407226562 1\n600 8.927695274353027 -1804.78662109375 1\nshowit =  -1422.1284936424174\n610 13.533403396606445 -1091.3992919921875 1\n620 10.640765190124512 -909.5711059570312 1\n630 12.3054838180542 -1335.0941162109375 1\n640 12.205842018127441 -1190.7266845703125 1\n650 13.536943435668945 -1552.2000732421875 1\nshowit =  -1900.9130075408236\n660 1.5720096826553345 -1180.5975341796875 1\n670 0.9049034118652344 -1501.617919921875 1\n"
    },
    {
     "output_type": "error",
     "ename": "KeyboardInterrupt",
     "evalue": "",
     "traceback": [
      "\u001b[0;31m---------------------------------------------------------------------------\u001b[0m",
      "\u001b[0;31mKeyboardInterrupt\u001b[0m                         Traceback (most recent call last)",
      "\u001b[0;32m<ipython-input-5-97899a5db972>\u001b[0m in \u001b[0;36m<module>\u001b[0;34m\u001b[0m\n\u001b[1;32m     56\u001b[0m             \u001b[0mopt\u001b[0m\u001b[0;34m.\u001b[0m\u001b[0mzero_grad\u001b[0m\u001b[0;34m(\u001b[0m\u001b[0;34m)\u001b[0m\u001b[0;34m\u001b[0m\u001b[0;34m\u001b[0m\u001b[0m\n\u001b[1;32m     57\u001b[0m             \u001b[0mloss\u001b[0m\u001b[0;34m.\u001b[0m\u001b[0mbackward\u001b[0m\u001b[0;34m(\u001b[0m\u001b[0;34m)\u001b[0m\u001b[0;34m\u001b[0m\u001b[0;34m\u001b[0m\u001b[0m\n\u001b[0;32m---> 58\u001b[0;31m             \u001b[0mopt\u001b[0m\u001b[0;34m.\u001b[0m\u001b[0mstep\u001b[0m\u001b[0;34m(\u001b[0m\u001b[0;34m)\u001b[0m\u001b[0;34m\u001b[0m\u001b[0;34m\u001b[0m\u001b[0m\n\u001b[0m\u001b[1;32m     59\u001b[0m         \u001b[0;31m# polyak(dqn1, tdqn1, 1-1/100)\u001b[0m\u001b[0;34m\u001b[0m\u001b[0;34m\u001b[0m\u001b[0;34m\u001b[0m\u001b[0m\n\u001b[1;32m     60\u001b[0m         \u001b[0;31m# polyak(dqn2, tdqn2, 1-1/100)\u001b[0m\u001b[0;34m\u001b[0m\u001b[0;34m\u001b[0m\u001b[0;34m\u001b[0m\u001b[0m\n",
      "\u001b[0;32m~/.local/lib/python3.8/site-packages/torch/autograd/grad_mode.py\u001b[0m in \u001b[0;36mdecorate_context\u001b[0;34m(*args, **kwargs)\u001b[0m\n\u001b[1;32m     13\u001b[0m         \u001b[0;32mdef\u001b[0m \u001b[0mdecorate_context\u001b[0m\u001b[0;34m(\u001b[0m\u001b[0;34m*\u001b[0m\u001b[0margs\u001b[0m\u001b[0;34m,\u001b[0m \u001b[0;34m**\u001b[0m\u001b[0mkwargs\u001b[0m\u001b[0;34m)\u001b[0m\u001b[0;34m:\u001b[0m\u001b[0;34m\u001b[0m\u001b[0;34m\u001b[0m\u001b[0m\n\u001b[1;32m     14\u001b[0m             \u001b[0;32mwith\u001b[0m \u001b[0mself\u001b[0m\u001b[0;34m:\u001b[0m\u001b[0;34m\u001b[0m\u001b[0;34m\u001b[0m\u001b[0m\n\u001b[0;32m---> 15\u001b[0;31m                 \u001b[0;32mreturn\u001b[0m \u001b[0mfunc\u001b[0m\u001b[0;34m(\u001b[0m\u001b[0;34m*\u001b[0m\u001b[0margs\u001b[0m\u001b[0;34m,\u001b[0m \u001b[0;34m**\u001b[0m\u001b[0mkwargs\u001b[0m\u001b[0;34m)\u001b[0m\u001b[0;34m\u001b[0m\u001b[0;34m\u001b[0m\u001b[0m\n\u001b[0m\u001b[1;32m     16\u001b[0m         \u001b[0;32mreturn\u001b[0m \u001b[0mdecorate_context\u001b[0m\u001b[0;34m\u001b[0m\u001b[0;34m\u001b[0m\u001b[0m\n\u001b[1;32m     17\u001b[0m \u001b[0;34m\u001b[0m\u001b[0m\n",
      "\u001b[0;32m~/.local/lib/python3.8/site-packages/torch/optim/adam.py\u001b[0m in \u001b[0;36mstep\u001b[0;34m(self, closure)\u001b[0m\n\u001b[1;32m    105\u001b[0m                     \u001b[0mdenom\u001b[0m \u001b[0;34m=\u001b[0m \u001b[0;34m(\u001b[0m\u001b[0mmax_exp_avg_sq\u001b[0m\u001b[0;34m.\u001b[0m\u001b[0msqrt\u001b[0m\u001b[0;34m(\u001b[0m\u001b[0;34m)\u001b[0m \u001b[0;34m/\u001b[0m \u001b[0mmath\u001b[0m\u001b[0;34m.\u001b[0m\u001b[0msqrt\u001b[0m\u001b[0;34m(\u001b[0m\u001b[0mbias_correction2\u001b[0m\u001b[0;34m)\u001b[0m\u001b[0;34m)\u001b[0m\u001b[0;34m.\u001b[0m\u001b[0madd_\u001b[0m\u001b[0;34m(\u001b[0m\u001b[0mgroup\u001b[0m\u001b[0;34m[\u001b[0m\u001b[0;34m'eps'\u001b[0m\u001b[0;34m]\u001b[0m\u001b[0;34m)\u001b[0m\u001b[0;34m\u001b[0m\u001b[0;34m\u001b[0m\u001b[0m\n\u001b[1;32m    106\u001b[0m                 \u001b[0;32melse\u001b[0m\u001b[0;34m:\u001b[0m\u001b[0;34m\u001b[0m\u001b[0;34m\u001b[0m\u001b[0m\n\u001b[0;32m--> 107\u001b[0;31m                     \u001b[0mdenom\u001b[0m \u001b[0;34m=\u001b[0m \u001b[0;34m(\u001b[0m\u001b[0mexp_avg_sq\u001b[0m\u001b[0;34m.\u001b[0m\u001b[0msqrt\u001b[0m\u001b[0;34m(\u001b[0m\u001b[0;34m)\u001b[0m \u001b[0;34m/\u001b[0m \u001b[0mmath\u001b[0m\u001b[0;34m.\u001b[0m\u001b[0msqrt\u001b[0m\u001b[0;34m(\u001b[0m\u001b[0mbias_correction2\u001b[0m\u001b[0;34m)\u001b[0m\u001b[0;34m)\u001b[0m\u001b[0;34m.\u001b[0m\u001b[0madd_\u001b[0m\u001b[0;34m(\u001b[0m\u001b[0mgroup\u001b[0m\u001b[0;34m[\u001b[0m\u001b[0;34m'eps'\u001b[0m\u001b[0;34m]\u001b[0m\u001b[0;34m)\u001b[0m\u001b[0;34m\u001b[0m\u001b[0;34m\u001b[0m\u001b[0m\n\u001b[0m\u001b[1;32m    108\u001b[0m \u001b[0;34m\u001b[0m\u001b[0m\n\u001b[1;32m    109\u001b[0m                 \u001b[0mstep_size\u001b[0m \u001b[0;34m=\u001b[0m \u001b[0mgroup\u001b[0m\u001b[0;34m[\u001b[0m\u001b[0;34m'lr'\u001b[0m\u001b[0;34m]\u001b[0m \u001b[0;34m/\u001b[0m \u001b[0mbias_correction1\u001b[0m\u001b[0;34m\u001b[0m\u001b[0;34m\u001b[0m\u001b[0m\n",
      "\u001b[0;31mKeyboardInterrupt\u001b[0m: "
     ]
    }
   ],
   "source": [
    "# wll.new()\n",
    "writer = wll.writer\n",
    "bsize = 256\n",
    "warmup = 100\n",
    "gamma = 0.99\n",
    "loss = torch.tensor([1])\n",
    "\n",
    "collector = lambda obs: dqn1.act(obs, epsilon=0.15)\n",
    "d2c_collector = Discrete2Continuous(-2, 2, adim, collector).act\n",
    "shower    = lambda obs: dqn1.act(obs, epsilon=0)\n",
    "d2c_shower = Discrete2Continuous(-2, 2, adim, shower).act\n",
    "random_policy = RandomPolicy(env).act\n",
    "random_policy    = lambda obs: dqn1.act(obs, epsilon=1)\n",
    "d2c_random_policy = Discrete2Continuous(-2, 2, adim, random_policy).act\n",
    "\n",
    "for ep in range(670, 10000):\n",
    "    obs = env.reset()\n",
    "    if ep%1==0:\n",
    "        pi = d2c_collector if len(rbuff)>bsize*5 else d2c_random_policy\n",
    "        l1 = envs.rollout(pi)\n",
    "\n",
    "        oldobs, _, r, obs, d, _, _, _, a = envs.rollout(pi)\n",
    "        rbuff.add(oldobs, a, r, obs, d)\n",
    "        writer.add_scalar('dqn/reward', r.sum(), ep)\n",
    "\n",
    "\n",
    "    if bsize*10 > len(rbuff):\n",
    "        print(len(rbuff), end='\\r')\n",
    "        continue\n",
    "\n",
    "    if ep%10==0:\n",
    "        print(ep, loss.item(), r.sum().item(), wll.z)\n",
    "    if ep%50==0:\n",
    "        print(\"showit = \", showit(env, d2c_shower))\n",
    "\n",
    "    for i in range(15):\n",
    "        oldobs, a, r, obs, done = rbuff.get(bsize)\n",
    "        for opt_step in range(4):\n",
    "            # target1 = tdqn1.get_max(obs) * (1-done)\n",
    "            # target2 = tdqn2.get_max(obs) * (1-done)\n",
    "            # target = torch.min(target1, target2)*gamma*(1-done) + r  \n",
    "            import random\n",
    "            if random.uniform(0, 1) > 0:\n",
    "                max_action = dqn1.get_action(obs)\n",
    "                target = dqn1.get_q(obs, max_action)\n",
    "            else:\n",
    "                max_action = dqn1.get_action(obs)\n",
    "                target = dqn2.get_q(obs, max_action)\n",
    "\n",
    "            target = target*gamma*(1-done) + r            \n",
    "            calc1 = dqn1.get_q(oldobs, a)\n",
    "            calc2 = dqn2.get_q(oldobs, a)\n",
    "            l2 = ((target - calc2)**2).mean()\n",
    "            l1 = ((target - calc1)**2).mean()\n",
    "            loss = l1 + l2\n",
    "            opt.zero_grad()\n",
    "            loss.backward()\n",
    "            opt.step()\n",
    "        # polyak(dqn1, tdqn1, 1-1/100)\n",
    "        # polyak(dqn2, tdqn2, 1-1/100)\n",
    "\n",
    "    writer.add_scalar('dqn/model', loss.item(), ep)\n",
    "    writer.add_scalar('dqn/model1', l1.item(), ep)\n",
    "    writer.add_scalar('dqn/model2', l2.item(), ep)\n",
    "    \n",
    "\n"
   ]
  },
  {
   "cell_type": "code",
   "execution_count": null,
   "metadata": {},
   "outputs": [],
   "source": [
    "class RunningNormalizer():\n",
    "    def __init__(self, alpha=0.97):\n",
    "        self.m = None\n",
    "        self.std = None\n",
    "    def step(self, tensor):\n",
    "        m = tensor.mean()\n",
    "        std = tensor.std()\n",
    "        if self.m is None:\n",
    "            self.m = m\n",
    "            self.std = std\n",
    "        else:\n",
    "            self.m = self.m*self.alpha + m*(1-self.alpha)\n",
    "            self.std = self.std*self.alpha + std*(1-self.alpha)\n",
    "        return (tensor-self.m)/self.std"
   ]
  }
 ],
 "metadata": {
  "kernelspec": {
   "display_name": "Python 3",
   "language": "python",
   "name": "python3"
  },
  "language_info": {
   "codemirror_mode": {
    "name": "ipython",
    "version": 3
   },
   "file_extension": ".py",
   "mimetype": "text/x-python",
   "name": "python",
   "nbconvert_exporter": "python",
   "pygments_lexer": "ipython3",
   "version": "3.8.2-final"
  }
 },
 "nbformat": 4,
 "nbformat_minor": 4
}