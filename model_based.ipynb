{
 "cells": [
  {
   "cell_type": "code",
   "execution_count": 1,
   "metadata": {},
   "outputs": [],
   "source": [
    "import gym\n",
    "import torch\n",
    "from myrl.buffers import ReplayBuffer\n",
    "from myrl.visualizer import showit\n",
    "from myrl.environments import Envs\n",
    "from myrl.policies import RandomPolicy\n",
    "from myrl.model_based import ModelResidual\n",
    "\n",
    "import numpy as np\n",
    "import torch.nn as nn\n",
    "import torch.nn.functional as F\n",
    "from myrl.utils import get_batch_a, get_batch_obs\n",
    "\n",
    "envname = 'BipedalWalker-v3'\n",
    "# envname = 'LunarLanderContinuous-v2'\n",
    "envname = 'Pendulum-v0'\n",
    "env = gym.make(envname)\n",
    "envs = Envs(envname, 1)"
   ]
  },
  {
   "cell_type": "code",
   "execution_count": 9,
   "metadata": {},
   "outputs": [],
   "source": [
    "rbuff = ReplayBuffer(1000000)"
   ]
  },
  {
   "cell_type": "code",
   "execution_count": 17,
   "metadata": {
    "tags": []
   },
   "outputs": [
    {
     "output_type": "execute_result",
     "data": {
      "text/plain": [
       "(1, 3)"
      ]
     },
     "metadata": {},
     "execution_count": 17
    }
   ],
   "source": [
    "rdim = 1\n",
    "adim = env.action_space.shape[0]\n",
    "sdim = env.observation_space.shape[0]\n",
    "idim = adim + sdim\n",
    "odim = rdim + sdim\n",
    "model = ModelResidual([idim, 128, 64, sdim], env)\n",
    "random_policy = RandomPolicy(env).act\n",
    "obstest = get_batch_obs(env, 1)\n",
    "adim, sdim"
   ]
  },
  {
   "cell_type": "code",
   "execution_count": 16,
   "metadata": {},
   "outputs": [],
   "source": [
    "opt = torch.optim.Adam(model.parameters(), lr=5e-2)"
   ]
  },
  {
   "cell_type": "code",
   "execution_count": 14,
   "metadata": {
    "tags": []
   },
   "outputs": [
    {
     "output_type": "stream",
     "name": "stdout",
     "text": [
      "ModelResidual(\n",
      "  (layers): ModuleList(\n",
      "    (0): Linear(in_features=4, out_features=128, bias=True)\n",
      "    (1): Linear(in_features=128, out_features=64, bias=True)\n",
      "    (2): Linear(in_features=64, out_features=3, bias=True)\n",
      "    (3): Linear(in_features=64, out_features=1, bias=True)\n",
      "  )\n",
      ")\n",
      "0 1.89307701587677 0.17209790647029877 8.687705121701583e-05\n",
      "10 1.348448395729065 0.1225862205028534 8.688236266607419e-05\n",
      "20 1.2887029647827148 0.1171548068523407 5.5397063988493755e-05\n",
      "30 1.9946781396865845 0.18133437633514404 0.0001424619840690866\n",
      "40 1.6623473167419434 0.15112249553203583 7.165518763940781e-05\n",
      "50 1.9079346656799316 0.1734486073255539 0.0001156237194663845\n",
      "60 1.5558867454528809 0.14144425094127655 0.00012447040353436023\n",
      "70 1.7602776288986206 0.1600252389907837 7.561735401395708e-05\n",
      "80 1.3217402696609497 0.12015821784734726 9.938963921740651e-05\n",
      "90 1.4263582229614258 0.1296689361333847 0.0003364376025274396\n",
      "100 1.1327593326568604 0.10297811776399612 6.915862468304113e-05\n",
      "110 1.4264150857925415 0.12967410683631897 8.990196511149406e-05\n",
      "120 1.2692431211471558 0.11538573354482651 8.617650019004941e-05\n",
      "130 1.212443470954895 0.11022213846445084 0.0007820086902938783\n",
      "140 1.15670907497406 0.10515537858009338 0.0001277136616408825\n",
      "150 0.7885699272155762 0.07168817520141602 7.72876592236571e-05\n",
      "160 0.743894636631012 0.06762678921222687 0.00018459356215316802\n",
      "170 0.9211673140525818 0.08374248445034027 0.0006223345990292728\n",
      "180 1.1728378534317017 0.1066216230392456 0.00019374814291950315\n",
      "190 0.904332160949707 0.08221200853586197 0.00014251355605665594\n",
      "200 0.9991101026535034 0.09082818776369095 3.888238643412478e-05\n",
      "210 0.9818986058235168 0.08926351368427277 7.193694909801707e-05\n"
     ]
    },
    {
     "output_type": "error",
     "ename": "KeyboardInterrupt",
     "evalue": "",
     "traceback": [
      "\u001b[0;31m---------------------------------------------------------------------------\u001b[0m",
      "\u001b[0;31mKeyboardInterrupt\u001b[0m                         Traceback (most recent call last)",
      "\u001b[0;32m<ipython-input-14-416afbb76b15>\u001b[0m in \u001b[0;36m<module>\u001b[0;34m\u001b[0m\n\u001b[1;32m     23\u001b[0m         \u001b[0mloss\u001b[0m \u001b[0;34m=\u001b[0m \u001b[0mrloss\u001b[0m \u001b[0;34m+\u001b[0m \u001b[0;36m10\u001b[0m\u001b[0;34m*\u001b[0m\u001b[0mtorch\u001b[0m\u001b[0;34m.\u001b[0m\u001b[0mabs\u001b[0m\u001b[0;34m(\u001b[0m\u001b[0mrloss\u001b[0m\u001b[0;34m/\u001b[0m\u001b[0moloss\u001b[0m\u001b[0;34m)\u001b[0m\u001b[0;34m.\u001b[0m\u001b[0mdetach\u001b[0m\u001b[0;34m(\u001b[0m\u001b[0;34m)\u001b[0m\u001b[0;34m*\u001b[0m\u001b[0moloss\u001b[0m\u001b[0;34m\u001b[0m\u001b[0;34m\u001b[0m\u001b[0m\n\u001b[1;32m     24\u001b[0m         \u001b[0mopt\u001b[0m\u001b[0;34m.\u001b[0m\u001b[0mzero_grad\u001b[0m\u001b[0;34m(\u001b[0m\u001b[0;34m)\u001b[0m\u001b[0;34m\u001b[0m\u001b[0;34m\u001b[0m\u001b[0m\n\u001b[0;32m---> 25\u001b[0;31m         \u001b[0mloss\u001b[0m\u001b[0;34m.\u001b[0m\u001b[0mbackward\u001b[0m\u001b[0;34m(\u001b[0m\u001b[0;34m)\u001b[0m\u001b[0;34m\u001b[0m\u001b[0;34m\u001b[0m\u001b[0m\n\u001b[0m\u001b[1;32m     26\u001b[0m         \u001b[0mopt\u001b[0m\u001b[0;34m.\u001b[0m\u001b[0mstep\u001b[0m\u001b[0;34m(\u001b[0m\u001b[0;34m)\u001b[0m\u001b[0;34m\u001b[0m\u001b[0;34m\u001b[0m\u001b[0m\n\u001b[1;32m     27\u001b[0m     \u001b[0;31m# writer.add_scalar('loss/model', loss.item(), ep)\u001b[0m\u001b[0;34m\u001b[0m\u001b[0;34m\u001b[0m\u001b[0;34m\u001b[0m\u001b[0m\n",
      "\u001b[0;32m~/.local/lib/python3.8/site-packages/torch/tensor.py\u001b[0m in \u001b[0;36mbackward\u001b[0;34m(self, gradient, retain_graph, create_graph)\u001b[0m\n\u001b[1;32m    183\u001b[0m                 \u001b[0mproducts\u001b[0m\u001b[0;34m.\u001b[0m \u001b[0mDefaults\u001b[0m \u001b[0mto\u001b[0m\u001b[0;31m \u001b[0m\u001b[0;31m`\u001b[0m\u001b[0;31m`\u001b[0m\u001b[0;32mFalse\u001b[0m\u001b[0;31m`\u001b[0m\u001b[0;31m`\u001b[0m\u001b[0;34m.\u001b[0m\u001b[0;34m\u001b[0m\u001b[0;34m\u001b[0m\u001b[0m\n\u001b[1;32m    184\u001b[0m         \"\"\"\n\u001b[0;32m--> 185\u001b[0;31m         \u001b[0mtorch\u001b[0m\u001b[0;34m.\u001b[0m\u001b[0mautograd\u001b[0m\u001b[0;34m.\u001b[0m\u001b[0mbackward\u001b[0m\u001b[0;34m(\u001b[0m\u001b[0mself\u001b[0m\u001b[0;34m,\u001b[0m \u001b[0mgradient\u001b[0m\u001b[0;34m,\u001b[0m \u001b[0mretain_graph\u001b[0m\u001b[0;34m,\u001b[0m \u001b[0mcreate_graph\u001b[0m\u001b[0;34m)\u001b[0m\u001b[0;34m\u001b[0m\u001b[0;34m\u001b[0m\u001b[0m\n\u001b[0m\u001b[1;32m    186\u001b[0m \u001b[0;34m\u001b[0m\u001b[0m\n\u001b[1;32m    187\u001b[0m     \u001b[0;32mdef\u001b[0m \u001b[0mregister_hook\u001b[0m\u001b[0;34m(\u001b[0m\u001b[0mself\u001b[0m\u001b[0;34m,\u001b[0m \u001b[0mhook\u001b[0m\u001b[0;34m)\u001b[0m\u001b[0;34m:\u001b[0m\u001b[0;34m\u001b[0m\u001b[0;34m\u001b[0m\u001b[0m\n",
      "\u001b[0;32m~/.local/lib/python3.8/site-packages/torch/autograd/__init__.py\u001b[0m in \u001b[0;36mbackward\u001b[0;34m(tensors, grad_tensors, retain_graph, create_graph, grad_variables)\u001b[0m\n\u001b[1;32m    123\u001b[0m         \u001b[0mretain_graph\u001b[0m \u001b[0;34m=\u001b[0m \u001b[0mcreate_graph\u001b[0m\u001b[0;34m\u001b[0m\u001b[0;34m\u001b[0m\u001b[0m\n\u001b[1;32m    124\u001b[0m \u001b[0;34m\u001b[0m\u001b[0m\n\u001b[0;32m--> 125\u001b[0;31m     Variable._execution_engine.run_backward(\n\u001b[0m\u001b[1;32m    126\u001b[0m         \u001b[0mtensors\u001b[0m\u001b[0;34m,\u001b[0m \u001b[0mgrad_tensors\u001b[0m\u001b[0;34m,\u001b[0m \u001b[0mretain_graph\u001b[0m\u001b[0;34m,\u001b[0m \u001b[0mcreate_graph\u001b[0m\u001b[0;34m,\u001b[0m\u001b[0;34m\u001b[0m\u001b[0;34m\u001b[0m\u001b[0m\n\u001b[1;32m    127\u001b[0m         allow_unreachable=True)  # allow_unreachable flag\n",
      "\u001b[0;31mKeyboardInterrupt\u001b[0m: "
     ]
    }
   ],
   "source": [
    "# exname = 'model_'\n",
    "# os.system('mkdir tb/' + exname)\n",
    "# writer = SummaryWriter('tb/'+exname)\n",
    "\n",
    "bsize = 128\n",
    "loss = 0; rloss=0; oloss=0;\n",
    "for ep in range(10000):\n",
    "    obs = env.reset()\n",
    "    if ep%1==0:\n",
    "        for step in range(1):\n",
    "            oldobs, a, r, obs, d, _, _, _ = envs.rollout(random_policy)\n",
    "            repbuff.add(oldobs, a, r, obs, d)\n",
    "    if bsize*3 > len(repbuff):\n",
    "        print(len(rbuff), end='\\r')\n",
    "        continue\n",
    "    oldobs, a, r, obs, d = repbuff.get(bsize)\n",
    "\n",
    "    for opt_step in range(3):\n",
    "        pr, pobs = model(oldobs, a)\n",
    "        rloss = ((pr-r)**2).mean()\n",
    "        oloss = ((pobs-obs)**2).mean()\n",
    "        loss = rloss + 10*torch.abs(rloss/oloss).detach()*oloss\n",
    "        opt.zero_grad()\n",
    "        loss.backward()\n",
    "        opt.step()\n",
    "    # writer.add_scalar('loss/model', loss.item(), ep)\n",
    "    # writer.add_scalar('loss/reward', rloss.item(), ep)\n",
    "    # writer.add_scalar('loss/states', oloss.item(), ep)\n",
    "    \n",
    "    if ep%10==0:\n",
    "        print(ep, loss.item(),rloss.item(), oloss.item())"
   ]
  },
  {
   "cell_type": "code",
   "execution_count": 15,
   "metadata": {
    "tags": []
   },
   "outputs": [
    {
     "output_type": "stream",
     "name": "stdout",
     "text": []
    },
    {
     "output_type": "execute_result",
     "data": {
      "text/plain": [
       "-411.02996878073657"
      ]
     },
     "metadata": {},
     "execution_count": 15
    }
   ],
   "source": [
    "entacter = lambda obs: (model.cross_entropy(torch.tensor(obs).float(), 3, 60, 25, pmax=0.15), -1)\n",
    "gradactor= lambda obs: (model.gradient_optimize(obs, 20, [-2, 2], grad_step=1), -1)\n",
    "showit(env, gradactor, max_steps=200, time_delta=0)"
   ]
  }
 ],
 "metadata": {
  "kernelspec": {
   "display_name": "Python 3",
   "language": "python",
   "name": "python3"
  },
  "language_info": {
   "codemirror_mode": {
    "name": "ipython",
    "version": 3
   },
   "file_extension": ".py",
   "mimetype": "text/x-python",
   "name": "python",
   "nbconvert_exporter": "python",
   "pygments_lexer": "ipython3",
   "version": "3.8.5-final"
  }
 },
 "nbformat": 4,
 "nbformat_minor": 4
}