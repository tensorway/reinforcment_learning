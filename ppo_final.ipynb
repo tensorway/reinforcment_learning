{
 "metadata": {
  "language_info": {
   "codemirror_mode": {
    "name": "ipython",
    "version": 3
   },
   "file_extension": ".py",
   "mimetype": "text/x-python",
   "name": "python",
   "nbconvert_exporter": "python",
   "pygments_lexer": "ipython3",
   "version": "3.8.5-final"
  },
  "orig_nbformat": 2,
  "kernelspec": {
   "name": "python38564bitd95df06ad6614d8ea31ce2c635a29972",
   "display_name": "Python 3.8.5 64-bit"
  }
 },
 "nbformat": 4,
 "nbformat_minor": 2,
 "cells": [
  {
   "cell_type": "code",
   "execution_count": 1,
   "metadata": {
    "tags": []
   },
   "outputs": [
    {
     "output_type": "stream",
     "name": "stdout",
     "text": []
    },
    {
     "output_type": "execute_result",
     "data": {
      "text/plain": [
       "(3, 1)"
      ]
     },
     "metadata": {},
     "execution_count": 1
    }
   ],
   "source": [
    "import gym\n",
    "from myrl.environments import Envs\n",
    "from myrl.policies import GaussianPolicy\n",
    "from myrl.value_functions import ValueFunctionMLP, polyak\n",
    "from myrl.visualizer import showit\n",
    "from myrl.utils import ExperimentWriter, check_output, global_gradient_clip, list_gae, gae, add_list2list\n",
    "from myrl.buffers import ReplayBuffer\n",
    "from myrl.exploration import RandomNetworkBonus\n",
    "import torch\n",
    "import copy\n",
    "import numpy as np\n",
    "\n",
    "# envname = 'LunarLanderContinuous-v2'\n",
    "envname = 'Pendulum-v0'\n",
    "\n",
    "wll = ExperimentWriter('tb/ppo_pen_works')\n",
    "env = gym.make(envname)\n",
    "idim = env.observation_space.shape[0]\n",
    "odim = env.action_space.shape[0]\n",
    "envs = Envs(envname, 128)\n",
    "envs.evenout(200)\n",
    "idim, odim\n"
   ]
  },
  {
   "cell_type": "code",
   "execution_count": 10,
   "metadata": {},
   "outputs": [],
   "source": [
    "def objective_function(trial):\n",
    "    env = gym.make(envname)\n",
    "    envs = Envs(envname, 128)\n",
    "    envs.evenout(200)\n",
    "    seed = trial.suggest_int(\"seed\", 0, 5)\n",
    "    np.random.seed(seed)\n",
    "    envs.seed(seed)\n",
    "    torch.manual_seed(seed)\n",
    "    eps = 50\n",
    "    lr_policy = trial.suggest_loguniform(\"lr_policy\", 1e-4, 5e-4)\n",
    "    lr_vfunc  = trial.suggest_loguniform(\"lr_vfunc\", 1e-4, 1e2)\n",
    "    w1_pi     = trial.suggest_int(\"width_layer1_policy\", 8, 128)\n",
    "    #w2_pi     = trial.suggest_int(\"width_layer2_policy\", 1, 64)\n",
    "    w1_vfunc  = trial.suggest_int(\"width_layer1_vfunc\", 4, 128)\n",
    "    w2_vfunc  = trial.suggest_int(\"width_layer2_vfunc\", 4, 128)\n",
    "    std_start = trial.suggest_uniform(\"std_start\", 0.7, 1.5)\n",
    "    std_min   = trial.suggest_uniform(\"std_min\", 0.15, 0.6)\n",
    "    gamma     = trial.suggest_loguniform(\"gamma\", 0.90, 1e0)\n",
    "    lmbda     = trial.suggest_loguniform(\"lambda\", 0.01, 1e0)\n",
    "    polyak_alpha = trial.suggest_loguniform(\"polyak_alpha\", 0.97, 1e0)\n",
    "\n",
    "    pi = GaussianPolicy([idim, w1_pi, odim], std_start=std_start, std_min=std_min, clip_range=[-2, 2])\n",
    "    vfunc = ValueFunctionMLP([idim, w1_vfunc, w2_vfunc, 1])\n",
    "    tvfunc = copy.deepcopy(vfunc)\n",
    "    opt = torch.optim.Adam(pi.parameters(), lr=lr_policy)\n",
    "    copt = torch.optim.Adam(vfunc.parameters(), lr=lr_vfunc)\n",
    "\n",
    "    return train(eps, pi, vfunc, tvfunc, opt, copt, gamma, lmbda, polyak_alpha, 'ppo_pendulum_')\n"
   ]
  },
  {
   "cell_type": "code",
   "execution_count": 9,
   "metadata": {},
   "outputs": [],
   "source": [
    "def train(eps, pi, vfunc, tvfunc, opt, copt, gamma, lmbda, polyak_alpha, study_name, debug=False):\n",
    "    rew_set = False\n",
    "    rew_ma = None\n",
    "    alpha = 1-1/15\n",
    "    if debug:\n",
    "        wll.new()\n",
    "        writer = wll.writer\n",
    "    for ep in range(0, eps):\n",
    "        l = envs.list_rollout(pi.act, gamma=gamma, length=10)\n",
    "        rss = l[0][2].mean().item()\n",
    "        adv = list_gae(l, tvfunc, gamma, lmbda=lmbda)\n",
    "        add_list2list(adv, l)\n",
    "        rbuff = ReplayBuffer(nitems=10, max_len=100000)\n",
    "        rbuff.list_add(l)\n",
    "\n",
    "        for imini_batch in range(18):\n",
    "            oldobs, a, r, obs, d, oldprobs, smpls, muold, stdold, gae = rbuff.get(len(rbuff)//6)\n",
    "            adv = gae.detach() - vfunc(oldobs)\n",
    "            adv = ((adv-adv.mean())/(adv.std()+1e-8)).detach()\n",
    "            for optstep in range(2):\n",
    "                _, (newprobs, _, mu, std) = pi.act(oldobs, smpl=smpls)\n",
    "                p = torch.distributions.Normal(muold, stdold)\n",
    "                q = torch.distributions.Normal(mu, std)\n",
    "                kldiv = torch.distributions.kl_divergence(p, q)\n",
    "                if kldiv.mean().item() > 0.03:\n",
    "                    print(\"stopppp\", kldiv.mean().item(), optstep)\n",
    "                    break\n",
    "                ratio = torch.exp(newprobs-oldprobs)\n",
    "                e = 0.15\n",
    "                clipped = (ratio != torch.clamp(ratio, 1-e, 1+e)).float().mean().detach().item()\n",
    "                loss = -torch.min(ratio*adv, torch.clamp(ratio, 1-e, 1+e)*adv).mean()\n",
    "                opt.zero_grad()\n",
    "                loss.backward()\n",
    "                # global_gradient_clip(pi)\n",
    "                opt.step()\n",
    "            \n",
    "            for optstep in range(2):                    \n",
    "                td = ((gae.detach() - vfunc(oldobs))**2).mean()\n",
    "                copt.zero_grad()\n",
    "                td.backward()\n",
    "                # global_gradient_clip(vfunc)\n",
    "                copt.step()\n",
    "\n",
    "\n",
    "        polyak(vfunc, tvfunc, polyak_alpha)\n",
    "        if rew_set:\n",
    "            rew_ma = alpha*rew_ma+(1-alpha)*r.mean().item()\n",
    "        else:\n",
    "            rew_ma = r.mean().item()\n",
    "            rew_set = True\n",
    "        print(ep, end='\\r')\n",
    "\n",
    "        if debug:\n",
    "            if ep%1==0:\n",
    "                print(ep, loss.item(), \"r\", rss, \" td\", td.item(), \"clip\", clipped, \"___\", pi.last_std.mean().item())\n",
    "            if ep%20==0:\n",
    "                print(\"showit=\",showit(env, pi.act, max_steps=650))\n",
    "                env.close()\n",
    "            writer.add_scalar(\"a/clipped\", clipped, ep)\n",
    "            writer.add_scalar(\"a/clipped\", clipped, ep)\n",
    "            writer.add_scalar(\"a/loss\", loss.item(), ep)\n",
    "            writer.add_scalar(\"a/td\", td.item(), ep)\n",
    "            writer.add_scalar(\"a/reward\", r.mean(), ep)\n",
    "            writer.add_scalar(\"a/clipped\", clipped, ep)\n",
    "    rfinal = oldobs, a, r, obs, d, oldprobs, smpls, muold, stdold, gae = rbuff.get(len(rbuff)-1)\n",
    "    with open('optuna/'+study_name+'.pckl', 'wb') as f:\n",
    "        pickle.dump(study, f)\n",
    "    if debug:\n",
    "        return rew_ma, pi, vfunc\n",
    "    return -rew_ma\n"
   ]
  },
  {
   "cell_type": "code",
   "execution_count": 12,
   "metadata": {
    "tags": [
     "outputPrepend"
    ]
   },
   "outputs": [
    {
     "output_type": "stream",
     "name": "stdout",
     "text": [
      "0.017025327625858438, 'polyak_alpha': 0.9873055825706365}. Best is trial 66 with value: 5.33431339263916.\u001b[0m\n",
      "\u001b[32m[I 2020-10-24 13:59:01,026]\u001b[0m Trial 174 finished with value: 6.937841188192962 and parameters: {'seed': 1, 'lr_policy': 0.0001361565999469788, 'lr_vfunc': 23.403027932180144, 'width_layer1_policy': 90, 'width_layer1_vfunc': 122, 'width_layer2_vfunc': 95, 'std_start': 0.9680687111607704, 'std_min': 0.47841446554868183, 'gamma': 0.9686299563665551, 'lambda': 0.030112676497760258, 'polyak_alpha': 0.9820420856300301}. Best is trial 66 with value: 5.33431339263916.\u001b[0m\n",
      "\u001b[32m[I 2020-10-24 14:00:18,103]\u001b[0m Trial 175 finished with value: 5.927765783728624 and parameters: {'seed': 1, 'lr_policy': 0.00020479098357992817, 'lr_vfunc': 4.813878808064894, 'width_layer1_policy': 71, 'width_layer1_vfunc': 32, 'width_layer2_vfunc': 117, 'std_start': 0.8482650237675269, 'std_min': 0.5718168826406769, 'gamma': 0.9669846527816939, 'lambda': 0.022704265650466973, 'polyak_alpha': 0.9893457546168543}. Best is trial 66 with value: 5.33431339263916.\u001b[0m\n",
      "\u001b[32m[I 2020-10-24 14:01:43,357]\u001b[0m Trial 176 finished with value: 5.944620821163356 and parameters: {'seed': 1, 'lr_policy': 0.00019359041514845925, 'lr_vfunc': 9.691435603717869, 'width_layer1_policy': 84, 'width_layer1_vfunc': 22, 'width_layer2_vfunc': 109, 'std_start': 0.8339363692373466, 'std_min': 0.5798157434828467, 'gamma': 0.9393995783745575, 'lambda': 0.013823915904901986, 'polyak_alpha': 0.9892389889428219}. Best is trial 66 with value: 5.33431339263916.\u001b[0m\n",
      "\u001b[32m[I 2020-10-24 14:02:53,319]\u001b[0m Trial 177 finished with value: 6.100235688192889 and parameters: {'seed': 1, 'lr_policy': 0.00020299249218337867, 'lr_vfunc': 4.385099483539329, 'width_layer1_policy': 87, 'width_layer1_vfunc': 30, 'width_layer2_vfunc': 114, 'std_start': 0.8442379152018733, 'std_min': 0.5968392971536177, 'gamma': 0.9399708518072716, 'lambda': 0.05557068412930038, 'polyak_alpha': 0.9902068630884471}. Best is trial 66 with value: 5.33431339263916.\u001b[0m\n",
      "\u001b[32m[I 2020-10-24 14:04:03,267]\u001b[0m Trial 178 finished with value: 6.024089213365611 and parameters: {'seed': 2, 'lr_policy': 0.00021218338326564127, 'lr_vfunc': 95.26780407862684, 'width_layer1_policy': 84, 'width_layer1_vfunc': 20, 'width_layer2_vfunc': 110, 'std_start': 0.7334565282685619, 'std_min': 0.5625892543602313, 'gamma': 0.9926908325691042, 'lambda': 0.019361411055383467, 'polyak_alpha': 0.9899164141645622}. Best is trial 66 with value: 5.33431339263916.\u001b[0m\n",
      "\u001b[32m[I 2020-10-24 14:05:13,124]\u001b[0m Trial 179 finished with value: 6.877782915939737 and parameters: {'seed': 3, 'lr_policy': 0.00018677510579234158, 'lr_vfunc': 10.271527130220653, 'width_layer1_policy': 95, 'width_layer1_vfunc': 15, 'width_layer2_vfunc': 107, 'std_start': 0.7679888935524424, 'std_min': 0.5571160770675385, 'gamma': 0.9232515418025987, 'lambda': 0.03423739220995569, 'polyak_alpha': 0.9700123098344596}. Best is trial 66 with value: 5.33431339263916.\u001b[0m\n",
      "\u001b[32m[I 2020-10-24 14:06:23,137]\u001b[0m Trial 180 finished with value: 6.564328011245605 and parameters: {'seed': 1, 'lr_policy': 0.0002546350607831124, 'lr_vfunc': 3.069200854144682, 'width_layer1_policy': 70, 'width_layer1_vfunc': 29, 'width_layer2_vfunc': 119, 'std_start': 0.8178372113544834, 'std_min': 0.5251898718740048, 'gamma': 0.9435063594620064, 'lambda': 0.011317910774396131, 'polyak_alpha': 0.9885468298529444}. Best is trial 66 with value: 5.33431339263916.\u001b[0m\n",
      "\u001b[32m[I 2020-10-24 14:07:33,239]\u001b[0m Trial 181 finished with value: 8.223636960510314 and parameters: {'seed': 1, 'lr_policy': 0.00017391929022025148, 'lr_vfunc': 0.11536345948004774, 'width_layer1_policy': 80, 'width_layer1_vfunc': 25, 'width_layer2_vfunc': 98, 'std_start': 0.7817089686515764, 'std_min': 0.15024255589571572, 'gamma': 0.9267460658700686, 'lambda': 0.02208783467768634, 'polyak_alpha': 0.9924048664024625}. Best is trial 66 with value: 5.33431339263916.\u001b[0m\n",
      "\u001b[32m[I 2020-10-24 14:08:43,414]\u001b[0m Trial 182 finished with value: 6.062549566130905 and parameters: {'seed': 2, 'lr_policy': 0.00019607808485849412, 'lr_vfunc': 8.973966129281909, 'width_layer1_policy': 84, 'width_layer1_vfunc': 48, 'width_layer2_vfunc': 114, 'std_start': 0.7001688353437346, 'std_min': 0.5842222989773912, 'gamma': 0.9755158333592566, 'lambda': 0.014666175504766378, 'polyak_alpha': 0.9938670777063914}. Best is trial 66 with value: 5.33431339263916.\u001b[0m\n",
      "\u001b[32m[I 2020-10-24 14:09:53,323]\u001b[0m Trial 183 finished with value: 6.914898154880933 and parameters: {'seed': 0, 'lr_policy': 0.00022026025635608128, 'lr_vfunc': 13.220100341020343, 'width_layer1_policy': 66, 'width_layer1_vfunc': 33, 'width_layer2_vfunc': 92, 'std_start': 0.9195470123659707, 'std_min': 0.32090951014616875, 'gamma': 0.9654927594254171, 'lambda': 0.013761793010689081, 'polyak_alpha': 0.9886212000797866}. Best is trial 66 with value: 5.33431339263916.\u001b[0m\n",
      "\u001b[32m[I 2020-10-24 14:11:03,029]\u001b[0m Trial 184 finished with value: 6.030376679452112 and parameters: {'seed': 1, 'lr_policy': 0.00016775161577308194, 'lr_vfunc': 0.289095639138182, 'width_layer1_policy': 50, 'width_layer1_vfunc': 8, 'width_layer2_vfunc': 87, 'std_start': 0.8574738601629632, 'std_min': 0.2138195192229614, 'gamma': 0.9806097072998607, 'lambda': 0.012922501333336922, 'polyak_alpha': 0.987921884680182}. Best is trial 66 with value: 5.33431339263916.\u001b[0m\n",
      "\u001b[32m[I 2020-10-24 14:12:13,037]\u001b[0m Trial 185 finished with value: 6.690366590348596 and parameters: {'seed': 0, 'lr_policy': 0.00019665410895901625, 'lr_vfunc': 7.216828708906824, 'width_layer1_policy': 72, 'width_layer1_vfunc': 41, 'width_layer2_vfunc': 104, 'std_start': 0.9170402199290512, 'std_min': 0.5931514345324426, 'gamma': 0.9710019797523869, 'lambda': 0.01704854307458921, 'polyak_alpha': 0.98975055229004}. Best is trial 66 with value: 5.33431339263916.\u001b[0m\n",
      "\u001b[32m[I 2020-10-24 14:13:23,040]\u001b[0m Trial 186 finished with value: 5.869950267086923 and parameters: {'seed': 1, 'lr_policy': 0.0004949951358524002, 'lr_vfunc': 19.64250165527734, 'width_layer1_policy': 76, 'width_layer1_vfunc': 16, 'width_layer2_vfunc': 112, 'std_start': 0.7939255487142698, 'std_min': 0.5427577669967737, 'gamma': 0.9657740514717716, 'lambda': 0.019518454291508735, 'polyak_alpha': 0.9914369658166344}. Best is trial 66 with value: 5.33431339263916.\u001b[0m\n",
      "\u001b[32m[I 2020-10-24 14:14:33,068]\u001b[0m Trial 187 finished with value: 6.016972824112838 and parameters: {'seed': 2, 'lr_policy': 0.00048400572211431726, 'lr_vfunc': 22.515591124732747, 'width_layer1_policy': 77, 'width_layer1_vfunc': 18, 'width_layer2_vfunc': 116, 'std_start': 0.7961466556980588, 'std_min': 0.5384672723191422, 'gamma': 0.9631158886298817, 'lambda': 0.01931995637021333, 'polyak_alpha': 0.992265210507823}. Best is trial 66 with value: 5.33431339263916.\u001b[0m\n",
      "\u001b[32m[I 2020-10-24 14:15:43,278]\u001b[0m Trial 188 finished with value: 6.211710771059124 and parameters: {'seed': 1, 'lr_policy': 0.00023806106134071378, 'lr_vfunc': 2.1262908606209114, 'width_layer1_policy': 91, 'width_layer1_vfunc': 11, 'width_layer2_vfunc': 109, 'std_start': 0.873489475117031, 'std_min': 0.5717537602046384, 'gamma': 0.961071825677444, 'lambda': 0.028593807663610755, 'polyak_alpha': 0.9930090584846689}. Best is trial 66 with value: 5.33431339263916.\u001b[0m\n",
      "\u001b[32m[I 2020-10-24 14:16:53,075]\u001b[0m Trial 189 finished with value: 6.158302971170689 and parameters: {'seed': 3, 'lr_policy': 0.00027049075370280256, 'lr_vfunc': 4.699955245496105, 'width_layer1_policy': 76, 'width_layer1_vfunc': 6, 'width_layer2_vfunc': 107, 'std_start': 0.8310775585373691, 'std_min': 0.5405230003475358, 'gamma': 0.9523478046408813, 'lambda': 0.04070717422560626, 'polyak_alpha': 0.9910716061259787}. Best is trial 66 with value: 5.33431339263916.\u001b[0m\n",
      "\u001b[32m[I 2020-10-24 14:18:02,965]\u001b[0m Trial 190 finished with value: 5.82825053891346 and parameters: {'seed': 1, 'lr_policy': 0.000217258992379754, 'lr_vfunc': 45.75475100415808, 'width_layer1_policy': 87, 'width_layer1_vfunc': 23, 'width_layer2_vfunc': 112, 'std_start': 0.7372787939312737, 'std_min': 0.5964919524415482, 'gamma': 0.9085471560495244, 'lambda': 0.02521734947248885, 'polyak_alpha': 0.9951270482905037}. Best is trial 66 with value: 5.33431339263916.\u001b[0m\n",
      "\u001b[32m[I 2020-10-24 14:19:13,182]\u001b[0m Trial 191 finished with value: 5.972196847907947 and parameters: {'seed': 1, 'lr_policy': 0.0002155983582606407, 'lr_vfunc': 29.66440956039924, 'width_layer1_policy': 87, 'width_layer1_vfunc': 33, 'width_layer2_vfunc': 112, 'std_start': 0.7366332391654414, 'std_min': 0.5950861003299407, 'gamma': 0.9388658869495469, 'lambda': 0.019691101112806787, 'polyak_alpha': 0.9936825304140621}. Best is trial 66 with value: 5.33431339263916.\u001b[0m\n",
      "\u001b[32m[I 2020-10-24 14:20:23,284]\u001b[0m Trial 192 finished with value: 7.281263717768137 and parameters: {'seed': 1, 'lr_policy': 0.0003029855352130646, 'lr_vfunc': 44.49980017019481, 'width_layer1_policy': 82, 'width_layer1_vfunc': 23, 'width_layer2_vfunc': 121, 'std_start': 0.7596997411627923, 'std_min': 0.5725548562163055, 'gamma': 0.9132644490247801, 'lambda': 0.02506949986659166, 'polyak_alpha': 0.9912089731129913}. Best is trial 66 with value: 5.33431339263916.\u001b[0m\n",
      "\u001b[32m[I 2020-10-24 14:21:33,439]\u001b[0m Trial 193 finished with value: 7.621013943437114 and parameters: {'seed': 2, 'lr_policy': 0.00018819006499766453, 'lr_vfunc': 0.6276943798356809, 'width_layer1_policy': 85, 'width_layer1_vfunc': 25, 'width_layer2_vfunc': 113, 'std_start': 1.1168751569631756, 'std_min': 0.551667696307344, 'gamma': 0.9073552693983564, 'lambda': 0.021777475415522163, 'polyak_alpha': 0.9970311813499738}. Best is trial 66 with value: 5.33431339263916.\u001b[0m\n",
      "\u001b[32m[I 2020-10-24 14:22:43,373]\u001b[0m Trial 194 finished with value: 6.048754359357446 and parameters: {'seed': 1, 'lr_policy': 0.00020639187567383173, 'lr_vfunc': 18.526842427028022, 'width_layer1_policy': 93, 'width_layer1_vfunc': 19, 'width_layer2_vfunc': 118, 'std_start': 0.790682978521271, 'std_min': 0.5974629478511015, 'gamma': 0.949886072829117, 'lambda': 0.02547702243983432, 'polyak_alpha': 0.9959378146833282}. Best is trial 66 with value: 5.33431339263916.\u001b[0m\n",
      "\u001b[32m[I 2020-10-24 14:23:53,109]\u001b[0m Trial 195 finished with value: 5.838014404700013 and parameters: {'seed': 0, 'lr_policy': 0.00017332206255052908, 'lr_vfunc': 9.71820152930002, 'width_layer1_policy': 80, 'width_layer1_vfunc': 17, 'width_layer2_vfunc': 68, 'std_start': 0.8130121591765505, 'std_min': 0.5767219694475678, 'gamma': 0.9745602463260881, 'lambda': 0.01562298277018779, 'polyak_alpha': 0.9948905611579156}. Best is trial 66 with value: 5.33431339263916.\u001b[0m\n",
      "\u001b[32m[I 2020-10-24 14:25:03,271]\u001b[0m Trial 196 finished with value: 7.256940602181572 and parameters: {'seed': 0, 'lr_policy': 0.00017849166322361583, 'lr_vfunc': 9.82689915104301, 'width_layer1_policy': 80, 'width_layer1_vfunc': 15, 'width_layer2_vfunc': 69, 'std_start': 0.8141796676453086, 'std_min': 0.5205520485271273, 'gamma': 0.9737645311252701, 'lambda': 0.016506359783176022, 'polyak_alpha': 0.9963348812750615}. Best is trial 66 with value: 5.33431339263916.\u001b[0m\n",
      "\u001b[32m[I 2020-10-24 14:26:13,647]\u001b[0m Trial 197 finished with value: 5.9168699204818065 and parameters: {'seed': 0, 'lr_policy': 0.00019533286310539078, 'lr_vfunc': 25.749704572440464, 'width_layer1_policy': 83, 'width_layer1_vfunc': 12, 'width_layer2_vfunc': 58, 'std_start': 0.7760350797014278, 'std_min': 0.5662474677306215, 'gamma': 0.9767643192240103, 'lambda': 0.0151040222380843, 'polyak_alpha': 0.9950425799487909}. Best is trial 66 with value: 5.33431339263916.\u001b[0m\n",
      "\u001b[32m[I 2020-10-24 14:27:23,985]\u001b[0m Trial 198 finished with value: 6.281531709318406 and parameters: {'seed': 0, 'lr_policy': 0.00020158423699761748, 'lr_vfunc': 27.261621506887188, 'width_layer1_policy': 79, 'width_layer1_vfunc': 13, 'width_layer2_vfunc': 58, 'std_start': 0.7652816082498537, 'std_min': 0.5999771950086245, 'gamma': 0.9773815815210043, 'lambda': 0.01893976509361335, 'polyak_alpha': 0.9943980853196756}. Best is trial 66 with value: 5.33431339263916.\u001b[0m\n",
      "\u001b[32m[I 2020-10-24 14:28:33,743]\u001b[0m Trial 199 finished with value: 6.686323968021771 and parameters: {'seed': 0, 'lr_policy': 0.00017456945214677514, 'lr_vfunc': 76.89009373904432, 'width_layer1_policy': 76, 'width_layer1_vfunc': 11, 'width_layer2_vfunc': 54, 'std_start': 0.7456512137149913, 'std_min': 0.552000771318811, 'gamma': 0.9720674350531393, 'lambda': 0.015527988300205721, 'polyak_alpha': 0.9950254837884193}. Best is trial 66 with value: 5.33431339263916.\u001b[0m\n",
      "\u001b[32m[I 2020-10-24 14:29:43,771]\u001b[0m Trial 200 finished with value: 6.012719919644886 and parameters: {'seed': 0, 'lr_policy': 0.00018498310060266872, 'lr_vfunc': 51.821231275849925, 'width_layer1_policy': 88, 'width_layer1_vfunc': 19, 'width_layer2_vfunc': 56, 'std_start': 0.7767248717369221, 'std_min': 0.570870231299406, 'gamma': 0.982382509210553, 'lambda': 0.017536585641902535, 'polyak_alpha': 0.9963484819713578}. Best is trial 66 with value: 5.33431339263916.\u001b[0m\n",
      "\u001b[32m[I 2020-10-24 14:30:53,735]\u001b[0m Trial 201 finished with value: 6.129629199132086 and parameters: {'seed': 0, 'lr_policy': 0.00017146307703612477, 'lr_vfunc': 36.48666561598727, 'width_layer1_policy': 82, 'width_layer1_vfunc': 26, 'width_layer2_vfunc': 66, 'std_start': 0.7236346930179117, 'std_min': 0.5314296507476314, 'gamma': 0.9798018297150833, 'lambda': 0.02344099970999158, 'polyak_alpha': 0.9977942814640639}. Best is trial 66 with value: 5.33431339263916.\u001b[0m\n",
      "\u001b[32m[I 2020-10-24 14:32:03,590]\u001b[0m Trial 202 finished with value: 5.706081730798678 and parameters: {'seed': 0, 'lr_policy': 0.00023702566341836254, 'lr_vfunc': 19.3275976070645, 'width_layer1_policy': 72, 'width_layer1_vfunc': 22, 'width_layer2_vfunc': 49, 'std_start': 0.7024119382127499, 'std_min': 0.5087859442327342, 'gamma': 0.9687490779552597, 'lambda': 0.011740558559538273, 'polyak_alpha': 0.9952836585224006}. Best is trial 66 with value: 5.33431339263916.\u001b[0m\n",
      "\u001b[32m[I 2020-10-24 14:33:13,531]\u001b[0m Trial 203 finished with value: 6.910383037376027 and parameters: {'seed': 0, 'lr_policy': 0.00022212191237303423, 'lr_vfunc': 14.156496606129762, 'width_layer1_policy': 72, 'width_layer1_vfunc': 17, 'width_layer2_vfunc': 51, 'std_start': 0.7011085128964034, 'std_min': 0.5476341847156834, 'gamma': 0.9746254147520795, 'lambda': 0.01504071081060544, 'polyak_alpha': 0.9979774074543081}. Best is trial 66 with value: 5.33431339263916.\u001b[0m\n",
      "\u001b[32m[I 2020-10-24 14:34:23,474]\u001b[0m Trial 204 finished with value: 6.0355536519245545 and parameters: {'seed': 0, 'lr_policy': 0.0002109052292104921, 'lr_vfunc': 22.227701101180717, 'width_layer1_policy': 68, 'width_layer1_vfunc': 11, 'width_layer2_vfunc': 39, 'std_start': 0.8182152769724216, 'std_min': 0.581604149616494, 'gamma': 0.9679819460167445, 'lambda': 0.012467474677333317, 'polyak_alpha': 0.9953022071273557}. Best is trial 66 with value: 5.33431339263916.\u001b[0m\n",
      "\u001b[32m[I 2020-10-24 14:35:33,303]\u001b[0m Trial 205 finished with value: 6.006814012563761 and parameters: {'seed': 0, 'lr_policy': 0.00024071926057801297, 'lr_vfunc': 6.706607179010965, 'width_layer1_policy': 77, 'width_layer1_vfunc': 22, 'width_layer2_vfunc': 44, 'std_start': 0.7961398882940206, 'std_min': 0.5579500147185446, 'gamma': 0.9701721828881279, 'lambda': 0.01181023570494324, 'polyak_alpha': 0.9948568652672886}. Best is trial 66 with value: 5.33431339263916.\u001b[0m\n",
      "\u001b[32m[I 2020-10-24 14:36:43,498]\u001b[0m Trial 206 finished with value: 6.357554761347886 and parameters: {'seed': 1, 'lr_policy': 0.00047000537850747136, 'lr_vfunc': 18.700147680193243, 'width_layer1_policy': 74, 'width_layer1_vfunc': 9, 'width_layer2_vfunc': 70, 'std_start': 0.7580693343305012, 'std_min': 0.506405547625261, 'gamma': 0.9717512391441654, 'lambda': 0.02102651266513502, 'polyak_alpha': 0.9935424212823072}. Best is trial 66 with value: 5.33431339263916.\u001b[0m\n",
      "\u001b[32m[I 2020-10-24 14:37:53,183]\u001b[0m Trial 207 finished with value: 6.764337668927853 and parameters: {'seed': 0, 'lr_policy': 0.000160284227584491, 'lr_vfunc': 28.251705876657788, 'width_layer1_policy': 70, 'width_layer1_vfunc': 5, 'width_layer2_vfunc': 61, 'std_start': 0.7117676182402357, 'std_min': 0.570280961078998, 'gamma': 0.9762887527633982, 'lambda': 0.016981359161028116, 'polyak_alpha': 0.9956338073942451}. Best is trial 66 with value: 5.33431339263916.\u001b[0m\n",
      "\u001b[32m[I 2020-10-24 14:39:03,079]\u001b[0m Trial 208 finished with value: 6.037275282787994 and parameters: {'seed': 2, 'lr_policy': 0.00018144477929821283, 'lr_vfunc': 4.933256420254797, 'width_layer1_policy': 80, 'width_layer1_vfunc': 17, 'width_layer2_vfunc': 75, 'std_start': 0.7315508242585901, 'std_min': 0.5172724367260122, 'gamma': 0.9666351569454206, 'lambda': 0.01912800448565301, 'polyak_alpha': 0.9941733748338899}. Best is trial 66 with value: 5.33431339263916.\u001b[0m\n",
      "\u001b[32m[I 2020-10-24 14:40:13,090]\u001b[0m Trial 209 finished with value: 5.830021276934834 and parameters: {'seed': 1, 'lr_policy': 0.000261163679541443, 'lr_vfunc': 3.4659006419647644, 'width_layer1_policy': 83, 'width_layer1_vfunc': 21, 'width_layer2_vfunc': 51, 'std_start': 0.8500210902654004, 'std_min': 0.4900719470802955, 'gamma': 0.962315019821511, 'lambda': 0.010755546673615866, 'polyak_alpha': 0.9970503252603597}. Best is trial 66 with value: 5.33431339263916.\u001b[0m\n",
      "\u001b[32m[I 2020-10-24 14:41:22,665]\u001b[0m Trial 210 finished with value: 7.648496436120837 and parameters: {'seed': 0, 'lr_policy': 0.0002607230077813303, 'lr_vfunc': 8.052240578876852, 'width_layer1_policy': 90, 'width_layer1_vfunc': 22, 'width_layer2_vfunc': 50, 'std_start': 0.7783487102595729, 'std_min': 0.4913307583462406, 'gamma': 0.9735636237489633, 'lambda': 0.011822985673792794, 'polyak_alpha': 0.9994274798729192}. Best is trial 66 with value: 5.33431339263916.\u001b[0m\n",
      "\u001b[32m[I 2020-10-24 14:42:32,512]\u001b[0m Trial 211 finished with value: 6.608579007306684 and parameters: {'seed': 1, 'lr_policy': 0.00029010152287514327, 'lr_vfunc': 2.922932917782498, 'width_layer1_policy': 86, 'width_layer1_vfunc': 64, 'width_layer2_vfunc': 44, 'std_start': 0.8070675624379421, 'std_min': 0.4784926517522367, 'gamma': 0.963017694360895, 'lambda': 0.010722871164349532, 'polyak_alpha': 0.9976215314026172}. Best is trial 66 with value: 5.33431339263916.\u001b[0m\n",
      "\u001b[32m[I 2020-10-24 14:43:42,481]\u001b[0m Trial 212 finished with value: 6.797151736989559 and parameters: {'seed': 1, 'lr_policy': 0.00035060445397596925, 'lr_vfunc': 1.115966510124751, 'width_layer1_policy': 82, 'width_layer1_vfunc': 26, 'width_layer2_vfunc': 54, 'std_start': 0.7505104320846615, 'std_min': 0.4212563507830898, 'gamma': 0.9557934423627411, 'lambda': 0.010194895296759321, 'polyak_alpha': 0.9983919458631427}. Best is trial 66 with value: 5.33431339263916.\u001b[0m\n",
      "\u001b[32m[I 2020-10-24 14:44:52,328]\u001b[0m Trial 213 finished with value: 7.218018471867342 and parameters: {'seed': 1, 'lr_policy': 0.0002322560514376737, 'lr_vfunc': 3.5552251855355808, 'width_layer1_policy': 77, 'width_layer1_vfunc': 16, 'width_layer2_vfunc': 46, 'std_start': 0.8452927771870988, 'std_min': 0.4974868092718006, 'gamma': 0.96189514209955, 'lambda': 0.015072341921009954, 'polyak_alpha': 0.996636229347307}. Best is trial 66 with value: 5.33431339263916.\u001b[0m\n",
      "\u001b[32m[I 2020-10-24 14:46:01,720]\u001b[0m Trial 214 finished with value: 5.966461852873097 and parameters: {'seed': 1, 'lr_policy': 0.0001933208615896758, 'lr_vfunc': 2.0963655711414346, 'width_layer1_policy': 72, 'width_layer1_vfunc': 12, 'width_layer2_vfunc': 59, 'std_start': 0.8630222871617002, 'std_min': 0.5407208928426399, 'gamma': 0.9664004774377037, 'lambda': 0.02068448008175666, 'polyak_alpha': 0.9970329994630391}. Best is trial 66 with value: 5.33431339263916.\u001b[0m\n",
      "\u001b[32m[I 2020-10-24 14:47:11,630]\u001b[0m Trial 215 finished with value: 6.4250758730046575 and parameters: {'seed': 2, 'lr_policy': 0.00022030637044098762, 'lr_vfunc': 11.911226677317302, 'width_layer1_policy': 83, 'width_layer1_vfunc': 31, 'width_layer2_vfunc': 53, 'std_start': 0.8277216524773718, 'std_min': 0.4562880242400199, 'gamma': 0.9641981722326497, 'lambda': 0.026276467113537375, 'polyak_alpha': 0.9948468092785191}. Best is trial 66 with value: 5.33431339263916.\u001b[0m\n"
     ]
    },
    {
     "output_type": "error",
     "ename": "KeyboardInterrupt",
     "evalue": "",
     "traceback": [
      "\u001b[0;31m---------------------------------------------------------------------------\u001b[0m",
      "\u001b[0;31mKeyboardInterrupt\u001b[0m                         Traceback (most recent call last)",
      "\u001b[0;32m<ipython-input-12-6cbdcb77d635>\u001b[0m in \u001b[0;36m<module>\u001b[0;34m\u001b[0m\n\u001b[0;32m----> 1\u001b[0;31m \u001b[0mstudy\u001b[0m\u001b[0;34m.\u001b[0m\u001b[0moptimize\u001b[0m\u001b[0;34m(\u001b[0m\u001b[0mobj_f\u001b[0m\u001b[0;34m,\u001b[0m \u001b[0mn_trials\u001b[0m\u001b[0;34m=\u001b[0m\u001b[0;36m200\u001b[0m\u001b[0;34m,\u001b[0m \u001b[0mn_jobs\u001b[0m\u001b[0;34m=\u001b[0m\u001b[0;36m1\u001b[0m\u001b[0;34m)\u001b[0m\u001b[0;34m\u001b[0m\u001b[0;34m\u001b[0m\u001b[0m\n\u001b[0m",
      "\u001b[0;32m~/.local/lib/python3.8/site-packages/optuna/study.py\u001b[0m in \u001b[0;36moptimize\u001b[0;34m(self, func, n_trials, timeout, n_jobs, catch, callbacks, gc_after_trial, show_progress_bar)\u001b[0m\n\u001b[1;32m    336\u001b[0m         \u001b[0;32mtry\u001b[0m\u001b[0;34m:\u001b[0m\u001b[0;34m\u001b[0m\u001b[0;34m\u001b[0m\u001b[0m\n\u001b[1;32m    337\u001b[0m             \u001b[0;32mif\u001b[0m \u001b[0mn_jobs\u001b[0m \u001b[0;34m==\u001b[0m \u001b[0;36m1\u001b[0m\u001b[0;34m:\u001b[0m\u001b[0;34m\u001b[0m\u001b[0;34m\u001b[0m\u001b[0m\n\u001b[0;32m--> 338\u001b[0;31m                 self._optimize_sequential(\n\u001b[0m\u001b[1;32m    339\u001b[0m                     \u001b[0mfunc\u001b[0m\u001b[0;34m,\u001b[0m \u001b[0mn_trials\u001b[0m\u001b[0;34m,\u001b[0m \u001b[0mtimeout\u001b[0m\u001b[0;34m,\u001b[0m \u001b[0mcatch\u001b[0m\u001b[0;34m,\u001b[0m \u001b[0mcallbacks\u001b[0m\u001b[0;34m,\u001b[0m \u001b[0mgc_after_trial\u001b[0m\u001b[0;34m,\u001b[0m \u001b[0;32mNone\u001b[0m\u001b[0;34m\u001b[0m\u001b[0;34m\u001b[0m\u001b[0m\n\u001b[1;32m    340\u001b[0m                 )\n",
      "\u001b[0;32m~/.local/lib/python3.8/site-packages/optuna/study.py\u001b[0m in \u001b[0;36m_optimize_sequential\u001b[0;34m(self, func, n_trials, timeout, catch, callbacks, gc_after_trial, time_start)\u001b[0m\n\u001b[1;32m    745\u001b[0m                     \u001b[0;32mbreak\u001b[0m\u001b[0;34m\u001b[0m\u001b[0;34m\u001b[0m\u001b[0m\n\u001b[1;32m    746\u001b[0m \u001b[0;34m\u001b[0m\u001b[0m\n\u001b[0;32m--> 747\u001b[0;31m             \u001b[0mself\u001b[0m\u001b[0;34m.\u001b[0m\u001b[0m_run_trial_and_callbacks\u001b[0m\u001b[0;34m(\u001b[0m\u001b[0mfunc\u001b[0m\u001b[0;34m,\u001b[0m \u001b[0mcatch\u001b[0m\u001b[0;34m,\u001b[0m \u001b[0mcallbacks\u001b[0m\u001b[0;34m,\u001b[0m \u001b[0mgc_after_trial\u001b[0m\u001b[0;34m)\u001b[0m\u001b[0;34m\u001b[0m\u001b[0;34m\u001b[0m\u001b[0m\n\u001b[0m\u001b[1;32m    748\u001b[0m \u001b[0;34m\u001b[0m\u001b[0m\n\u001b[1;32m    749\u001b[0m             \u001b[0mself\u001b[0m\u001b[0;34m.\u001b[0m\u001b[0m_progress_bar\u001b[0m\u001b[0;34m.\u001b[0m\u001b[0mupdate\u001b[0m\u001b[0;34m(\u001b[0m\u001b[0;34m(\u001b[0m\u001b[0mdatetime\u001b[0m\u001b[0;34m.\u001b[0m\u001b[0mdatetime\u001b[0m\u001b[0;34m.\u001b[0m\u001b[0mnow\u001b[0m\u001b[0;34m(\u001b[0m\u001b[0;34m)\u001b[0m \u001b[0;34m-\u001b[0m \u001b[0mtime_start\u001b[0m\u001b[0;34m)\u001b[0m\u001b[0;34m.\u001b[0m\u001b[0mtotal_seconds\u001b[0m\u001b[0;34m(\u001b[0m\u001b[0;34m)\u001b[0m\u001b[0;34m)\u001b[0m\u001b[0;34m\u001b[0m\u001b[0;34m\u001b[0m\u001b[0m\n",
      "\u001b[0;32m~/.local/lib/python3.8/site-packages/optuna/study.py\u001b[0m in \u001b[0;36m_run_trial_and_callbacks\u001b[0;34m(self, func, catch, callbacks, gc_after_trial)\u001b[0m\n\u001b[1;32m    774\u001b[0m     ) -> None:\n\u001b[1;32m    775\u001b[0m \u001b[0;34m\u001b[0m\u001b[0m\n\u001b[0;32m--> 776\u001b[0;31m         \u001b[0mtrial\u001b[0m \u001b[0;34m=\u001b[0m \u001b[0mself\u001b[0m\u001b[0;34m.\u001b[0m\u001b[0m_run_trial\u001b[0m\u001b[0;34m(\u001b[0m\u001b[0mfunc\u001b[0m\u001b[0;34m,\u001b[0m \u001b[0mcatch\u001b[0m\u001b[0;34m,\u001b[0m \u001b[0mgc_after_trial\u001b[0m\u001b[0;34m)\u001b[0m\u001b[0;34m\u001b[0m\u001b[0;34m\u001b[0m\u001b[0m\n\u001b[0m\u001b[1;32m    777\u001b[0m         \u001b[0;32mif\u001b[0m \u001b[0mcallbacks\u001b[0m \u001b[0;32mis\u001b[0m \u001b[0;32mnot\u001b[0m \u001b[0;32mNone\u001b[0m\u001b[0;34m:\u001b[0m\u001b[0;34m\u001b[0m\u001b[0;34m\u001b[0m\u001b[0m\n\u001b[1;32m    778\u001b[0m             \u001b[0mfrozen_trial\u001b[0m \u001b[0;34m=\u001b[0m \u001b[0mcopy\u001b[0m\u001b[0;34m.\u001b[0m\u001b[0mdeepcopy\u001b[0m\u001b[0;34m(\u001b[0m\u001b[0mself\u001b[0m\u001b[0;34m.\u001b[0m\u001b[0m_storage\u001b[0m\u001b[0;34m.\u001b[0m\u001b[0mget_trial\u001b[0m\u001b[0;34m(\u001b[0m\u001b[0mtrial\u001b[0m\u001b[0;34m.\u001b[0m\u001b[0m_trial_id\u001b[0m\u001b[0;34m)\u001b[0m\u001b[0;34m)\u001b[0m\u001b[0;34m\u001b[0m\u001b[0;34m\u001b[0m\u001b[0m\n",
      "\u001b[0;32m~/.local/lib/python3.8/site-packages/optuna/study.py\u001b[0m in \u001b[0;36m_run_trial\u001b[0;34m(self, func, catch, gc_after_trial)\u001b[0m\n\u001b[1;32m    797\u001b[0m \u001b[0;34m\u001b[0m\u001b[0m\n\u001b[1;32m    798\u001b[0m         \u001b[0;32mtry\u001b[0m\u001b[0;34m:\u001b[0m\u001b[0;34m\u001b[0m\u001b[0;34m\u001b[0m\u001b[0m\n\u001b[0;32m--> 799\u001b[0;31m             \u001b[0mresult\u001b[0m \u001b[0;34m=\u001b[0m \u001b[0mfunc\u001b[0m\u001b[0;34m(\u001b[0m\u001b[0mtrial\u001b[0m\u001b[0;34m)\u001b[0m\u001b[0;34m\u001b[0m\u001b[0;34m\u001b[0m\u001b[0m\n\u001b[0m\u001b[1;32m    800\u001b[0m         \u001b[0;32mexcept\u001b[0m \u001b[0mexceptions\u001b[0m\u001b[0;34m.\u001b[0m\u001b[0mTrialPruned\u001b[0m \u001b[0;32mas\u001b[0m \u001b[0me\u001b[0m\u001b[0;34m:\u001b[0m\u001b[0;34m\u001b[0m\u001b[0;34m\u001b[0m\u001b[0m\n\u001b[1;32m    801\u001b[0m             \u001b[0mmessage\u001b[0m \u001b[0;34m=\u001b[0m \u001b[0;34m\"Trial {} pruned. {}\"\u001b[0m\u001b[0;34m.\u001b[0m\u001b[0mformat\u001b[0m\u001b[0;34m(\u001b[0m\u001b[0mtrial_number\u001b[0m\u001b[0;34m,\u001b[0m \u001b[0mstr\u001b[0m\u001b[0;34m(\u001b[0m\u001b[0me\u001b[0m\u001b[0;34m)\u001b[0m\u001b[0;34m)\u001b[0m\u001b[0;34m\u001b[0m\u001b[0;34m\u001b[0m\u001b[0m\n",
      "\u001b[0;32m<ipython-input-10-ee1afb336ed4>\u001b[0m in \u001b[0;36mobj_f\u001b[0;34m(trial)\u001b[0m\n\u001b[1;32m     26\u001b[0m     \u001b[0mcopt\u001b[0m \u001b[0;34m=\u001b[0m \u001b[0mtorch\u001b[0m\u001b[0;34m.\u001b[0m\u001b[0moptim\u001b[0m\u001b[0;34m.\u001b[0m\u001b[0mAdam\u001b[0m\u001b[0;34m(\u001b[0m\u001b[0mvfunc\u001b[0m\u001b[0;34m.\u001b[0m\u001b[0mparameters\u001b[0m\u001b[0;34m(\u001b[0m\u001b[0;34m)\u001b[0m\u001b[0;34m,\u001b[0m \u001b[0mlr\u001b[0m\u001b[0;34m=\u001b[0m\u001b[0mlr_vfunc\u001b[0m\u001b[0;34m)\u001b[0m\u001b[0;34m\u001b[0m\u001b[0;34m\u001b[0m\u001b[0m\n\u001b[1;32m     27\u001b[0m \u001b[0;34m\u001b[0m\u001b[0m\n\u001b[0;32m---> 28\u001b[0;31m     \u001b[0;32mreturn\u001b[0m \u001b[0mtrain\u001b[0m\u001b[0;34m(\u001b[0m\u001b[0meps\u001b[0m\u001b[0;34m,\u001b[0m \u001b[0mpi\u001b[0m\u001b[0;34m,\u001b[0m \u001b[0mvfunc\u001b[0m\u001b[0;34m,\u001b[0m \u001b[0mtvfunc\u001b[0m\u001b[0;34m,\u001b[0m \u001b[0mopt\u001b[0m\u001b[0;34m,\u001b[0m \u001b[0mcopt\u001b[0m\u001b[0;34m,\u001b[0m \u001b[0mgamma\u001b[0m\u001b[0;34m,\u001b[0m \u001b[0mlmbda\u001b[0m\u001b[0;34m,\u001b[0m \u001b[0mpolyak_alpha\u001b[0m\u001b[0;34m,\u001b[0m \u001b[0;34m'ppo_pendulum_'\u001b[0m\u001b[0;34m)\u001b[0m\u001b[0;34m\u001b[0m\u001b[0;34m\u001b[0m\u001b[0m\n\u001b[0m",
      "\u001b[0;32m<ipython-input-9-c3e54dff0479>\u001b[0m in \u001b[0;36mtrain\u001b[0;34m(eps, pi, vfunc, tvfunc, opt, copt, gamma, lmbda, polyak_alpha, study_name, debug)\u001b[0m\n\u001b[1;32m      7\u001b[0m         \u001b[0mwriter\u001b[0m \u001b[0;34m=\u001b[0m \u001b[0mwll\u001b[0m\u001b[0;34m.\u001b[0m\u001b[0mwriter\u001b[0m\u001b[0;34m\u001b[0m\u001b[0;34m\u001b[0m\u001b[0m\n\u001b[1;32m      8\u001b[0m     \u001b[0;32mfor\u001b[0m \u001b[0mep\u001b[0m \u001b[0;32min\u001b[0m \u001b[0mrange\u001b[0m\u001b[0;34m(\u001b[0m\u001b[0;36m0\u001b[0m\u001b[0;34m,\u001b[0m \u001b[0meps\u001b[0m\u001b[0;34m)\u001b[0m\u001b[0;34m:\u001b[0m\u001b[0;34m\u001b[0m\u001b[0;34m\u001b[0m\u001b[0m\n\u001b[0;32m----> 9\u001b[0;31m         \u001b[0ml\u001b[0m \u001b[0;34m=\u001b[0m \u001b[0menvs\u001b[0m\u001b[0;34m.\u001b[0m\u001b[0mlist_rollout\u001b[0m\u001b[0;34m(\u001b[0m\u001b[0mpi\u001b[0m\u001b[0;34m.\u001b[0m\u001b[0mact\u001b[0m\u001b[0;34m,\u001b[0m \u001b[0mgamma\u001b[0m\u001b[0;34m=\u001b[0m\u001b[0mgamma\u001b[0m\u001b[0;34m,\u001b[0m \u001b[0mlength\u001b[0m\u001b[0;34m=\u001b[0m\u001b[0;36m10\u001b[0m\u001b[0;34m)\u001b[0m\u001b[0;34m\u001b[0m\u001b[0;34m\u001b[0m\u001b[0m\n\u001b[0m\u001b[1;32m     10\u001b[0m         \u001b[0mnes\u001b[0m\u001b[0;34m.\u001b[0m\u001b[0mx\u001b[0m \u001b[0;34m=\u001b[0m \u001b[0ml\u001b[0m\u001b[0;34m\u001b[0m\u001b[0;34m\u001b[0m\u001b[0m\n\u001b[1;32m     11\u001b[0m         \u001b[0mrss\u001b[0m \u001b[0;34m=\u001b[0m \u001b[0ml\u001b[0m\u001b[0;34m[\u001b[0m\u001b[0;36m0\u001b[0m\u001b[0;34m]\u001b[0m\u001b[0;34m[\u001b[0m\u001b[0;36m2\u001b[0m\u001b[0;34m]\u001b[0m\u001b[0;34m.\u001b[0m\u001b[0mmean\u001b[0m\u001b[0;34m(\u001b[0m\u001b[0;34m)\u001b[0m\u001b[0;34m.\u001b[0m\u001b[0mitem\u001b[0m\u001b[0;34m(\u001b[0m\u001b[0;34m)\u001b[0m\u001b[0;34m\u001b[0m\u001b[0;34m\u001b[0m\u001b[0m\n",
      "\u001b[0;32m~/githubs/reinforcment_learning/myrl/environments.py\u001b[0m in \u001b[0;36mlist_rollout\u001b[0;34m(self, pi, gamma, length, debug)\u001b[0m\n\u001b[1;32m    104\u001b[0m         \u001b[0ml\u001b[0m \u001b[0;34m=\u001b[0m \u001b[0;34m[\u001b[0m\u001b[0;34m]\u001b[0m\u001b[0;34m\u001b[0m\u001b[0;34m\u001b[0m\u001b[0m\n\u001b[1;32m    105\u001b[0m         \u001b[0;32mfor\u001b[0m \u001b[0mi\u001b[0m \u001b[0;32min\u001b[0m \u001b[0mrange\u001b[0m\u001b[0;34m(\u001b[0m\u001b[0mself\u001b[0m\u001b[0;34m.\u001b[0m\u001b[0mn_envs\u001b[0m\u001b[0;34m)\u001b[0m\u001b[0;34m:\u001b[0m\u001b[0;34m\u001b[0m\u001b[0;34m\u001b[0m\u001b[0m\n\u001b[0;32m--> 106\u001b[0;31m             \u001b[0mreturned\u001b[0m \u001b[0;34m=\u001b[0m \u001b[0mself\u001b[0m\u001b[0;34m.\u001b[0m\u001b[0mrollout\u001b[0m\u001b[0;34m(\u001b[0m\u001b[0mpi\u001b[0m\u001b[0;34m,\u001b[0m \u001b[0mgamma\u001b[0m\u001b[0;34m,\u001b[0m \u001b[0mlength\u001b[0m\u001b[0;34m,\u001b[0m \u001b[0mdebug\u001b[0m\u001b[0;34m,\u001b[0m \u001b[0mwhat\u001b[0m\u001b[0;34m=\u001b[0m\u001b[0;34m[\u001b[0m\u001b[0mself\u001b[0m\u001b[0;34m.\u001b[0m\u001b[0menvs\u001b[0m\u001b[0;34m[\u001b[0m\u001b[0mi\u001b[0m\u001b[0;34m]\u001b[0m\u001b[0;34m]\u001b[0m\u001b[0;34m)\u001b[0m\u001b[0;34m\u001b[0m\u001b[0;34m\u001b[0m\u001b[0m\n\u001b[0m\u001b[1;32m    107\u001b[0m             \u001b[0;32mfor\u001b[0m \u001b[0mr\u001b[0m \u001b[0;32min\u001b[0m \u001b[0mreturned\u001b[0m\u001b[0;34m:\u001b[0m\u001b[0;34m\u001b[0m\u001b[0;34m\u001b[0m\u001b[0m\n\u001b[1;32m    108\u001b[0m                 \u001b[0mr\u001b[0m\u001b[0;34m.\u001b[0m\u001b[0msqueeze_\u001b[0m\u001b[0;34m(\u001b[0m\u001b[0mdim\u001b[0m\u001b[0;34m=\u001b[0m\u001b[0;36m0\u001b[0m\u001b[0;34m)\u001b[0m\u001b[0;34m\u001b[0m\u001b[0;34m\u001b[0m\u001b[0m\n",
      "\u001b[0;32m~/githubs/reinforcment_learning/myrl/environments.py\u001b[0m in \u001b[0;36mrollout\u001b[0;34m(self, pi, gamma, length, debug, what)\u001b[0m\n\u001b[1;32m     86\u001b[0m         \u001b[0ml\u001b[0m \u001b[0;34m=\u001b[0m \u001b[0;34m[\u001b[0m\u001b[0;34m[\u001b[0m\u001b[0;34m]\u001b[0m \u001b[0;32mfor\u001b[0m \u001b[0mi\u001b[0m \u001b[0;32min\u001b[0m \u001b[0mrange\u001b[0m\u001b[0;34m(\u001b[0m\u001b[0;36m9\u001b[0m\u001b[0;34m)\u001b[0m\u001b[0;34m]\u001b[0m\u001b[0;34m\u001b[0m\u001b[0;34m\u001b[0m\u001b[0m\n\u001b[1;32m     87\u001b[0m         \u001b[0;32mfor\u001b[0m \u001b[0mstep\u001b[0m \u001b[0;32min\u001b[0m \u001b[0mrange\u001b[0m\u001b[0;34m(\u001b[0m\u001b[0mint\u001b[0m\u001b[0;34m(\u001b[0m\u001b[0mlength\u001b[0m\u001b[0;34m)\u001b[0m\u001b[0;34m)\u001b[0m\u001b[0;34m:\u001b[0m\u001b[0;34m\u001b[0m\u001b[0;34m\u001b[0m\u001b[0m\n\u001b[0;32m---> 88\u001b[0;31m             \u001b[0ml2\u001b[0m \u001b[0;34m=\u001b[0m \u001b[0mself\u001b[0m\u001b[0;34m.\u001b[0m\u001b[0mstep\u001b[0m\u001b[0;34m(\u001b[0m\u001b[0mpi\u001b[0m\u001b[0;34m,\u001b[0m \u001b[0mdebug\u001b[0m\u001b[0;34m,\u001b[0m \u001b[0mwhat\u001b[0m\u001b[0;34m=\u001b[0m\u001b[0mwhat\u001b[0m\u001b[0;34m)\u001b[0m\u001b[0;34m\u001b[0m\u001b[0;34m\u001b[0m\u001b[0m\n\u001b[0m\u001b[1;32m     89\u001b[0m             \u001b[0;32mfor\u001b[0m \u001b[0mi\u001b[0m\u001b[0;34m,\u001b[0m \u001b[0mt\u001b[0m \u001b[0;32min\u001b[0m \u001b[0menumerate\u001b[0m\u001b[0;34m(\u001b[0m\u001b[0ml2\u001b[0m\u001b[0;34m)\u001b[0m\u001b[0;34m:\u001b[0m\u001b[0;34m\u001b[0m\u001b[0;34m\u001b[0m\u001b[0m\n\u001b[1;32m     90\u001b[0m                 \u001b[0ml\u001b[0m\u001b[0;34m[\u001b[0m\u001b[0mi\u001b[0m\u001b[0;34m]\u001b[0m\u001b[0;34m.\u001b[0m\u001b[0mappend\u001b[0m\u001b[0;34m(\u001b[0m\u001b[0mt\u001b[0m\u001b[0;34m.\u001b[0m\u001b[0munsqueeze\u001b[0m\u001b[0;34m(\u001b[0m\u001b[0;36m1\u001b[0m\u001b[0;34m)\u001b[0m\u001b[0;34m)\u001b[0m\u001b[0;34m\u001b[0m\u001b[0;34m\u001b[0m\u001b[0m\n",
      "\u001b[0;32m~/githubs/reinforcment_learning/myrl/environments.py\u001b[0m in \u001b[0;36mstep\u001b[0;34m(self, pi, debug, what)\u001b[0m\n\u001b[1;32m     62\u001b[0m         \u001b[0ml\u001b[0m \u001b[0;34m=\u001b[0m \u001b[0;34m[\u001b[0m\u001b[0;34m[\u001b[0m\u001b[0;34m]\u001b[0m \u001b[0;32mfor\u001b[0m \u001b[0mi\u001b[0m \u001b[0;32min\u001b[0m \u001b[0mrange\u001b[0m\u001b[0;34m(\u001b[0m\u001b[0;36m9\u001b[0m\u001b[0;34m)\u001b[0m\u001b[0;34m]\u001b[0m\u001b[0;34m\u001b[0m\u001b[0;34m\u001b[0m\u001b[0m\n\u001b[1;32m     63\u001b[0m         \u001b[0;32mfor\u001b[0m \u001b[0menv\u001b[0m \u001b[0;32min\u001b[0m \u001b[0mwhat\u001b[0m\u001b[0;34m:\u001b[0m\u001b[0;34m\u001b[0m\u001b[0;34m\u001b[0m\u001b[0m\n\u001b[0;32m---> 64\u001b[0;31m             \u001b[0ml2\u001b[0m \u001b[0;34m=\u001b[0m \u001b[0menv\u001b[0m\u001b[0;34m.\u001b[0m\u001b[0mstep\u001b[0m\u001b[0;34m(\u001b[0m\u001b[0mpi\u001b[0m\u001b[0;34m,\u001b[0m \u001b[0mdebug\u001b[0m\u001b[0;34m)\u001b[0m\u001b[0;34m\u001b[0m\u001b[0;34m\u001b[0m\u001b[0m\n\u001b[0m\u001b[1;32m     65\u001b[0m             \u001b[0;32mfor\u001b[0m \u001b[0mi\u001b[0m\u001b[0;34m,\u001b[0m \u001b[0mt\u001b[0m \u001b[0;32min\u001b[0m \u001b[0menumerate\u001b[0m\u001b[0;34m(\u001b[0m\u001b[0ml2\u001b[0m\u001b[0;34m)\u001b[0m\u001b[0;34m:\u001b[0m\u001b[0;34m\u001b[0m\u001b[0;34m\u001b[0m\u001b[0m\n\u001b[1;32m     66\u001b[0m                 \u001b[0;32mif\u001b[0m \u001b[0mtype\u001b[0m\u001b[0;34m(\u001b[0m\u001b[0mt\u001b[0m\u001b[0;34m)\u001b[0m \u001b[0;34m==\u001b[0m \u001b[0mtype\u001b[0m\u001b[0;34m(\u001b[0m\u001b[0;34m(\u001b[0m\u001b[0;36m0\u001b[0m\u001b[0;34m,\u001b[0m \u001b[0;36m0\u001b[0m\u001b[0;34m)\u001b[0m\u001b[0;34m)\u001b[0m\u001b[0;34m:\u001b[0m\u001b[0;34m\u001b[0m\u001b[0;34m\u001b[0m\u001b[0m\n",
      "\u001b[0;32m~/githubs/reinforcment_learning/myrl/environments.py\u001b[0m in \u001b[0;36mstep\u001b[0;34m(self, act, sample, debug)\u001b[0m\n\u001b[1;32m     20\u001b[0m             \u001b[0masq\u001b[0m \u001b[0;34m=\u001b[0m \u001b[0ma\u001b[0m\u001b[0;34m\u001b[0m\u001b[0;34m\u001b[0m\u001b[0m\n\u001b[1;32m     21\u001b[0m         \u001b[0;32melse\u001b[0m\u001b[0;34m:\u001b[0m\u001b[0;34m\u001b[0m\u001b[0;34m\u001b[0m\u001b[0m\n\u001b[0;32m---> 22\u001b[0;31m             \u001b[0ma\u001b[0m\u001b[0;34m,\u001b[0m \u001b[0mother\u001b[0m \u001b[0;34m=\u001b[0m \u001b[0mact\u001b[0m\u001b[0;34m(\u001b[0m\u001b[0mself\u001b[0m\u001b[0;34m.\u001b[0m\u001b[0mobs\u001b[0m\u001b[0;34m)\u001b[0m\u001b[0;34m\u001b[0m\u001b[0;34m\u001b[0m\u001b[0m\n\u001b[0m\u001b[1;32m     23\u001b[0m             \u001b[0masq\u001b[0m \u001b[0;34m=\u001b[0m \u001b[0ma\u001b[0m\u001b[0;34m.\u001b[0m\u001b[0msqueeze\u001b[0m\u001b[0;34m(\u001b[0m\u001b[0;36m0\u001b[0m\u001b[0;34m)\u001b[0m\u001b[0;34m\u001b[0m\u001b[0;34m\u001b[0m\u001b[0m\n\u001b[1;32m     24\u001b[0m \u001b[0;34m\u001b[0m\u001b[0m\n",
      "\u001b[0;32m~/githubs/reinforcment_learning/myrl/policies.py\u001b[0m in \u001b[0;36mact\u001b[0;34m(self, o, smpl, debug)\u001b[0m\n\u001b[1;32m     51\u001b[0m         \u001b[0mdis\u001b[0m \u001b[0;34m=\u001b[0m \u001b[0mtorch\u001b[0m\u001b[0;34m.\u001b[0m\u001b[0mdistributions\u001b[0m\u001b[0;34m.\u001b[0m\u001b[0mNormal\u001b[0m\u001b[0;34m(\u001b[0m\u001b[0mh\u001b[0m\u001b[0;34m,\u001b[0m \u001b[0mstd\u001b[0m\u001b[0;34m)\u001b[0m\u001b[0;34m\u001b[0m\u001b[0;34m\u001b[0m\u001b[0m\n\u001b[1;32m     52\u001b[0m         \u001b[0;32mif\u001b[0m \u001b[0msmpl\u001b[0m \u001b[0;32mis\u001b[0m \u001b[0;32mNone\u001b[0m\u001b[0;34m:\u001b[0m\u001b[0;34m\u001b[0m\u001b[0;34m\u001b[0m\u001b[0m\n\u001b[0;32m---> 53\u001b[0;31m             \u001b[0msmpl\u001b[0m \u001b[0;34m=\u001b[0m \u001b[0mdis\u001b[0m\u001b[0;34m.\u001b[0m\u001b[0mrsample\u001b[0m\u001b[0;34m(\u001b[0m\u001b[0;34m)\u001b[0m\u001b[0;34m\u001b[0m\u001b[0;34m\u001b[0m\u001b[0m\n\u001b[0m\u001b[1;32m     54\u001b[0m         \u001b[0ma\u001b[0m \u001b[0;34m=\u001b[0m \u001b[0msmpl\u001b[0m\u001b[0;34m.\u001b[0m\u001b[0mdetach\u001b[0m\u001b[0;34m(\u001b[0m\u001b[0;34m)\u001b[0m\u001b[0;34m.\u001b[0m\u001b[0mnumpy\u001b[0m\u001b[0;34m(\u001b[0m\u001b[0;34m)\u001b[0m\u001b[0;34m\u001b[0m\u001b[0;34m\u001b[0m\u001b[0m\n\u001b[1;32m     55\u001b[0m         \u001b[0;32mreturn\u001b[0m \u001b[0ma\u001b[0m\u001b[0;34m,\u001b[0m \u001b[0;34m(\u001b[0m\u001b[0mdis\u001b[0m\u001b[0;34m.\u001b[0m\u001b[0mlog_prob\u001b[0m\u001b[0;34m(\u001b[0m\u001b[0msmpl\u001b[0m\u001b[0;34m)\u001b[0m\u001b[0;34m.\u001b[0m\u001b[0msum\u001b[0m\u001b[0;34m(\u001b[0m\u001b[0mdim\u001b[0m\u001b[0;34m=\u001b[0m\u001b[0;34m-\u001b[0m\u001b[0;36m1\u001b[0m\u001b[0;34m)\u001b[0m\u001b[0;34m.\u001b[0m\u001b[0munsqueeze\u001b[0m\u001b[0;34m(\u001b[0m\u001b[0;34m-\u001b[0m\u001b[0;36m1\u001b[0m\u001b[0;34m)\u001b[0m\u001b[0;34m,\u001b[0m \u001b[0msmpl\u001b[0m\u001b[0;34m,\u001b[0m \u001b[0mh\u001b[0m\u001b[0;34m,\u001b[0m \u001b[0mstd\u001b[0m\u001b[0;34m)\u001b[0m\u001b[0;34m\u001b[0m\u001b[0;34m\u001b[0m\u001b[0m\n",
      "\u001b[0;32m~/.local/lib/python3.8/site-packages/torch/distributions/normal.py\u001b[0m in \u001b[0;36mrsample\u001b[0;34m(self, sample_shape)\u001b[0m\n\u001b[1;32m     66\u001b[0m         \u001b[0mshape\u001b[0m \u001b[0;34m=\u001b[0m \u001b[0mself\u001b[0m\u001b[0;34m.\u001b[0m\u001b[0m_extended_shape\u001b[0m\u001b[0;34m(\u001b[0m\u001b[0msample_shape\u001b[0m\u001b[0;34m)\u001b[0m\u001b[0;34m\u001b[0m\u001b[0;34m\u001b[0m\u001b[0m\n\u001b[1;32m     67\u001b[0m         \u001b[0meps\u001b[0m \u001b[0;34m=\u001b[0m \u001b[0m_standard_normal\u001b[0m\u001b[0;34m(\u001b[0m\u001b[0mshape\u001b[0m\u001b[0;34m,\u001b[0m \u001b[0mdtype\u001b[0m\u001b[0;34m=\u001b[0m\u001b[0mself\u001b[0m\u001b[0;34m.\u001b[0m\u001b[0mloc\u001b[0m\u001b[0;34m.\u001b[0m\u001b[0mdtype\u001b[0m\u001b[0;34m,\u001b[0m \u001b[0mdevice\u001b[0m\u001b[0;34m=\u001b[0m\u001b[0mself\u001b[0m\u001b[0;34m.\u001b[0m\u001b[0mloc\u001b[0m\u001b[0;34m.\u001b[0m\u001b[0mdevice\u001b[0m\u001b[0;34m)\u001b[0m\u001b[0;34m\u001b[0m\u001b[0;34m\u001b[0m\u001b[0m\n\u001b[0;32m---> 68\u001b[0;31m         \u001b[0;32mreturn\u001b[0m \u001b[0mself\u001b[0m\u001b[0;34m.\u001b[0m\u001b[0mloc\u001b[0m \u001b[0;34m+\u001b[0m \u001b[0meps\u001b[0m \u001b[0;34m*\u001b[0m \u001b[0mself\u001b[0m\u001b[0;34m.\u001b[0m\u001b[0mscale\u001b[0m\u001b[0;34m\u001b[0m\u001b[0;34m\u001b[0m\u001b[0m\n\u001b[0m\u001b[1;32m     69\u001b[0m \u001b[0;34m\u001b[0m\u001b[0m\n\u001b[1;32m     70\u001b[0m     \u001b[0;32mdef\u001b[0m \u001b[0mlog_prob\u001b[0m\u001b[0;34m(\u001b[0m\u001b[0mself\u001b[0m\u001b[0;34m,\u001b[0m \u001b[0mvalue\u001b[0m\u001b[0;34m)\u001b[0m\u001b[0;34m:\u001b[0m\u001b[0;34m\u001b[0m\u001b[0;34m\u001b[0m\u001b[0m\n",
      "\u001b[0;31mKeyboardInterrupt\u001b[0m: "
     ]
    }
   ],
   "source": [
    "study.optimize(objective_function, n_trials=200, n_jobs=1)"
   ]
  },
  {
   "cell_type": "code",
   "execution_count": 25,
   "metadata": {},
   "outputs": [
    {
     "output_type": "stream",
     "name": "stdout",
     "text": [
      "{'lr_policy': 0.000392148144561186, 'lr_vfunc': 0.9557335221938151, 'width_layer1_policy': 100, 'width_layer1_vfunc': 189, 'width_layer2_vfunc': 85, 'std_start': 0.6401847525381115, 'gamma': 0.821649998393548, 'lambda': 0.02157171173951722, 'polyak_alpha': 0.7743138632219162}\n"
     ]
    }
   ],
   "source": [
    "print(study.best_params)\n",
    "study.best_params['lr_policy']\n",
    "some = study.get_trials()[202].params"
   ]
  },
  {
   "cell_type": "code",
   "execution_count": 11,
   "metadata": {},
   "outputs": [],
   "source": [
    "# study = optuna.create_study(study_name='PPO_Pendulum')\n",
    "import pickle  \n",
    "import optuna\n",
    "\n",
    "with open('optuna/PPO_Pendulum.pckl', 'rb') as f:\n",
    "    study = pickle.load(f)"
   ]
  },
  {
   "cell_type": "code",
   "execution_count": 27,
   "metadata": {
    "tags": []
   },
   "outputs": [
    {
     "output_type": "stream",
     "name": "stdout",
     "text": [
      "0 -0.002476269379258156 r -8.483715057373047  td 8261.396484375 clip 0.0 ___ 0.9991866946220398\n",
      "showit= -1385.4246033660284\n",
      "1 -0.0004192566266283393 r -6.783168792724609  td 8715.5849609375 clip 0.04694835841655731 ___ 1.0018621683120728\n",
      "2 0.00026956270448863506 r -8.30062198638916  td 8697.1416015625 clip 0.0 ___ 1.0015404224395752\n",
      "3 -0.0012082281755283475 r -7.729132652282715  td 8605.3505859375 clip 0.014084506779909134 ___ 0.9997485280036926\n",
      "4 0.0005795604665763676 r -7.348391532897949  td 8468.6865234375 clip 0.0 ___ 1.0031074285507202\n",
      "5 0.003671300830319524 r -8.635173797607422  td 8385.259765625 clip 0.009389671497046947 ___ 0.9993189573287964\n",
      "6 -0.001779148238711059 r -6.813990592956543  td 8266.595703125 clip 0.0 ___ 1.0003961324691772\n",
      "7 0.0021956951823085546 r -8.187200546264648  td 8157.06103515625 clip 0.03286384791135788 ___ 1.0077035427093506\n",
      "8 -0.0024069850333034992 r -8.256591796875  td 8090.34375 clip 0.0 ___ 1.0060415267944336\n",
      "9 -0.00033714459277689457 r -6.83414363861084  td 7875.69287109375 clip 0.0 ___ 1.0043447017669678\n",
      "10 -0.0037659485824406147 r -8.32290267944336  td 7835.54736328125 clip 0.014084506779909134 ___ 1.006162166595459\n",
      "11 -0.0016634749481454492 r -7.474791526794434  td 7635.50537109375 clip 0.0 ___ 1.0056488513946533\n",
      "12 -0.0010114754550158978 r -7.079348564147949  td 7501.68359375 clip 0.009389671497046947 ___ 1.0039827823638916\n",
      "13 -0.007773916702717543 r -0.9415051341056824  td 7338.787109375 clip 0.03755868598818779 ___ 1.0036277770996094\n",
      "14 0.0014458629302680492 r -9.493842124938965  td 7230.5224609375 clip 0.0 ___ 0.9996631145477295\n",
      "15 -0.002250858349725604 r -2.086219549179077  td 7155.12451171875 clip 0.018779342994093895 ___ 1.0047708749771118\n",
      "16 0.0011661663884297013 r -0.47459331154823303  td 7041.34521484375 clip 0.004694835748523474 ___ 1.007102370262146\n",
      "17 0.00012991504627279937 r -7.8992600440979  td 6900.03515625 clip 0.018779342994093895 ___ 1.0118045806884766\n",
      "18 -0.001287515158765018 r -4.078476905822754  td 6823.84033203125 clip 0.023474179208278656 ___ 1.0259475708007812\n",
      "19 -0.0015705572441220284 r -2.3990700244903564  td 6625.47021484375 clip 0.023474179208278656 ___ 1.0095911026000977\n",
      "20 0.001072619459591806 r -8.913065910339355  td 6632.59326171875 clip 0.0 ___ 1.0112941265106201\n",
      "showit= -767.3378011995504\n",
      "21 -0.0018499939469620585 r -2.035693645477295  td 6410.3232421875 clip 0.0 ___ 1.022794246673584\n",
      "22 0.0011781119974330068 r -9.101984024047852  td 6373.197265625 clip 0.018779342994093895 ___ 1.0328668355941772\n",
      "23 0.0005513491341844201 r -2.1178829669952393  td 6218.28662109375 clip 0.014084506779909134 ___ 1.020853042602539\n",
      "24 0.002562020206823945 r -8.608283996582031  td 6029.787109375 clip 0.0 ___ 1.019216775894165\n",
      "25 -0.010125507600605488 r -2.9271390438079834  td 5966.08544921875 clip 0.018779342994093895 ___ 1.0367790460586548\n",
      "26 -0.004458479583263397 r -7.44351053237915  td 5769.779296875 clip 0.03286384791135788 ___ 1.0423060655593872\n",
      "27 0.0008344667148776352 r -4.173976421356201  td 5755.55810546875 clip 0.0 ___ 1.0385079383850098\n",
      "28 -0.001760852406732738 r -6.854423522949219  td 5649.92236328125 clip 0.023474179208278656 ___ 1.0652714967727661\n",
      "29 0.0006137504242360592 r -4.757291793823242  td 5480.4033203125 clip 0.004694835748523474 ___ 1.059261679649353\n",
      "30 -0.00984983704984188 r -1.2328360080718994  td 5234.93701171875 clip 0.07511737197637558 ___ 1.0282384157180786\n",
      "31 -0.003739316714927554 r -9.906551361083984  td 5193.68408203125 clip 0.028169013559818268 ___ 1.057761788368225\n",
      "32 0.005851916968822479 r -1.9361718893051147  td 5048.3408203125 clip 0.03755868598818779 ___ 1.063931941986084\n",
      "33 -0.0053336126729846 r -6.311635971069336  td 4931.9033203125 clip 0.056338027119636536 ___ 1.0734933614730835\n",
      "34 -0.006614372134208679 r -6.551599979400635  td 4867.1650390625 clip 0.028169013559818268 ___ 1.0593812465667725\n",
      "35 -0.0005098659894429147 r -5.94545841217041  td 4738.84521484375 clip 0.03286384791135788 ___ 1.0394271612167358\n",
      "36 0.0006068031070753932 r -6.041919708251953  td 4592.7568359375 clip 0.004694835748523474 ___ 1.033925175666809\n",
      "37 -0.005308656021952629 r -5.558177947998047  td 4507.55029296875 clip 0.004694835748523474 ___ 1.0270551443099976\n",
      "38 -0.00461631640791893 r -6.057663917541504  td 4460.70361328125 clip 0.023474179208278656 ___ 1.0413475036621094\n",
      "39 -0.0026712731923907995 r -3.248065233230591  td 4319.048828125 clip 0.023474179208278656 ___ 1.0359739065170288\n",
      "40 0.0008813218446448445 r -8.45876407623291  td 4224.53662109375 clip 0.08920187503099442 ___ 1.0471271276474\n",
      "showit= -1218.5966179352172\n",
      "41 -0.0012746333377435803 r -0.5759222507476807  td 4045.533935546875 clip 0.051643192768096924 ___ 1.036015272140503\n",
      "42 -0.0036204399075359106 r -2.629016399383545  td 3969.99658203125 clip 0.04694835841655731 ___ 1.055570125579834\n",
      "43 -0.010400785133242607 r -9.078067779541016  td 3857.17529296875 clip 0.03286384791135788 ___ 1.068764328956604\n",
      "44 -0.00035951813333667815 r -0.8822372555732727  td 3824.540771484375 clip 0.014084506779909134 ___ 1.070237398147583\n",
      "45 -0.00109099003020674 r -8.252535820007324  td 3619.61328125 clip 0.0 ___ 1.05031418800354\n",
      "46 -0.004345363471657038 r -3.6242904663085938  td 3593.954345703125 clip 0.028169013559818268 ___ 1.0485905408859253\n",
      "47 0.0008563613519072533 r -0.1528857946395874  td 3418.76611328125 clip 0.004694835748523474 ___ 1.0527112483978271\n",
      "48 -0.001394178718328476 r -0.8007398843765259  td 3339.032958984375 clip 0.018779342994093895 ___ 1.039821982383728\n",
      "49 -0.007258083205670118 r -9.651150703430176  td 3224.328857421875 clip 0.004694835748523474 ___ 1.0177065134048462\n"
     ]
    }
   ],
   "source": [
    "def best_f(eps=100):\n",
    "    from_what = some\n",
    "    seed = 0\n",
    "    np.random.seed(seed)\n",
    "    env.seed(seed)\n",
    "    torch.manual_seed(seed)\n",
    "    eps = eps\n",
    "    lr_policy = from_what[\"lr_policy\"]\n",
    "    lr_vfunc  = from_what[\"lr_vfunc\"]\n",
    "    w1_pi     = from_what[\"width_layer1_policy\"]\n",
    "    #w2_pi     = trial.suggest_int(\"width_layer2_policy\", 1, 64)\n",
    "    w1_vfunc  = from_what[\"width_layer1_vfunc\"]\n",
    "    w2_vfunc  = from_what[\"width_layer2_vfunc\"]\n",
    "    std_start = from_what[\"std_start\"]\n",
    "    std_min   = from_what[\"std_min\"]\n",
    "    gamma     = from_what[\"gamma\"]\n",
    "    lmbda     = from_what[\"lambda\"]\n",
    "    polyak_alpha = from_what[\"polyak_alpha\"]\n",
    "\n",
    "    pi = GaussianPolicy([idim, w1_pi, odim], std_start=std_start, std_min=std_min)\n",
    "    vfunc = ValueFunctionMLP([idim, w1_vfunc, w2_vfunc, 1])\n",
    "    tvfunc = copy.deepcopy(vfunc)\n",
    "    opt = torch.optim.Adam(pi.parameters(), lr=lr_policy)\n",
    "    copt = torch.optim.Adam(vfunc.parameters(), lr=lr_vfunc)\n",
    "\n",
    "    return train(eps, pi, vfunc, tvfunc, opt, copt, gamma, lmbda, polyak_alpha, \"test\", debug=True)\n",
    "\n",
    "pi, vfunc, rfinal = best_f(50)"
   ]
  }
 ]
}